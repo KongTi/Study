{
  "nbformat": 4,
  "nbformat_minor": 0,
  "metadata": {
    "colab": {
      "provenance": []
    },
    "kernelspec": {
      "name": "python3",
      "display_name": "Python 3"
    },
    "language_info": {
      "name": "python"
    }
  },
  "cells": [
    {
      "cell_type": "markdown",
      "source": [
        "# T-test"
      ],
      "metadata": {
        "id": "Eg4Z8hcDDmCr"
      }
    },
    {
      "cell_type": "code",
      "execution_count": 1,
      "metadata": {
        "id": "RXadVVULOiFh"
      },
      "outputs": [],
      "source": [
        "import numpy as np\n",
        "from scipy.stats import ttest_ind\n",
        "from matplotlib import pyplot as plt"
      ]
    },
    {
      "cell_type": "code",
      "source": [
        "a = np.random.normal(0,1,1000)\n",
        "b = np.random.normal(0,0.5,1000)\n",
        "c = np.random.normal(0.1,1,1000)"
      ],
      "metadata": {
        "id": "stzRS0y5dEKh"
      },
      "execution_count": 2,
      "outputs": []
    },
    {
      "cell_type": "code",
      "source": [
        "print(a.mean())\n",
        "print(b.mean())\n",
        "print(c.mean())"
      ],
      "metadata": {
        "colab": {
          "base_uri": "https://localhost:8080/"
        },
        "id": "1XV5zD9q8U02",
        "outputId": "e39cbc2f-7dd8-4c96-e108-9c87c297eee9"
      },
      "execution_count": 3,
      "outputs": [
        {
          "output_type": "stream",
          "name": "stdout",
          "text": [
            "-0.010454382967016595\n",
            "-0.003513559049901122\n",
            "0.08494838783591534\n"
          ]
        }
      ]
    },
    {
      "cell_type": "code",
      "source": [
        "ttest_ind(a,b)"
      ],
      "metadata": {
        "colab": {
          "base_uri": "https://localhost:8080/"
        },
        "id": "00L0oHd8dU3Y",
        "outputId": "6d93c195-92b8-4519-f12f-9f8929b1463e"
      },
      "execution_count": 4,
      "outputs": [
        {
          "output_type": "execute_result",
          "data": {
            "text/plain": [
              "Ttest_indResult(statistic=-0.19717619348410984, pvalue=0.8437097152433868)"
            ]
          },
          "metadata": {},
          "execution_count": 4
        }
      ]
    },
    {
      "cell_type": "markdown",
      "source": [
        "- a집단과 b집단은 통계적으로 비슷한 환경에서 생성 됐을 것이다."
      ],
      "metadata": {
        "id": "fwqkjg7kCIIp"
      }
    },
    {
      "cell_type": "code",
      "source": [
        "ttest_ind(a,c)"
      ],
      "metadata": {
        "colab": {
          "base_uri": "https://localhost:8080/"
        },
        "id": "_ppUlNh9dXMw",
        "outputId": "a9871cfc-8844-4528-9b3f-b9d9f8443569"
      },
      "execution_count": 5,
      "outputs": [
        {
          "output_type": "execute_result",
          "data": {
            "text/plain": [
              "Ttest_indResult(statistic=-2.15582710436493, pvalue=0.03121622339162003)"
            ]
          },
          "metadata": {},
          "execution_count": 5
        }
      ]
    },
    {
      "cell_type": "markdown",
      "source": [
        "- a집단과 c집단은 생성 환경이 다를 가능성이 많다."
      ],
      "metadata": {
        "id": "5RpTOqr9CMyI"
      }
    },
    {
      "cell_type": "markdown",
      "source": [
        "# 생일의 역설\n",
        "\n",
        "- 한 방에 있는 사람 중 생일이 같은 사람이 적어도 두 명일 확률이 50%를 넘으려면 방에 최소 몇 명이 있어야할까?"
      ],
      "metadata": {
        "id": "0VuJk-36DsKS"
      }
    },
    {
      "cell_type": "markdown",
      "source": [
        "## 무작위로 선택한 한 쌍(2 명)의 생일이 같지 않을 확률은 $\\frac{364}{365}$\n",
        "\n",
        "- 두 쌍(4 명)은 $(\\frac{364}{365})^2$, 세 쌍(6 명)은 $(\\frac{364}{365})^3$,<br/>일반화해서 n 쌍(2n 명): $(\\frac{364}{365})^n$"
      ],
      "metadata": {
        "id": "AHGBbQHzEzZ9"
      }
    },
    {
      "cell_type": "code",
      "source": [
        "for n in range(300):\n",
        "  if ((364/365)**n < 0.5):\n",
        "    print(n)\n",
        "    break"
      ],
      "metadata": {
        "id": "XW0cbbOodZdA",
        "colab": {
          "base_uri": "https://localhost:8080/"
        },
        "outputId": "f3447f4c-63bd-4e0a-f187-69bd896143c7"
      },
      "execution_count": 6,
      "outputs": [
        {
          "output_type": "stream",
          "name": "stdout",
          "text": [
            "253\n"
          ]
        }
      ]
    },
    {
      "cell_type": "markdown",
      "source": [
        "- 253쌍을 비교하면 한 쌍은 생일이 같을 확률이 50%가 넘게 된다\n",
        "- m개에서 k개를 선택하는 조합을 이용하여 사람 수를 구하면 된다\n",
        "\n",
        "# $_mC_k=\\frac{m!}{k!(m-k)!}$"
      ],
      "metadata": {
        "id": "U3AZXGKjGK4j"
      }
    },
    {
      "cell_type": "markdown",
      "source": [
        "# $\\frac{23!}{2!(23-2)!}=\\frac{23\\times22}{2}=253$"
      ],
      "metadata": {
        "id": "8GHHX5tUGpOm"
      }
    },
    {
      "cell_type": "markdown",
      "source": [
        "코드로 시뮬레이션을 돌려보자!"
      ],
      "metadata": {
        "id": "tX-3C6YGHHFU"
      }
    },
    {
      "cell_type": "code",
      "source": [
        "match_list = []\n",
        "for m in range(2,31):\n",
        "  matches = 0\n",
        "  for n in range(10000):\n",
        "    match = 0\n",
        "    b = np.random.randint(0,364,m)\n",
        "    for i in range(m):\n",
        "      for j in range(m):\n",
        "        if (i != j) and (b[i] == b[j]):\n",
        "          match += 1\n",
        "    if (match != 0):\n",
        "      matches += 1\n",
        "  match_list.append(matches/10000)\n",
        "  print(f\"{m}명 중 생일이 같은 한 쌍이 있을 확률: {matches/10000}\")"
      ],
      "metadata": {
        "colab": {
          "base_uri": "https://localhost:8080/"
        },
        "id": "SkV500g8GIHb",
        "outputId": "58f37f95-4ee1-4975-b21a-7da7520c11d7"
      },
      "execution_count": 7,
      "outputs": [
        {
          "output_type": "stream",
          "name": "stdout",
          "text": [
            "2명 중 생일이 같은 한 쌍이 있을 확률: 0.0038\n",
            "3명 중 생일이 같은 한 쌍이 있을 확률: 0.0081\n",
            "4명 중 생일이 같은 한 쌍이 있을 확률: 0.0166\n",
            "5명 중 생일이 같은 한 쌍이 있을 확률: 0.0254\n",
            "6명 중 생일이 같은 한 쌍이 있을 확률: 0.0387\n",
            "7명 중 생일이 같은 한 쌍이 있을 확률: 0.0567\n",
            "8명 중 생일이 같은 한 쌍이 있을 확률: 0.0767\n",
            "9명 중 생일이 같은 한 쌍이 있을 확률: 0.0968\n",
            "10명 중 생일이 같은 한 쌍이 있을 확률: 0.1226\n",
            "11명 중 생일이 같은 한 쌍이 있을 확률: 0.1374\n",
            "12명 중 생일이 같은 한 쌍이 있을 확률: 0.1616\n",
            "13명 중 생일이 같은 한 쌍이 있을 확률: 0.199\n",
            "14명 중 생일이 같은 한 쌍이 있을 확률: 0.2352\n",
            "15명 중 생일이 같은 한 쌍이 있을 확률: 0.2586\n",
            "16명 중 생일이 같은 한 쌍이 있을 확률: 0.2832\n",
            "17명 중 생일이 같은 한 쌍이 있을 확률: 0.312\n",
            "18명 중 생일이 같은 한 쌍이 있을 확률: 0.3437\n",
            "19명 중 생일이 같은 한 쌍이 있을 확률: 0.3851\n",
            "20명 중 생일이 같은 한 쌍이 있을 확률: 0.4095\n",
            "21명 중 생일이 같은 한 쌍이 있을 확률: 0.4365\n",
            "22명 중 생일이 같은 한 쌍이 있을 확률: 0.4769\n",
            "23명 중 생일이 같은 한 쌍이 있을 확률: 0.5098\n",
            "24명 중 생일이 같은 한 쌍이 있을 확률: 0.5428\n",
            "25명 중 생일이 같은 한 쌍이 있을 확률: 0.5719\n",
            "26명 중 생일이 같은 한 쌍이 있을 확률: 0.5985\n",
            "27명 중 생일이 같은 한 쌍이 있을 확률: 0.6335\n",
            "28명 중 생일이 같은 한 쌍이 있을 확률: 0.6511\n",
            "29명 중 생일이 같은 한 쌍이 있을 확률: 0.674\n",
            "30명 중 생일이 같은 한 쌍이 있을 확률: 0.7086\n"
          ]
        }
      ]
    },
    {
      "cell_type": "code",
      "source": [
        "plt.plot(range(1,len(match_list)+1),match_list,marker='o')\n",
        "plt.axhline(y=0.5,linestyle=':',color='red')"
      ],
      "metadata": {
        "colab": {
          "base_uri": "https://localhost:8080/",
          "height": 283
        },
        "id": "e9R4hMpyJ-59",
        "outputId": "6e37101e-66b8-48c6-81bc-e86aa7e5757f"
      },
      "execution_count": 8,
      "outputs": [
        {
          "output_type": "execute_result",
          "data": {
            "text/plain": [
              "<matplotlib.lines.Line2D at 0x7ff3a76aba30>"
            ]
          },
          "metadata": {},
          "execution_count": 8
        },
        {
          "output_type": "display_data",
          "data": {
            "text/plain": [
              "<Figure size 432x288 with 1 Axes>"
            ],
            "image/png": "[encoded data removed]"
          },
          "metadata": {
            "needs_background": "light"
          }
        }
      ]
    },
    {
      "cell_type": "markdown",
      "source": [
        "# 조건부 확률\n",
        "\n",
        "- 사건 A가 사건 B에 영향을 미치게 되면 이땐 조건부 확률을 적용해야 된다.<br/>(예를 들면, 빨간/파란 구슬이 들어있는 주머니에서 구슬을 뽑고 넣지않고 뽑을 때)"
      ],
      "metadata": {
        "id": "aLiTlnfGLU5G"
      }
    },
    {
      "cell_type": "markdown",
      "source": [
        "## 조건부 확률을 연쇄법칙화 할 수 있는데 (미분의 Chain Rule 같은 것처럼) 일반형은\n",
        "\n",
        "# $P(X_n, X_{n-1}..., X_1)=\\overset{n}{\\underset{i=1}{\\Pi}}P(X_i|\\overset{i-1}{\\underset{j=1}{\\cap}}X_j)$\n",
        "\n",
        "## 쉽게 예를 들면 $P(X, Y, Z)=P(X|Y, Z)P(Y, Z)=P(X|Y, Z)P(Y|Z)P(Z)$인데<br/>Z가 발생할 확률, Z가 발생했을 때 Y가 발생할 확률, Y, Z가 발생했을 때 X가 발생할 확률을 곱한 것"
      ],
      "metadata": {
        "id": "aOVeLWsuL-bu"
      }
    },
    {
      "cell_type": "markdown",
      "source": [
        "예를 들어 50명의 사람이 참석한 곳에서 미국을 다녀온 사람이 4명이라고 가정할 때,<br/>무작위로 3명을 뽑았을 때 아무도 미국에 간 적이 없을 확률을 구하자\n",
        "\n",
        "사람 한명을 뽑을 수록 다음 한명을 뽑을 때 전체 인원이 줄어들기 때문에 조건부 확률을 적용한다\n",
        "\n",
        "코드로....!!"
      ],
      "metadata": {
        "id": "Sb442VYsN8jf"
      }
    },
    {
      "cell_type": "code",
      "source": [
        "nb = 0\n",
        "N = 100000\n",
        "for i in range(N):\n",
        "  s = np.random.randint(0,50,3)\n",
        "  fail = False\n",
        "  for t in range(3):\n",
        "    if (s[t] < 4):\n",
        "      fail = True\n",
        "  if (not fail):\n",
        "    nb += 1\n",
        "print(f\"확률은 {nb/N*100}%\")"
      ],
      "metadata": {
        "colab": {
          "base_uri": "https://localhost:8080/"
        },
        "id": "mAPf5MENKbB_",
        "outputId": "d98d9e9f-b935-42b3-f495-74b64f21dec5"
      },
      "execution_count": 9,
      "outputs": [
        {
          "output_type": "stream",
          "name": "stdout",
          "text": [
            "확률은 77.81%\n"
          ]
        }
      ]
    }
  ]
}