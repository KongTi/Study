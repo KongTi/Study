{
 "cells": [
  {
   "cell_type": "markdown",
   "metadata": {},
   "source": [
    "# Classification Evaluation Measure"
   ]
  },
  {
   "cell_type": "markdown",
   "metadata": {},
   "source": [
    "## Accuracy"
   ]
  },
  {
   "cell_type": "markdown",
   "metadata": {},
   "source": [
    "**정확도 = 예측결과가 동일한 데이터 수 / 전체 예측 데이터 수**\n",
    "\n",
    "* 단순한 이진 분류의 경우 (Binominal) 모델의 성능을 외곡할 가능성이 있음\n",
    "* 정확도는 목표변수가 불균형한 경우, 적합한 평가지표가 될 수 없음"
   ]
  },
  {
   "cell_type": "code",
   "execution_count": 3,
   "metadata": {
    "collapsed": true
   },
   "outputs": [
    {
     "name": "stderr",
     "output_type": "stream",
     "text": [
      "C:\\ProgramData\\Anaconda3\\lib\\site-packages\\sklearn\\cross_validation.py:41: DeprecationWarning: This module was deprecated in version 0.18 in favor of the model_selection module into which all the refactored classes and functions are moved. Also note that the interface of the new CV iterators are different from that of this module. This module will be removed in 0.20.\n",
      "  \"This module will be removed in 0.20.\", DeprecationWarning)\n"
     ]
    }
   ],
   "source": [
    "import pandas as pd \n",
    "import numpy as np\n",
    "import seaborn as sns\n",
    "import matplotlib as mpl\n",
    "import matplotlib.pyplot as plt\n",
    "\n",
    "from sklearn.cross_validation import train_test_split\n",
    "from sklearn.metrics import classification_report, confusion_matrix, accuracy_score,r2_score, precision_score,recall_score"
   ]
  },
  {
   "cell_type": "code",
   "execution_count": 4,
   "metadata": {},
   "outputs": [],
   "source": [
    "# 그래프 시각화 옵션 \n",
    "%matplotlib inline\n",
    "\n",
    "# 그래프의 한글 폰트를 설정 \n",
    "mpl.rc('font', family = \"Malgun Gothic\") #맑은 고딕 설정 \n",
    "\n",
    "#그래프의 한글을 더욱 선명하게 출력 \n",
    "from IPython.display import set_matplotlib_formats\n",
    "set_matplotlib_formats('retina')\n",
    "\n",
    "#그래프에서 음수값이 나올때, 깨지는 현상 방지 \n",
    "mpl.rc('axes', unicode_minus = False)"
   ]
  },
  {
   "cell_type": "code",
   "execution_count": 5,
   "metadata": {},
   "outputs": [
    {
     "name": "stdout",
     "output_type": "stream",
     "text": [
      "(51304, 15)\n"
     ]
    },
    {
     "data": {
      "text/html": [
       "<div>\n",
       "<style scoped>\n",
       "    .dataframe tbody tr th:only-of-type {\n",
       "        vertical-align: middle;\n",
       "    }\n",
       "\n",
       "    .dataframe tbody tr th {\n",
       "        vertical-align: top;\n",
       "    }\n",
       "\n",
       "    .dataframe thead th {\n",
       "        text-align: right;\n",
       "    }\n",
       "</style>\n",
       "<table border=\"1\" class=\"dataframe\">\n",
       "  <thead>\n",
       "    <tr style=\"text-align: right;\">\n",
       "      <th></th>\n",
       "      <th>고객ID</th>\n",
       "      <th>판매유형</th>\n",
       "      <th>계약유형</th>\n",
       "      <th>유통경로</th>\n",
       "      <th>계약일</th>\n",
       "      <th>계약기간</th>\n",
       "      <th>납부유형</th>\n",
       "      <th>제품군</th>\n",
       "      <th>월랜탈비용</th>\n",
       "      <th>계약상태</th>\n",
       "      <th>연체건수</th>\n",
       "      <th>연체여부</th>\n",
       "      <th>신용등급</th>\n",
       "      <th>결제은행</th>\n",
       "      <th>해약여부</th>\n",
       "    </tr>\n",
       "  </thead>\n",
       "  <tbody>\n",
       "    <tr>\n",
       "      <th>0</th>\n",
       "      <td>66758234</td>\n",
       "      <td>렌탈</td>\n",
       "      <td>일반</td>\n",
       "      <td>서비스 방문</td>\n",
       "      <td>10-20-2014</td>\n",
       "      <td>60</td>\n",
       "      <td>CMS</td>\n",
       "      <td>DES-1</td>\n",
       "      <td>96900</td>\n",
       "      <td>계약확정</td>\n",
       "      <td>0</td>\n",
       "      <td>없음</td>\n",
       "      <td>9.0</td>\n",
       "      <td>새마을금고</td>\n",
       "      <td>정상</td>\n",
       "    </tr>\n",
       "    <tr>\n",
       "      <th>1</th>\n",
       "      <td>66755948</td>\n",
       "      <td>렌탈</td>\n",
       "      <td>교체렌탈</td>\n",
       "      <td>서비스 방문</td>\n",
       "      <td>10-20-2014</td>\n",
       "      <td>60</td>\n",
       "      <td>카드이체</td>\n",
       "      <td>DES-1</td>\n",
       "      <td>102900</td>\n",
       "      <td>계약확정</td>\n",
       "      <td>0</td>\n",
       "      <td>없음</td>\n",
       "      <td>2.0</td>\n",
       "      <td>현대카드</td>\n",
       "      <td>정상</td>\n",
       "    </tr>\n",
       "    <tr>\n",
       "      <th>2</th>\n",
       "      <td>66756657</td>\n",
       "      <td>렌탈</td>\n",
       "      <td>일반</td>\n",
       "      <td>홈쇼핑/방송</td>\n",
       "      <td>10-20-2014</td>\n",
       "      <td>60</td>\n",
       "      <td>CMS</td>\n",
       "      <td>DES-1</td>\n",
       "      <td>96900</td>\n",
       "      <td>계약확정</td>\n",
       "      <td>0</td>\n",
       "      <td>없음</td>\n",
       "      <td>8.0</td>\n",
       "      <td>우리은행</td>\n",
       "      <td>정상</td>\n",
       "    </tr>\n",
       "    <tr>\n",
       "      <th>3</th>\n",
       "      <td>66423450</td>\n",
       "      <td>멤버십</td>\n",
       "      <td>멤버십S</td>\n",
       "      <td>렌탈재계약</td>\n",
       "      <td>10-20-2014</td>\n",
       "      <td>12</td>\n",
       "      <td>CMS</td>\n",
       "      <td>DES-1</td>\n",
       "      <td>66900</td>\n",
       "      <td>계약확정</td>\n",
       "      <td>0</td>\n",
       "      <td>없음</td>\n",
       "      <td>5.0</td>\n",
       "      <td>농협회원조합</td>\n",
       "      <td>정상</td>\n",
       "    </tr>\n",
       "    <tr>\n",
       "      <th>4</th>\n",
       "      <td>66423204</td>\n",
       "      <td>멤버십</td>\n",
       "      <td>멤버십S</td>\n",
       "      <td>렌탈재계약</td>\n",
       "      <td>10-20-2014</td>\n",
       "      <td>12</td>\n",
       "      <td>CMS</td>\n",
       "      <td>DES-1</td>\n",
       "      <td>66900</td>\n",
       "      <td>해약확정</td>\n",
       "      <td>12</td>\n",
       "      <td>있음</td>\n",
       "      <td>8.0</td>\n",
       "      <td>농협회원조합</td>\n",
       "      <td>해약</td>\n",
       "    </tr>\n",
       "  </tbody>\n",
       "</table>\n",
       "</div>"
      ],
      "text/plain": [
       "       고객ID 판매유형  계약유형    유통경로         계약일  계약기간  납부유형    제품군   월랜탈비용  계약상태  \\\n",
       "0  66758234   렌탈    일반  서비스 방문  10-20-2014    60   CMS  DES-1   96900  계약확정   \n",
       "1  66755948   렌탈  교체렌탈  서비스 방문  10-20-2014    60  카드이체  DES-1  102900  계약확정   \n",
       "2  66756657   렌탈    일반  홈쇼핑/방송  10-20-2014    60   CMS  DES-1   96900  계약확정   \n",
       "3  66423450  멤버십  멤버십S   렌탈재계약  10-20-2014    12   CMS  DES-1   66900  계약확정   \n",
       "4  66423204  멤버십  멤버십S   렌탈재계약  10-20-2014    12   CMS  DES-1   66900  해약확정   \n",
       "\n",
       "   연체건수 연체여부  신용등급    결제은행 해약여부  \n",
       "0     0   없음   9.0   새마을금고   정상  \n",
       "1     0   없음   2.0    현대카드   정상  \n",
       "2     0   없음   8.0    우리은행   정상  \n",
       "3     0   없음   5.0  농협회원조합   정상  \n",
       "4    12   있음   8.0  농협회원조합   해약  "
      ]
     },
     "execution_count": 5,
     "metadata": {},
     "output_type": "execute_result"
    }
   ],
   "source": [
    "df1 = pd.read_csv(\"ex2.csv\")\n",
    "print(df1.shape)\n",
    "df1.head()"
   ]
  },
  {
   "cell_type": "code",
   "execution_count": 6,
   "metadata": {},
   "outputs": [
    {
     "data": {
      "text/plain": [
       "정상    50372\n",
       "해약      907\n",
       "Name: 해약여부, dtype: int64"
      ]
     },
     "execution_count": 6,
     "metadata": {},
     "output_type": "execute_result"
    }
   ],
   "source": [
    "df1['해약여부'].value_counts()"
   ]
  },
  {
   "cell_type": "code",
   "execution_count": 7,
   "metadata": {},
   "outputs": [
    {
     "data": {
      "text/plain": [
       "고객ID        0\n",
       "판매유형        4\n",
       "계약유형        1\n",
       "유통경로        0\n",
       "계약일         0\n",
       "계약기간        0\n",
       "납부유형        0\n",
       "제품군         1\n",
       "월랜탈비용       0\n",
       "계약상태        0\n",
       "연체건수        0\n",
       "연체여부        2\n",
       "신용등급     8783\n",
       "결제은행     2760\n",
       "해약여부       25\n",
       "dtype: int64"
      ]
     },
     "execution_count": 7,
     "metadata": {},
     "output_type": "execute_result"
    }
   ],
   "source": [
    "df1.isnull().sum()"
   ]
  },
  {
   "cell_type": "code",
   "execution_count": 8,
   "metadata": {},
   "outputs": [],
   "source": [
    "data = df1[['판매유형', '계약유형','계약기간',\n",
    "            '납부유형', '제품군', '월랜탈비용','해약여부']].dropna()"
   ]
  },
  {
   "cell_type": "code",
   "execution_count": 9,
   "metadata": {},
   "outputs": [
    {
     "name": "stdout",
     "output_type": "stream",
     "text": [
      "(51273, 6)\n",
      "(51273, 1)\n"
     ]
    }
   ],
   "source": [
    "X = data[['판매유형', '계약유형','계약기간','납부유형', '제품군', '월랜탈비용']]\n",
    "Y = data[['해약여부']]\n",
    "Y = Y.replace('해약',1).replace('정상',0)\n",
    "\n",
    "print(X.shape)\n",
    "print(Y.shape)"
   ]
  },
  {
   "cell_type": "code",
   "execution_count": 10,
   "metadata": {},
   "outputs": [],
   "source": [
    "X = pd.get_dummies(X)"
   ]
  },
  {
   "cell_type": "code",
   "execution_count": 11,
   "metadata": {},
   "outputs": [
    {
     "name": "stdout",
     "output_type": "stream",
     "text": [
      "Train X :  (35891, 24)\n",
      "Test X :  (15382, 24)\n",
      "Train Y :  (35891, 1)\n",
      "Test Y :  (15382, 1)\n"
     ]
    }
   ],
   "source": [
    "X_train, X_test, Y_train, Y_test = train_test_split(X,Y,test_size=0.3,random_state=1234)\n",
    "\n",
    "print(\"Train X : \",X_train.shape)\n",
    "print(\"Test X : \",X_test.shape)\n",
    "print(\"Train Y : \",Y_train.shape)\n",
    "print(\"Test Y : \",Y_test.shape)"
   ]
  },
  {
   "cell_type": "code",
   "execution_count": 12,
   "metadata": {},
   "outputs": [
    {
     "data": {
      "text/plain": [
       "0.983"
      ]
     },
     "execution_count": 12,
     "metadata": {},
     "output_type": "execute_result"
    }
   ],
   "source": [
    "from sklearn.tree import DecisionTreeClassifier\n",
    "\n",
    "model = DecisionTreeClassifier()\n",
    "model.fit(X_train,Y_train)\n",
    "Y_pred = model.predict(X_train)\n",
    "Y_pred_test = model.predict(X_test)\n",
    "\n",
    "accuracy_score(Y_test,Y_pred_test).round(3)"
   ]
  },
  {
   "cell_type": "markdown",
   "metadata": {},
   "source": [
    "## Confusion Matrix\n"
   ]
  },
  {
   "cell_type": "markdown",
   "metadata": {},
   "source": [
    "* 오차행렬 (Confusion Matrix)\n",
    "* 오차행렬의 값을 이용해, 정확도(Accuracy), 정밀도(Precision), 재현율(Recall) 값을 계산 할 수 있다.  \n",
    "![img1](https://www.researchgate.net/profile/Juan_Banda/publication/256418526/figure/fig1/AS:297921313558528@1448041384565/Confusion-matrix-example.png)"
   ]
  },
  {
   "cell_type": "markdown",
   "metadata": {},
   "source": [
    "* 이진 분류 모델에서, 찾아야하는 적은 수 결과 값에 Positive(1), 나머지 대다수의 값에 Negative(0)값을 부여함 \n",
    "* 불균형한 이진데이터에서는 Negative 쪽으로 예측 정확도가 높은 경향을 나타낸다."
   ]
  },
  {
   "cell_type": "code",
   "execution_count": 13,
   "metadata": {},
   "outputs": [
    {
     "data": {
      "text/plain": [
       "array([[15111,     1],\n",
       "       [  263,     7]], dtype=int64)"
      ]
     },
     "execution_count": 13,
     "metadata": {},
     "output_type": "execute_result"
    }
   ],
   "source": [
    "confusion_matrix(Y_test,Y_pred_test)"
   ]
  },
  {
   "cell_type": "code",
   "execution_count": 14,
   "metadata": {},
   "outputs": [
    {
     "data": {
      "text/plain": [
       "Text(0.5,15.5781,'Predicted label')"
      ]
     },
     "execution_count": 14,
     "metadata": {},
     "output_type": "execute_result"
    },
    {
     "data": {
      "image/png": "[encoded data removed]",
      "text/plain": [
       "<Figure size 432x288 with 2 Axes>"
      ]
     },
     "metadata": {
      "image/png": {
       "height": 266,
       "width": 376
      }
     },
     "output_type": "display_data"
    }
   ],
   "source": [
    "cm = pd.DataFrame(confusion_matrix(Y_test, Y_pred_test), columns=['정상','해약'], index=['정상','해약'])\n",
    "sns.heatmap(cm, annot=True)\n",
    "plt.ylabel('Actual label')\n",
    "plt.xlabel('Predicted label')"
   ]
  },
  {
   "cell_type": "markdown",
   "metadata": {},
   "source": [
    "## Precision & Recall"
   ]
  },
  {
   "cell_type": "markdown",
   "metadata": {},
   "source": [
    "**정밀도 (Precision) : True Positive / (False Positive + True Positive)**\n",
    "* 예측을 Positive로 한 대상 중에 예측값과 실제값이 Positive로 일치한 데이터의 비율 \n",
    "* Positive 예측 성능을 더욱 정밀하게 측정하기 위한 평가 지표 (양측 예측도)\n",
    "* 문제가 없는 데이터를 문제가 있다고 잘못 판단할 때 발생하는 이슈를 나타내는 지표\n",
    "* False Positive를 낮추는데 초점을 둠 \n",
    "\n",
    "**재현률 (Recall) : True Positive / (False Negative + True Positive)**\n",
    "* 실제값이 Positive인 대상 중에서 예측값과 실제값이 Positive로 일치한 데이터의 비율 \n",
    "* 민감도(Sensitivity) 또는 TPR(True Positive Rate)로 불림\n",
    "* 실제 문제가 있는 데이터를 문제가 없다고 잘못 판단할 때 발생하는 이슈를 나타내는 지표\n",
    "* False Negative을 낮추는데 초점을 둠\n",
    "\n",
    "\n",
    "**두 수치가 모두 좋아야 하며 하나라도 낮은 경우, 바람직하지 않은 모델이라 판단**"
   ]
  },
  {
   "cell_type": "code",
   "execution_count": 15,
   "metadata": {},
   "outputs": [
    {
     "name": "stdout",
     "output_type": "stream",
     "text": [
      "Precision :  0.875\n",
      "Recall :  0.025925925925925925\n"
     ]
    }
   ],
   "source": [
    "print(\"Precision : \",precision_score(Y_test,Y_pred_test))\n",
    "print(\"Recall : \",recall_score(Y_test,Y_pred_test))"
   ]
  },
  {
   "cell_type": "markdown",
   "metadata": {},
   "source": [
    "* 정밀도에 비해 재현률이 매우 낮게나옴, 즉 문제가 있는 데이터를 문제가 없다고 판단할 가능성이 매우 높음 "
   ]
  },
  {
   "cell_type": "markdown",
   "metadata": {},
   "source": [
    "## Precision & Recall Trade - Off "
   ]
  },
  {
   "cell_type": "markdown",
   "metadata": {},
   "source": [
    "* 정밀도나 재현률을 특별히 강조해야할 경우, Threshold를 조정하여, 정밀도 또는 재현률을 높일 수 있다. \n",
    "* 그러나, 한 쪽을 강제로 높이면, 다른 한 쪽이 낮아질 가능성이 있음 (Trade-Off)\n",
    "* predict_proba() : 개별 데이터 별로 예측확률을 반환 \n",
    "    * 첫번째 Column : 지정된 레이블 0값으로 예측할 확률\n",
    "    * 두번째 Column : 지정된 레이블 1값으로 예측할 확률"
   ]
  },
  {
   "cell_type": "code",
   "execution_count": 16,
   "metadata": {
    "scrolled": true
   },
   "outputs": [
    {
     "data": {
      "text/html": [
       "<div>\n",
       "<style scoped>\n",
       "    .dataframe tbody tr th:only-of-type {\n",
       "        vertical-align: middle;\n",
       "    }\n",
       "\n",
       "    .dataframe tbody tr th {\n",
       "        vertical-align: top;\n",
       "    }\n",
       "\n",
       "    .dataframe thead th {\n",
       "        text-align: right;\n",
       "    }\n",
       "</style>\n",
       "<table border=\"1\" class=\"dataframe\">\n",
       "  <thead>\n",
       "    <tr style=\"text-align: right;\">\n",
       "      <th></th>\n",
       "      <th>0</th>\n",
       "      <th>1</th>\n",
       "    </tr>\n",
       "  </thead>\n",
       "  <tbody>\n",
       "    <tr>\n",
       "      <th>0</th>\n",
       "      <td>0.996865</td>\n",
       "      <td>0.003135</td>\n",
       "    </tr>\n",
       "    <tr>\n",
       "      <th>1</th>\n",
       "      <td>0.995977</td>\n",
       "      <td>0.004023</td>\n",
       "    </tr>\n",
       "    <tr>\n",
       "      <th>2</th>\n",
       "      <td>0.986330</td>\n",
       "      <td>0.013670</td>\n",
       "    </tr>\n",
       "    <tr>\n",
       "      <th>3</th>\n",
       "      <td>0.995334</td>\n",
       "      <td>0.004666</td>\n",
       "    </tr>\n",
       "    <tr>\n",
       "      <th>4</th>\n",
       "      <td>0.995977</td>\n",
       "      <td>0.004023</td>\n",
       "    </tr>\n",
       "  </tbody>\n",
       "</table>\n",
       "</div>"
      ],
      "text/plain": [
       "          0         1\n",
       "0  0.996865  0.003135\n",
       "1  0.995977  0.004023\n",
       "2  0.986330  0.013670\n",
       "3  0.995334  0.004666\n",
       "4  0.995977  0.004023"
      ]
     },
     "execution_count": 16,
     "metadata": {},
     "output_type": "execute_result"
    }
   ],
   "source": [
    "pd.DataFrame(model.predict_proba(X_test)).head()"
   ]
  },
  {
   "cell_type": "code",
   "execution_count": 17,
   "metadata": {},
   "outputs": [
    {
     "data": {
      "text/html": [
       "<div>\n",
       "<style scoped>\n",
       "    .dataframe tbody tr th:only-of-type {\n",
       "        vertical-align: middle;\n",
       "    }\n",
       "\n",
       "    .dataframe tbody tr th {\n",
       "        vertical-align: top;\n",
       "    }\n",
       "\n",
       "    .dataframe thead th {\n",
       "        text-align: right;\n",
       "    }\n",
       "</style>\n",
       "<table border=\"1\" class=\"dataframe\">\n",
       "  <thead>\n",
       "    <tr style=\"text-align: right;\">\n",
       "      <th></th>\n",
       "      <th>0</th>\n",
       "    </tr>\n",
       "  </thead>\n",
       "  <tbody>\n",
       "    <tr>\n",
       "      <th>0</th>\n",
       "      <td>0</td>\n",
       "    </tr>\n",
       "    <tr>\n",
       "      <th>1</th>\n",
       "      <td>0</td>\n",
       "    </tr>\n",
       "    <tr>\n",
       "      <th>2</th>\n",
       "      <td>0</td>\n",
       "    </tr>\n",
       "    <tr>\n",
       "      <th>3</th>\n",
       "      <td>0</td>\n",
       "    </tr>\n",
       "    <tr>\n",
       "      <th>4</th>\n",
       "      <td>0</td>\n",
       "    </tr>\n",
       "  </tbody>\n",
       "</table>\n",
       "</div>"
      ],
      "text/plain": [
       "   0\n",
       "0  0\n",
       "1  0\n",
       "2  0\n",
       "3  0\n",
       "4  0"
      ]
     },
     "execution_count": 17,
     "metadata": {},
     "output_type": "execute_result"
    }
   ],
   "source": [
    "pd.DataFrame( model.predict(X_test)).head()"
   ]
  },
  {
   "cell_type": "code",
   "execution_count": 18,
   "metadata": {},
   "outputs": [
    {
     "data": {
      "text/html": [
       "<div>\n",
       "<style scoped>\n",
       "    .dataframe tbody tr th:only-of-type {\n",
       "        vertical-align: middle;\n",
       "    }\n",
       "\n",
       "    .dataframe tbody tr th {\n",
       "        vertical-align: top;\n",
       "    }\n",
       "\n",
       "    .dataframe thead th {\n",
       "        text-align: right;\n",
       "    }\n",
       "</style>\n",
       "<table border=\"1\" class=\"dataframe\">\n",
       "  <thead>\n",
       "    <tr style=\"text-align: right;\">\n",
       "      <th></th>\n",
       "      <th>정상확률</th>\n",
       "      <th>해약확률</th>\n",
       "      <th>예측(해약)</th>\n",
       "    </tr>\n",
       "  </thead>\n",
       "  <tbody>\n",
       "    <tr>\n",
       "      <th>0</th>\n",
       "      <td>0.996865</td>\n",
       "      <td>0.003135</td>\n",
       "      <td>0.0</td>\n",
       "    </tr>\n",
       "    <tr>\n",
       "      <th>1</th>\n",
       "      <td>0.995977</td>\n",
       "      <td>0.004023</td>\n",
       "      <td>0.0</td>\n",
       "    </tr>\n",
       "    <tr>\n",
       "      <th>2</th>\n",
       "      <td>0.986330</td>\n",
       "      <td>0.013670</td>\n",
       "      <td>0.0</td>\n",
       "    </tr>\n",
       "    <tr>\n",
       "      <th>3</th>\n",
       "      <td>0.995334</td>\n",
       "      <td>0.004666</td>\n",
       "      <td>0.0</td>\n",
       "    </tr>\n",
       "    <tr>\n",
       "      <th>4</th>\n",
       "      <td>0.995977</td>\n",
       "      <td>0.004023</td>\n",
       "      <td>0.0</td>\n",
       "    </tr>\n",
       "  </tbody>\n",
       "</table>\n",
       "</div>"
      ],
      "text/plain": [
       "       정상확률      해약확률  예측(해약)\n",
       "0  0.996865  0.003135     0.0\n",
       "1  0.995977  0.004023     0.0\n",
       "2  0.986330  0.013670     0.0\n",
       "3  0.995334  0.004666     0.0\n",
       "4  0.995977  0.004023     0.0"
      ]
     },
     "execution_count": 18,
     "metadata": {},
     "output_type": "execute_result"
    }
   ],
   "source": [
    "result = np.concatenate([model.predict_proba(X_test), model.predict(X_test).reshape(-1,1)],axis=1)\n",
    "pd.DataFrame(result, columns=['정상확률','해약확률','예측(해약)']).head()"
   ]
  },
  {
   "cell_type": "markdown",
   "metadata": {},
   "source": [
    "* 분류기법은 위에 계산된 두 값중 더 큰 값으로 예측을 실시하게 되는 원리 \n",
    "* 위의 분류 결정 임계값을 설정하여, 예측값을 다르게 구할 수 있음 \n",
    "* Threshold를 다르게 주어, 해약할 확률이 0.01만 넘어도 **\"해약\"** 으로 예측 "
   ]
  },
  {
   "cell_type": "code",
   "execution_count": 19,
   "metadata": {},
   "outputs": [
    {
     "data": {
      "text/plain": [
       "array([[0.],\n",
       "       [0.],\n",
       "       [0.],\n",
       "       ...,\n",
       "       [0.],\n",
       "       [0.],\n",
       "       [0.]])"
      ]
     },
     "execution_count": 19,
     "metadata": {},
     "output_type": "execute_result"
    }
   ],
   "source": [
    "from sklearn.preprocessing import Binarizer\n",
    "\n",
    "customer_threshold = 0.15\n",
    "Binarizer(threshold = customer_threshold)\n",
    "\n",
    "prdict_proba = model.predict_proba(X_test)\n",
    "\n",
    "# reshape 함수는 한행으로 이어진 array를 열로 변환\n",
    "prdict_proba_col = prdict_proba[:,1].reshape(-1,1)\n",
    "\n",
    "# 새로운 임계값을 적용 \n",
    "customer_Binarizer = Binarizer(threshold = customer_threshold).fit(prdict_proba_col)\n",
    "customer_Predict = customer_Binarizer.transform(prdict_proba_col)\n",
    "\n",
    "# 새로운 임계값으로 계산된 새로운 예측값 \n",
    "customer_Predict"
   ]
  },
  {
   "cell_type": "markdown",
   "metadata": {},
   "source": [
    "**결과 확인**"
   ]
  },
  {
   "cell_type": "code",
   "execution_count": 20,
   "metadata": {},
   "outputs": [
    {
     "data": {
      "text/plain": [
       "array([[14571,   541],\n",
       "       [  130,   140]], dtype=int64)"
      ]
     },
     "execution_count": 20,
     "metadata": {},
     "output_type": "execute_result"
    }
   ],
   "source": [
    "# 결과 확인 \n",
    "confusion_matrix(Y_test,customer_Predict)"
   ]
  },
  {
   "cell_type": "code",
   "execution_count": 21,
   "metadata": {},
   "outputs": [
    {
     "data": {
      "text/plain": [
       "Text(0.5,15.5781,'Predicted label')"
      ]
     },
     "execution_count": 21,
     "metadata": {},
     "output_type": "execute_result"
    },
    {
     "data": {
      "image/png": "[encoded data removed]",
      "text/plain": [
       "<Figure size 432x288 with 2 Axes>"
      ]
     },
     "metadata": {
      "image/png": {
       "height": 265,
       "width": 376
      }
     },
     "output_type": "display_data"
    }
   ],
   "source": [
    "cm = pd.DataFrame(confusion_matrix(Y_test, customer_Predict), columns=['정상','해약'], index=['정상','해약'])\n",
    "sns.heatmap(cm, annot=True)\n",
    "plt.ylabel('Actual label')\n",
    "plt.xlabel('Predicted label')"
   ]
  },
  {
   "cell_type": "code",
   "execution_count": 22,
   "metadata": {},
   "outputs": [
    {
     "name": "stdout",
     "output_type": "stream",
     "text": [
      "Accuracy :  0.956\n",
      "Precision :  0.2055800293685756\n",
      "Recall :  0.5185185185185185\n"
     ]
    }
   ],
   "source": [
    "print(\"Accuracy : \",accuracy_score(Y_test,customer_Predict).round(3))\n",
    "print(\"Precision : \",precision_score(Y_test,customer_Predict))\n",
    "print(\"Recall : \",recall_score(Y_test,customer_Predict))"
   ]
  },
  {
   "cell_type": "markdown",
   "metadata": {},
   "source": [
    "* 임계값을 바꾼 결과, 재현율이 높아짐을 볼 수 있음"
   ]
  },
  {
   "cell_type": "markdown",
   "metadata": {},
   "source": [
    "**Sklearn API 를 이용한 Precision과 Recall Curve**"
   ]
  },
  {
   "cell_type": "code",
   "execution_count": 23,
   "metadata": {},
   "outputs": [],
   "source": [
    "from sklearn.metrics import precision_recall_curve\n",
    "\n",
    "# Test Set으로 Model을 적용했을 때, 해약일 확률 값 \n",
    "prdict_proba_class1 = model.predict_proba(X_test)[:,1]"
   ]
  },
  {
   "cell_type": "code",
   "execution_count": 24,
   "metadata": {},
   "outputs": [],
   "source": [
    "def precision_recall_curve_plot(Y_test, prdict_proba_class1):\n",
    "    precisions, recalls, thresholds = precision_recall_curve(Y_test, prdict_proba_class1)\n",
    "    \n",
    "    plt.figure(figsize=[10,10])\n",
    "    threshold_boundary = thresholds.shape[0]\n",
    "    plt.plot(thresholds, precisions[0:threshold_boundary], linestyle='--',label='precision')\n",
    "    plt.plot(thresholds, recalls[0:threshold_boundary], label='recall')\n",
    "    \n",
    "    # 그래프 X축 Scaling (Scale 단위를 0.1로 지정)\n",
    "    start ,end = plt.xlim()\n",
    "    plt.xticks(np.round(np.arange(start,end,0.1),2))\n",
    "    \n",
    "    # 그래프 설정 \n",
    "    plt.xlabel('Threshold value')\n",
    "    plt.title('Precision & Recall value')\n",
    "    plt.legend()\n",
    "    plt.show()"
   ]
  },
  {
   "cell_type": "code",
   "execution_count": 25,
   "metadata": {},
   "outputs": [
    {
     "data": {
      "image/png": "[encoded data removed]",
      "text/plain": [
       "<Figure size 720x720 with 1 Axes>"
      ]
     },
     "metadata": {
      "image/png": {
       "height": 605,
       "width": 594
      }
     },
     "output_type": "display_data"
    }
   ],
   "source": [
    "precision_recall_curve_plot(Y_test,prdict_proba_class1)"
   ]
  },
  {
   "cell_type": "markdown",
   "metadata": {},
   "source": [
    "* 임계값이 0.2 인근에서 재현율과 정밀도가 같아짐"
   ]
  },
  {
   "cell_type": "markdown",
   "metadata": {},
   "source": [
    "## F1 Score"
   ]
  },
  {
   "cell_type": "markdown",
   "metadata": {},
   "source": [
    "* F1 Score : 정밀도와 재현률의 결합 지표 \n",
    "* 정밀도와 재현률이 한쪽으로 치우치지 않을때, 높은 값을 나타낸다.\n",
    "\n",
    "\n",
    "![img1](https://www.qualtrics.com/eng/wp-content/uploads/2016/11/f1-score.jpg)"
   ]
  },
  {
   "cell_type": "markdown",
   "metadata": {},
   "source": [
    "**Sklearn F1 Score API**"
   ]
  },
  {
   "cell_type": "code",
   "execution_count": 26,
   "metadata": {},
   "outputs": [
    {
     "name": "stdout",
     "output_type": "stream",
     "text": [
      "F1 Score :  0.05\n"
     ]
    }
   ],
   "source": [
    "from sklearn.metrics import f1_score\n",
    "\n",
    "f1 = f1_score(Y_test,Y_pred_test)\n",
    "print(\"F1 Score : \",f1.round(3))"
   ]
  },
  {
   "cell_type": "markdown",
   "metadata": {},
   "source": [
    "**Threshold 값에 따른 Accuracy, Presicion, Recall, F1 Score**"
   ]
  },
  {
   "cell_type": "code",
   "execution_count": 27,
   "metadata": {},
   "outputs": [],
   "source": [
    "def classification_evaluation(Y_test,Y_pred_test):\n",
    "    confusion = confusion_matrix(Y_test,Y_pred_test)\n",
    "    accuracy = accuracy_score(Y_test,Y_pred_test)\n",
    "    precision = precision_score(Y_test,Y_pred_test)\n",
    "    recall = recall_score(Y_test,Y_pred_test)\n",
    "    f1 = f1_score(Y_test,Y_pred_test)\n",
    "    print(\"Confusion Matrix\")\n",
    "    print(confusion)\n",
    "    print(\" \")\n",
    "    print(\"정확도 : \",accuracy.round(3))\n",
    "    print(\"정밀도 : \",precision.round(3))\n",
    "    print(\"재현률 : \",recall.round(3))\n",
    "    print(\"F1 Score : \",f1.round(3))\n",
    "    print(\" \")\n",
    "\n",
    "def classification_evaluation_Threshold(Y_test,Y_pred_test,thresholds):\n",
    "    for customer_threshold in thresholds:\n",
    "        customer_Binarizer = Binarizer(threshold = customer_threshold).fit(Y_pred_test)\n",
    "        customer_Predict = customer_Binarizer.transform(Y_pred_test)\n",
    "        print(\"======= Threshold : \", customer_threshold,\"=======\")\n",
    "        classification_evaluation(Y_test,customer_Predict)"
   ]
  },
  {
   "cell_type": "code",
   "execution_count": 28,
   "metadata": {},
   "outputs": [
    {
     "name": "stdout",
     "output_type": "stream",
     "text": [
      "======= Threshold :  0.11 =======\n",
      "Confusion Matrix\n",
      "[[14541   571]\n",
      " [  125   145]]\n",
      " \n",
      "정확도 :  0.955\n",
      "정밀도 :  0.203\n",
      "재현률 :  0.537\n",
      "F1 Score :  0.294\n",
      " \n",
      "======= Threshold :  0.15 =======\n",
      "Confusion Matrix\n",
      "[[14571   541]\n",
      " [  130   140]]\n",
      " \n",
      "정확도 :  0.956\n",
      "정밀도 :  0.206\n",
      "재현률 :  0.519\n",
      "F1 Score :  0.294\n",
      " \n",
      "======= Threshold :  0.19 =======\n",
      "Confusion Matrix\n",
      "[[15083    29]\n",
      " [  256    14]]\n",
      " \n",
      "정확도 :  0.981\n",
      "정밀도 :  0.326\n",
      "재현률 :  0.052\n",
      "F1 Score :  0.089\n",
      " \n",
      "======= Threshold :  0.21 =======\n",
      "Confusion Matrix\n",
      "[[15087    25]\n",
      " [  256    14]]\n",
      " \n",
      "정확도 :  0.982\n",
      "정밀도 :  0.359\n",
      "재현률 :  0.052\n",
      "F1 Score :  0.091\n",
      " \n"
     ]
    }
   ],
   "source": [
    "# 임계값 \n",
    "thresholds = [0.11, 0.15, 0.19, 0.21]  \n",
    "\n",
    "# Test Set으로 Model을 적용했을 때, 해약일 확률 값 \n",
    "prdict_proba_class1 = model.predict_proba(X_test)[:,1].reshape(-1,1)\n",
    "\n",
    "\n",
    "classification_evaluation_Threshold(Y_test,prdict_proba_class1,thresholds)"
   ]
  },
  {
   "cell_type": "markdown",
   "metadata": {},
   "source": [
    "## ROC Curve & AUC"
   ]
  },
  {
   "cell_type": "markdown",
   "metadata": {},
   "source": [
    "**ROC (Receiver Operation Characteristic Curve)**\n",
    "\n",
    "* '수신자판단곡선' 이라고도 불림, 일반적으로 의학분야 또는 머신러닝의 이진분류 모델 성능평가로 사용됨 \n",
    "* FPR(False Positive Rate)가 변화함에 따라 ** TPR(True Positive Rate, 재현률 Recall)** 가 어떻게 변하는지 나타내는 곡선\n",
    "    * 민감도(TPR) : 실제값 Positive가 정확히 예측되어야 하는 수준을 나타냄 (이상이 있는 것을 이상이 있다고 판단)\n",
    "    * 특이성(TNR) : 실제값 Negative가 정확히 예측되어야 하는 수준을 나타냄 (이상이 없는 것을 이상이 없다고 판단)"
   ]
  },
  {
   "cell_type": "code",
   "execution_count": 29,
   "metadata": {},
   "outputs": [],
   "source": [
    "from sklearn.metrics import roc_curve"
   ]
  },
  {
   "cell_type": "code",
   "execution_count": 30,
   "metadata": {},
   "outputs": [
    {
     "name": "stdout",
     "output_type": "stream",
     "text": [
      "샘플 추출을 위한 임곗값 배열의 index 10개: [ 0  5 10 15 20 25 30 35 40 45 50 55]\n",
      "샘플용 10개의 임곗값:  [2.   0.2  0.09 0.03 0.02 0.02 0.01 0.01 0.01 0.01 0.   0.  ]\n",
      "샘플 임곗값별 FPR:  [0.    0.002 0.038 0.048 0.083 0.101 0.154 0.322 0.41  0.528 0.673 0.794]\n",
      "샘플 임곗값별 TPR:  [0.    0.052 0.541 0.548 0.6   0.604 0.633 0.748 0.774 0.833 0.867 0.896]\n"
     ]
    }
   ],
   "source": [
    "prdict_proba_class1 = model.predict_proba(X_test)[:,1]\n",
    "\n",
    "fprs , tprs , thresholds = roc_curve(Y_test, prdict_proba_class1)\n",
    "# 반환된 임곗값 배열 로우가 47건이므로 샘플로 10건만 추출하되, 임곗값을 5 Step으로 추출. \n",
    "thr_index = np.arange(0, thresholds.shape[0], 5)\n",
    "print('샘플 추출을 위한 임곗값 배열의 index 10개:', thr_index)\n",
    "print('샘플용 10개의 임곗값: ', np.round(thresholds[thr_index], 2))\n",
    "\n",
    "# 5 step 단위로 추출된 임계값에 따른 FPR, TPR 값\n",
    "print('샘플 임곗값별 FPR: ', np.round(fprs[thr_index], 3))\n",
    "print('샘플 임곗값별 TPR: ', np.round(tprs[thr_index], 3))"
   ]
  },
  {
   "cell_type": "markdown",
   "metadata": {},
   "source": [
    "**ROC Curve Plot|**"
   ]
  },
  {
   "cell_type": "code",
   "execution_count": 39,
   "metadata": {},
   "outputs": [
    {
     "data": {
      "image/png": "[encoded data removed]",
      "text/plain": [
       "<Figure size 720x360 with 1 Axes>"
      ]
     },
     "metadata": {
      "image/png": {
       "height": 322,
       "width": 608
      }
     },
     "output_type": "display_data"
    }
   ],
   "source": [
    "def roc_curve_plot(y_test , pred_proba_c1):\n",
    "    # 임곗값에 따른 FPR, TPR 값을 반환 받음. \n",
    "    fprs , tprs , thresholds = roc_curve(y_test ,pred_proba_c1)\n",
    "\n",
    "    plt.figure(figsize=[10,5])\n",
    "    # ROC Curve를 plot 곡선으로 그림. \n",
    "    plt.plot(fprs , tprs, label='ROC')\n",
    "    # 가운데 대각선 직선을 그림. \n",
    "    plt.plot([0, 1], [0, 1], 'k--', label='Random')\n",
    "    \n",
    "    # FPR X 축의 Scale을 0.1 단위로 변경, X,Y 축명 설정등   \n",
    "    start, end = plt.xlim()\n",
    "    plt.xticks(np.round(np.arange(start, end, 0.1),2))\n",
    "    plt.xlim(0,1); plt.ylim(0,1)\n",
    "    plt.xlabel('FPR( 1 - Sensitivity )'); plt.ylabel('TPR( Recall )')\n",
    "    plt.legend()\n",
    "    plt.show()\n",
    "    \n",
    "roc_curve_plot(Y_test, prdict_proba_class1)"
   ]
  },
  {
   "cell_type": "markdown",
   "metadata": {},
   "source": [
    "**ROC & AUC 값**"
   ]
  },
  {
   "cell_type": "code",
   "execution_count": 32,
   "metadata": {},
   "outputs": [],
   "source": [
    "from sklearn.metrics import roc_auc_score"
   ]
  },
  {
   "cell_type": "code",
   "execution_count": 33,
   "metadata": {},
   "outputs": [
    {
     "name": "stdout",
     "output_type": "stream",
     "text": [
      "ROC AUC 값:  0.513\n"
     ]
    }
   ],
   "source": [
    "roc_score = roc_auc_score(Y_test, Y_pred_test)\n",
    "print('ROC AUC 값: ', roc_score.round(3))"
   ]
  },
  {
   "cell_type": "markdown",
   "metadata": {},
   "source": [
    "**Threshold 값에 따른 Accuracy, Presicion, Recall, F1 Score, ROC & AUC**"
   ]
  },
  {
   "cell_type": "code",
   "execution_count": 34,
   "metadata": {},
   "outputs": [],
   "source": [
    "def classification_evaluation(Y_test,Y_pred_test):\n",
    "    confusion = confusion_matrix(Y_test,Y_pred_test)\n",
    "    accuracy = accuracy_score(Y_test,Y_pred_test)\n",
    "    precision = precision_score(Y_test,Y_pred_test)\n",
    "    recall = recall_score(Y_test,Y_pred_test)\n",
    "    f1 = f1_score(Y_test,Y_pred_test)\n",
    "    roc_score = roc_auc_score(Y_test, Y_pred_test)\n",
    "\n",
    "    print(\"Confusion Matrix\")\n",
    "    print(confusion)\n",
    "    print(\" \")\n",
    "    print(\"정확도 : \",accuracy.round(3))\n",
    "    print(\"정밀도 : \",precision.round(3))\n",
    "    print(\"재현률 : \",recall.round(3))\n",
    "    print(\"F1 Score : \",f1.round(3))\n",
    "    print('ROC AUC 값: ', roc_score.round(3))\n",
    "    print(\" \")\n",
    "\n",
    "def classification_evaluation_Threshold(Y_test,Y_pred_test,thresholds):\n",
    "    for customer_threshold in thresholds:\n",
    "        customer_Binarizer = Binarizer(threshold = customer_threshold).fit(Y_pred_test)\n",
    "        customer_Predict = customer_Binarizer.transform(Y_pred_test)\n",
    "        print(\"======= Threshold : \", customer_threshold,\"=======\")\n",
    "        classification_evaluation(Y_test,customer_Predict)"
   ]
  },
  {
   "cell_type": "code",
   "execution_count": 41,
   "metadata": {},
   "outputs": [
    {
     "name": "stdout",
     "output_type": "stream",
     "text": [
      "======= Threshold :  0.11 =======\n",
      "Confusion Matrix\n",
      "[[14541   571]\n",
      " [  125   145]]\n",
      " \n",
      "정확도 :  0.955\n",
      "정밀도 :  0.203\n",
      "재현률 :  0.537\n",
      "F1 Score :  0.294\n",
      "ROC AUC 값:  0.75\n",
      " \n",
      "======= Threshold :  0.15 =======\n",
      "Confusion Matrix\n",
      "[[14571   541]\n",
      " [  130   140]]\n",
      " \n",
      "정확도 :  0.956\n",
      "정밀도 :  0.206\n",
      "재현률 :  0.519\n",
      "F1 Score :  0.294\n",
      "ROC AUC 값:  0.741\n",
      " \n",
      "======= Threshold :  0.19 =======\n",
      "Confusion Matrix\n",
      "[[15083    29]\n",
      " [  256    14]]\n",
      " \n",
      "정확도 :  0.981\n",
      "정밀도 :  0.326\n",
      "재현률 :  0.052\n",
      "F1 Score :  0.089\n",
      "ROC AUC 값:  0.525\n",
      " \n",
      "======= Threshold :  0.21 =======\n",
      "Confusion Matrix\n",
      "[[15087    25]\n",
      " [  256    14]]\n",
      " \n",
      "정확도 :  0.982\n",
      "정밀도 :  0.359\n",
      "재현률 :  0.052\n",
      "F1 Score :  0.091\n",
      "ROC AUC 값:  0.525\n",
      " \n"
     ]
    }
   ],
   "source": [
    "# 임계값 \n",
    "thresholds = [0.11, 0.15, 0.19, 0.21]  \n",
    "\n",
    "# Test Set으로 Model을 적용했을 때, 해약일 확률 값 \n",
    "prdict_proba_class1 = model.predict_proba(X_test)[:,1].reshape(-1,1)\n",
    "\n",
    "\n",
    "classification_evaluation_Threshold(Y_test,prdict_proba_class1,thresholds)"
   ]
  },
  {
   "cell_type": "code",
   "execution_count": 1,
   "metadata": {},
   "outputs": [
    {
     "name": "stdout",
     "output_type": "stream",
     "text": [
      "Done\n"
     ]
    }
   ],
   "source": [
    "print(\"Done\")"
   ]
  }
 ],
 "metadata": {
  "kernelspec": {
   "display_name": "Python 3",
   "language": "python",
   "name": "python3"
  },
  "language_info": {
   "codemirror_mode": {
    "name": "ipython",
    "version": 3
   },
   "file_extension": ".py",
   "mimetype": "text/x-python",
   "name": "python",
   "nbconvert_exporter": "python",
   "pygments_lexer": "ipython3",
   "version": "3.8.3"
  },
  "toc": {
   "base_numbering": 1,
   "nav_menu": {},
   "number_sections": true,
   "sideBar": true,
   "skip_h1_title": false,
   "title_cell": "Table of Contents",
   "title_sidebar": "Contents",
   "toc_cell": false,
   "toc_position": {
    "height": "calc(100% - 180px)",
    "left": "10px",
    "top": "150px",
    "width": "165px"
   },
   "toc_section_display": true,
   "toc_window_display": true
  }
 },
 "nbformat": 4,
 "nbformat_minor": 2
}
