{
 "cells": [
  {
   "cell_type": "code",
   "execution_count": null,
   "metadata": {
    "id": "r7ETFswX05Ia"
   },
   "outputs": [],
   "source": [
    "import numpy as np\n",
    "from matplotlib import pyplot as plt\n",
    "import math"
   ]
  },
  {
   "cell_type": "markdown",
   "metadata": {
    "id": "kSNJp0Hn7XTG"
   },
   "source": [
    "# 2.1. 반올림 오차"
   ]
  },
  {
   "cell_type": "markdown",
   "metadata": {
    "id": "1WFLjnf27eW2"
   },
   "source": [
    "## (1)점화식 그래프 그리기 1"
   ]
  },
  {
   "cell_type": "code",
   "execution_count": null,
   "metadata": {
    "colab": {
     "base_uri": "https://localhost:8080/",
     "height": 270
    },
    "id": "Q_FgiHE_1SGd",
    "outputId": "5a14b136-3761-4f9c-9be7-5c46d2f4af07"
   },
   "outputs": [
    {
     "data": {
      "image/png": "[encoded data removed]",
      "text/plain": [
       "<Figure size 432x288 with 1 Axes>"
      ]
     },
     "metadata": {
      "needs_background": "light"
     },
     "output_type": "display_data"
    }
   ],
   "source": [
    "golden = (np.sqrt(5)-1)/2\n",
    "i_i_list = [1]\n",
    "\n",
    "n = 0\n",
    "while True:\n",
    "  n += 1\n",
    "  value = golden*i_i_list[-1]\n",
    "  i_i_list.append(value)\n",
    "  if n == 50:\n",
    "    break\n",
    "\n",
    "plt.plot(range(0,51),i_i_list,'b--')\n",
    "plt.xticks(fontsize=15);plt.yticks(fontsize=15)\n",
    "plt.yscale('log')"
   ]
  },
  {
   "cell_type": "markdown",
   "metadata": {
    "id": "XcQ8PRaZ_TPf"
   },
   "source": [
    "## (2)점화식 같음을 증명하기\n",
    "\n",
    "(1)의 식은 [1, $\\phi$, $\\phi^2$, $\\phi^3$...]형태로 나아가게 된다. $\\phi^n=\\phi^2$라고 가정하면, $\\phi^{n-1}=\\phi$, $\\phi^{n+1}=\\phi^3$로 나타난다.\n",
    "\n",
    "(2)의 점화식에 대입하면 $\\phi^3=\\phi-\\phi^2$로 나타내는데 $\\phi$로 정리하고 항을 넘겨서 $\\phi^2+\\phi=1$로 나타낼 수 있다.\n",
    "\n",
    "황금비의 정의에 의해서 $(\\frac{\\sqrt5-1}{2})^2+\\frac{\\sqrt5-1}{2}$로 나타낼 수 있고, $\\frac{6-2\\sqrt5}{4}+\\frac{\\sqrt5-1}{2}$=1이므로 증명이 된다."
   ]
  },
  {
   "cell_type": "markdown",
   "metadata": {
    "id": "DrvWOumpEOVn"
   },
   "source": [
    "## (3)점화식 그래프 그리기 2"
   ]
  },
  {
   "cell_type": "code",
   "execution_count": null,
   "metadata": {
    "colab": {
     "base_uri": "https://localhost:8080/",
     "height": 288
    },
    "id": "tR3WEwsZEMaw",
    "outputId": "18eae4a6-2cd7-4cd9-bce4-1b59362b15cd"
   },
   "outputs": [
    {
     "data": {
      "text/plain": [
       "<matplotlib.legend.Legend at 0x7f3d2f9e70d0>"
      ]
     },
     "execution_count": 3,
     "metadata": {},
     "output_type": "execute_result"
    },
    {
     "data": {
      "image/png": "[encoded data removed]",
      "text/plain": [
       "<Figure size 432x288 with 1 Axes>"
      ]
     },
     "metadata": {
      "needs_background": "light"
     },
     "output_type": "display_data"
    }
   ],
   "source": [
    "i_ii_list = [1,golden]\n",
    "\n",
    "n = 1\n",
    "while True:\n",
    "  n += 1\n",
    "  value = i_ii_list[-2]-i_ii_list[-1]\n",
    "  i_ii_list.append(value)\n",
    "  if n == 50:\n",
    "    break\n",
    "\n",
    "plt.plot(range(0,51),i_i_list,'b--',label='(1)')\n",
    "plt.plot(range(0,51),i_ii_list,'r-',label='(2)')\n",
    "plt.xticks(fontsize=15);plt.yticks(fontsize=15)\n",
    "plt.yscale('log')\n",
    "plt.legend(fontsize=15)"
   ]
  },
  {
   "cell_type": "markdown",
   "metadata": {
    "id": "2u4RnrwHE_Do"
   },
   "source": [
    "## (4)다른 이유 설명하기\n",
    "\n",
    "간단히 $n$이 커질수록 1보다 작은 수의 제곱 형태이므로 숫자가 엄청 작아지는데 비슷한 수$(\\simeq0)$끼리의 뺄셈에서 $round-off$ 오류가 발생"
   ]
  },
  {
   "cell_type": "markdown",
   "metadata": {
    "id": "kG4BPRHsJvJL"
   },
   "source": [
    "# 2.2. 이항계수 구하기"
   ]
  },
  {
   "cell_type": "markdown",
   "metadata": {
    "id": "ulO5e2GjJ4Zh"
   },
   "source": [
    "## (1)$n=10$과 $n=100$일 때 최대값과 오차 구하기"
   ]
  },
  {
   "cell_type": "code",
   "execution_count": null,
   "metadata": {
    "id": "fiXD6cmELTqL"
   },
   "outputs": [],
   "source": [
    "def bino(n):\n",
    "  bino_list = []\n",
    "  for k in range(n):\n",
    "    if k == 0: bino_list.append(1)\n",
    "    value = (n-k)*bino_list[k]\n",
    "    bino_list.append(value/(k+1))\n",
    "  return bino_list"
   ]
  },
  {
   "cell_type": "code",
   "execution_count": null,
   "metadata": {
    "colab": {
     "base_uri": "https://localhost:8080/"
    },
    "id": "QQ5rnnDMEr3Z",
    "outputId": "67b34753-9c49-4ca0-ffe7-624909829ef4"
   },
   "outputs": [
    {
     "name": "stdout",
     "output_type": "stream",
     "text": [
      "n=10 is max value: 252.0, error: 0.0\n",
      "n=100 is max value: 1.0089134454556418e+29, error: 1.1102230246251565e-16\n"
     ]
    }
   ],
   "source": [
    "n1, n2 = 10, 100\n",
    "\n",
    "n1_list, n2_list = bino(n1),bino(n2)\n",
    "\n",
    "print(f'n=10 is max value: {max(n1_list)}, error: {1-n1_list[-1]}')\n",
    "print(f'n=100 is max value: {max(n2_list)}, error: {1-n2_list[-1]}')"
   ]
  },
  {
   "cell_type": "markdown",
   "metadata": {
    "id": "3zTLZgtTO3Xy"
   },
   "source": [
    "## (2)(1)의 오차를 주어진 식으로 구하기"
   ]
  },
  {
   "cell_type": "code",
   "execution_count": null,
   "metadata": {
    "id": "12NforrOOVj6"
   },
   "outputs": [],
   "source": [
    "def bino_error(n,bino_list):\n",
    "  cons = 1/2**n\n",
    "  k_list = np.arange(0,n+1,1)\n",
    "  value = k_list*np.array(bino_list)\n",
    "  return cons*value.sum()"
   ]
  },
  {
   "cell_type": "code",
   "execution_count": null,
   "metadata": {
    "colab": {
     "base_uri": "https://localhost:8080/"
    },
    "id": "IWF0940pT1S7",
    "outputId": "beb16256-5dfb-4c18-9351-5e693d78099c"
   },
   "outputs": [
    {
     "name": "stdout",
     "output_type": "stream",
     "text": [
      "n=10 is error: 1.1111111111111112\n",
      "n=100 is error: 1.01010101010101\n"
     ]
    }
   ],
   "source": [
    "print(f'n=10 is error: {2*bino_error(n1,n1_list)/(n1-1)}')\n",
    "print(f'n=100 is error: {2*bino_error(n2,n2_list)/(n2-1)}')"
   ]
  },
  {
   "cell_type": "markdown",
   "metadata": {
    "id": "txL3iVNfUliM"
   },
   "source": [
    "## $E(n)$가 정확도가 높은 것은 $k$가 변함에 따라 각 항에 $k$를 더함으로 가중치를 주고 $n$이 커짐에 따라 앞의 $2^n$도 커지기 때문"
   ]
  },
  {
   "cell_type": "markdown",
   "metadata": {
    "id": "UJ4aKXp1V-d6"
   },
   "source": [
    "## (3)$E(10^4)$값 계산하기"
   ]
  },
  {
   "cell_type": "code",
   "execution_count": null,
   "metadata": {
    "id": "rBDI8Tr1XneL"
   },
   "outputs": [],
   "source": []
  },
  {
   "cell_type": "markdown",
   "metadata": {
    "id": "riPPMLAVXhns"
   },
   "source": [
    "# 2.3. 2차 방정식 반올림 오차"
   ]
  },
  {
   "cell_type": "code",
   "execution_count": null,
   "metadata": {
    "colab": {
     "base_uri": "https://localhost:8080/",
     "height": 292
    },
    "id": "bJ7sNcJKXJR7",
    "outputId": "92dd4238-bcd0-418a-f322-3d94c4619cfe"
   },
   "outputs": [
    {
     "data": {
      "text/plain": [
       "<matplotlib.legend.Legend at 0x7f3d2f4662d0>"
      ]
     },
     "execution_count": 8,
     "metadata": {},
     "output_type": "execute_result"
    },
    {
     "data": {
      "image/png": "[encoded data removed]",
      "text/plain": [
       "<Figure size 432x288 with 1 Axes>"
      ]
     },
     "metadata": {
      "needs_background": "light"
     },
     "output_type": "display_data"
    }
   ],
   "source": [
    "def sol_1(b):\n",
    "  return np.sqrt(b**2+1)-b\n",
    "def sol_2(b):\n",
    "  return 1/(np.sqrt(b**2+1)+b)\n",
    "\n",
    "b_list = np.logspace(0,10,1000)\n",
    "\n",
    "plt.plot(b_list,sol_1(b_list),'b--',label='(1)')\n",
    "plt.plot(b_list,sol_2(b_list),'r-',label='(2)')\n",
    "plt.xticks(fontsize=15);plt.yticks(fontsize=15)\n",
    "plt.xscale('log');plt.yscale('log')\n",
    "plt.legend(fontsize=15)"
   ]
  },
  {
   "cell_type": "markdown",
   "metadata": {
    "id": "Q6P2UH9MY2dF"
   },
   "source": [
    "$sol_1(b)$ 식에서는 $b$가 커지면서 $\\sqrt{b^2+1}-b$에서 비슷한 수끼리의 뺄셈이므로 반올림 오차가 발생하게 되고 그래프에 나타나게 된다"
   ]
  },
  {
   "cell_type": "markdown",
   "metadata": {
    "id": "r0d90B2qZaSM"
   },
   "source": [
    "# 2.4. 다항 방정식 반올림 오차"
   ]
  },
  {
   "cell_type": "code",
   "execution_count": null,
   "metadata": {
    "colab": {
     "base_uri": "https://localhost:8080/",
     "height": 299
    },
    "id": "D6KbmZYXYKz8",
    "outputId": "7f741413-501d-4d33-abcc-f9caf0bc107d"
   },
   "outputs": [
    {
     "data": {
      "text/plain": [
       "<matplotlib.legend.Legend at 0x7f3d2f37a1d0>"
      ]
     },
     "execution_count": 9,
     "metadata": {},
     "output_type": "execute_result"
    },
    {
     "data": {
      "image/png": "[encoded data removed]",
      "text/plain": [
       "<Figure size 432x288 with 1 Axes>"
      ]
     },
     "metadata": {
      "needs_background": "light"
     },
     "output_type": "display_data"
    }
   ],
   "source": [
    "x = np.linspace(0.995,1.005,100)\n",
    "y_1 = (1-x)**6\n",
    "y_2 = 1-6*x+15*x**2-20*x**3+15*x**4-6*x**5+x**6\n",
    "\n",
    "plt.plot(x,y_1,'b--',label='(1)')\n",
    "plt.plot(x,y_2,'r-',label='(2)')\n",
    "plt.xticks(fontsize=15);plt.yticks(fontsize=15)\n",
    "plt.legend(fontsize=15)"
   ]
  },
  {
   "cell_type": "markdown",
   "metadata": {
    "id": "vuU008rTZ2NE"
   },
   "source": [
    "2.3의 식과 마찬가지로 $y_2$ 식에서는 비슷한 수끼리의 뺄셈이 여러번 발생하므로 반올림 오차가 생기고 그래프에 나타나게 된다"
   ]
  },
  {
   "cell_type": "markdown",
   "metadata": {
    "id": "bouKfyqyaF9M"
   },
   "source": [
    "# 2.5. 유한급수의 오차"
   ]
  },
  {
   "cell_type": "code",
   "execution_count": null,
   "metadata": {
    "id": "jMUj5HfbZuds"
   },
   "outputs": [],
   "source": [
    "def seri(n,reverse=False):\n",
    "  sum = 0\n",
    "  if reverse:\n",
    "    ran=np.arange(n,0,-1)\n",
    "  else:\n",
    "    ran=np.arange(1,n+1,1)\n",
    "  for j in ran:\n",
    "    value = 1/(j*(j+2))\n",
    "    sum += value\n",
    "  return sum"
   ]
  },
  {
   "cell_type": "markdown",
   "metadata": {
    "id": "iXYelEl4ccpV"
   },
   "source": [
    "## (1)작은 항부터 큰 항 순으로 더하기"
   ]
  },
  {
   "cell_type": "code",
   "execution_count": null,
   "metadata": {
    "colab": {
     "base_uri": "https://localhost:8080/"
    },
    "id": "TRiY0UypcCst",
    "outputId": "0231aee7-fa06-478f-c19e-d3961c310ba7"
   },
   "outputs": [
    {
     "data": {
      "text/plain": [
       "0.749999900000015"
      ]
     },
     "execution_count": 11,
     "metadata": {},
     "output_type": "execute_result"
    }
   ],
   "source": [
    "seri(10**7,True)"
   ]
  },
  {
   "cell_type": "markdown",
   "metadata": {
    "id": "ZXs6VOuHcoRF"
   },
   "source": [
    "## (2)큰 항부터 작은 항 순으로 더하기"
   ]
  },
  {
   "cell_type": "code",
   "execution_count": null,
   "metadata": {
    "colab": {
     "base_uri": "https://localhost:8080/"
    },
    "id": "a96aEzY3ckP9",
    "outputId": "f54b457d-2a01-43a4-9aa0-cf52047bc5e3"
   },
   "outputs": [
    {
     "data": {
      "text/plain": [
       "0.7499998999997974"
      ]
     },
     "execution_count": 12,
     "metadata": {},
     "output_type": "execute_result"
    }
   ],
   "source": [
    "seri(10**7)"
   ]
  },
  {
   "cell_type": "markdown",
   "metadata": {
    "id": "p1AXretRdp2t"
   },
   "source": [
    "## (3)Kahan 알고리즘 이용"
   ]
  },
  {
   "cell_type": "code",
   "execution_count": null,
   "metadata": {
    "id": "v1fRqdOPdwwt"
   },
   "outputs": [],
   "source": [
    "def KahanSum(x):\n",
    "  c,summ = 0,0\n",
    "  for i in range(len(x)):\n",
    "    xp = x[i]-c\n",
    "    sp = summ\n",
    "    summ+=xp\n",
    "    c = ((sp+xp)-sp)-xp\n",
    "  return summ"
   ]
  },
  {
   "cell_type": "code",
   "execution_count": null,
   "metadata": {
    "colab": {
     "base_uri": "https://localhost:8080/"
    },
    "id": "xKtiGqGGfMU1",
    "outputId": "b07a1758-6731-4398-9076-acc4632cf2a6"
   },
   "outputs": [
    {
     "data": {
      "text/plain": [
       "0.7499999000000149"
      ]
     },
     "execution_count": 14,
     "metadata": {},
     "output_type": "execute_result"
    }
   ],
   "source": [
    "num_list = np.arange(1,10**7 +1,1)\n",
    "seri_list = 1/(num_list*(num_list+2))\n",
    "\n",
    "KahanSum(seri_list)"
   ]
  },
  {
   "cell_type": "markdown",
   "metadata": {
    "id": "aEEnyz-ydv8E"
   },
   "source": [
    "# 2.6. CORDIC 알고리즘과 numpy 결과 비교"
   ]
  },
  {
   "cell_type": "code",
   "execution_count": null,
   "metadata": {
    "id": "KWcMRnQ2dvl1"
   },
   "outputs": [],
   "source": [
    "def CORDIC(beta):\n",
    "  n = 50\n",
    "  gamma = np.arctan(2.**(-np.arange(n)))\n",
    "  x = np.array([1,0])\n",
    "  for i in range(n):\n",
    "    if beta < 0:\n",
    "      sigma = -1\n",
    "    else:\n",
    "      sigma = 1\n",
    "    beta-=sigma*gamma[i]\n",
    "    factor = sigma * 2.**(-i)\n",
    "    R = np.array([[1,-factor],[factor,1]])\n",
    "    R = R/np.sqrt(1+factor**2)\n",
    "    x = R@x\n",
    "  return x"
   ]
  },
  {
   "cell_type": "code",
   "execution_count": null,
   "metadata": {
    "colab": {
     "base_uri": "https://localhost:8080/"
    },
    "id": "BuwzOLM5eREV",
    "outputId": "0daf0f38-638f-451a-f84e-eccbe65166c3"
   },
   "outputs": [
    {
     "name": "stdout",
     "output_type": "stream",
     "text": [
      "Cos= 0.9156625933395608 0.9156625933395611\n",
      "Sin= 0.4019477766559607 0.4019477766559601\n"
     ]
    }
   ],
   "source": [
    "degree = 23.7\n",
    "rad = np.deg2rad(degree)\n",
    "\n",
    "x = CORDIC(rad)\n",
    "print('Cos=',x[0],np.cos(rad))\n",
    "print('Sin=',x[1],np.sin(rad))"
   ]
  },
  {
   "cell_type": "markdown",
   "metadata": {
    "id": "KeH9Xr6DhDu2"
   },
   "source": [
    "# 2.7. 테일러 급수에서 오차"
   ]
  },
  {
   "cell_type": "code",
   "execution_count": null,
   "metadata": {
    "id": "c_S8DqMwUlAH"
   },
   "outputs": [],
   "source": [
    "def taylor(x):\n",
    "  n, sum = 0, 0\n",
    "  while True:\n",
    "    value = x**n/math.factorial(n)\n",
    "    if abs(value) < 10**(-8): break\n",
    "    sum = np.sum([sum,value])\n",
    "    n += 1\n",
    "  return sum"
   ]
  },
  {
   "cell_type": "markdown",
   "metadata": {
    "id": "KuM349UuTCUC"
   },
   "source": [
    "## (1)numpy와 비교"
   ]
  },
  {
   "cell_type": "code",
   "execution_count": null,
   "metadata": {
    "colab": {
     "base_uri": "https://localhost:8080/"
    },
    "id": "zDas4UCqVc5F",
    "outputId": "3e49ca5e-7641-45a6-8af0-9f1f0ce048a4"
   },
   "outputs": [
    {
     "name": "stdout",
     "output_type": "stream",
     "text": [
      "x=10, Taylor value: 22026.4657948028, numpy value: 22026.465794806718, error: 3.918103175237775e-09\n",
      "x=-10, Taylor value: 4.540234176855547e-05, numpy value: 4.5399929762484854e-05, error: 2.4120060706153408e-09\n"
     ]
    }
   ],
   "source": [
    "for x in [10,-10]:\n",
    "  print(f'x={x}, Taylor value: {taylor(x)}, numpy value: {np.exp(x)}, error: {abs(np.exp(x)-taylor(x))}')"
   ]
  },
  {
   "cell_type": "markdown",
   "metadata": {
    "id": "103-37pyYHTt"
   },
   "source": [
    "## (2)$x=10$이고 $x=-10$일 때, $x=n\\log2+r$인 $n$과 $r$ 구하기"
   ]
  },
  {
   "cell_type": "code",
   "execution_count": null,
   "metadata": {
    "id": "yvws3t5Pcs4J"
   },
   "outputs": [],
   "source": []
  },
  {
   "cell_type": "markdown",
   "metadata": {
    "id": "xIPQWb67gMsN"
   },
   "source": [
    "## (3)$e^r$의 근사식을 이용하여 (1)과 비교하기"
   ]
  },
  {
   "cell_type": "code",
   "execution_count": null,
   "metadata": {
    "id": "maf2ODpGi7lQ"
   },
   "outputs": [],
   "source": []
  },
  {
   "cell_type": "markdown",
   "metadata": {
    "id": "n7e15Sr5lF3O"
   },
   "source": [
    "# 2.8. 2계도함수의 오차 계산하기"
   ]
  },
  {
   "cell_type": "code",
   "execution_count": null,
   "metadata": {
    "id": "0Pga87H1nwRZ"
   },
   "outputs": [],
   "source": [
    "def derivative(fx,x,h):\n",
    "  return (fx(x+h)-2*fx(x)+fx(x-h))/h**2\n",
    "\n",
    "def fx(x):\n",
    "  return np.power(np.e,-(x**2))"
   ]
  },
  {
   "cell_type": "code",
   "execution_count": null,
   "metadata": {
    "colab": {
     "base_uri": "https://localhost:8080/",
     "height": 315
    },
    "id": "XMxi3t5PlMOD",
    "outputId": "61426d58-0bbe-4546-bec1-f28f05eb763c"
   },
   "outputs": [
    {
     "data": {
      "text/plain": [
       "<matplotlib.legend.Legend at 0x7f3d2f30d150>"
      ]
     },
     "execution_count": 20,
     "metadata": {},
     "output_type": "execute_result"
    },
    {
     "data": {
      "image/png": "[encoded data removed]",
      "text/plain": [
       "<Figure size 432x288 with 1 Axes>"
      ]
     },
     "metadata": {
      "needs_background": "light"
     },
     "output_type": "display_data"
    }
   ],
   "source": [
    "for h in np.logspace(-5,-1,100):\n",
    "  plt.scatter(h,derivative(fx,1,h),color='black')\n",
    "\n",
    "x = 1\n",
    "y = fx(x)\n",
    "y_2prime = 4*x**2*y-2*y\n",
    "\n",
    "plt.axhline(y_2prime,color='red',linestyle='--',label='real value')\n",
    "plt.xlabel('h',fontsize=15);plt.ylabel(r\"$f^{''}(x)$\",fontsize=15)\n",
    "plt.xticks(fontsize=15);plt.yticks(fontsize=15)\n",
    "plt.xscale('log')\n",
    "plt.legend(fontsize=15)"
   ]
  }
 ],
 "metadata": {
  "colab": {
   "provenance": []
  },
  "kernelspec": {
   "display_name": "Python 3 (ipykernel)",
   "language": "python",
   "name": "python3"
  },
  "language_info": {
   "codemirror_mode": {
    "name": "ipython",
    "version": 3
   },
   "file_extension": ".py",
   "mimetype": "text/x-python",
   "name": "python",
   "nbconvert_exporter": "python",
   "pygments_lexer": "ipython3",
   "version": "3.7.7"
  }
 },
 "nbformat": 4,
 "nbformat_minor": 1
}
