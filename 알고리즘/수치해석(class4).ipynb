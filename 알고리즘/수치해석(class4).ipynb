{
 "cells": [
  {
   "cell_type": "code",
   "execution_count": null,
   "metadata": {
    "id": "jj50jMWjixS9"
   },
   "outputs": [],
   "source": [
    "import numpy as np\n",
    "from matplotlib import pyplot as plt\n",
    "from sympy import *"
   ]
  },
  {
   "cell_type": "markdown",
   "metadata": {
    "id": "t7BpIi_nsBF-"
   },
   "source": [
    "# 3.1. 에너지가 E인 입자의 핵융합 충돌 단면적의 해 구하기"
   ]
  },
  {
   "cell_type": "code",
   "execution_count": null,
   "metadata": {
    "colab": {
     "base_uri": "https://localhost:8080/",
     "height": 283
    },
    "id": "cjBMIhZJiz-v",
    "outputId": "2052a480-5325-49da-8169-ac0a149145c4"
   },
   "outputs": [
    {
     "data": {
      "text/plain": [
       "<matplotlib.lines.Line2D at 0x7fb08b835f50>"
      ]
     },
     "execution_count": 2,
     "metadata": {},
     "output_type": "execute_result"
    },
    {
     "data": {
      "image/png": "[encoded data removed]",
      "text/plain": [
       "<Figure size 432x288 with 1 Axes>"
      ]
     },
     "metadata": {
      "needs_background": "light"
     },
     "output_type": "display_data"
    }
   ],
   "source": [
    "def collision_area(energy):\n",
    "  return np.exp((-np.sqrt(2/energy))-(energy/5))-0.1\n",
    "\n",
    "energy = np.linspace(0.1,30,100)\n",
    "plt.plot(energy,collision_area(energy))\n",
    "plt.axhline(0,linestyle='--',color='black')"
   ]
  },
  {
   "cell_type": "code",
   "execution_count": null,
   "metadata": {
    "colab": {
     "base_uri": "https://localhost:8080/"
    },
    "id": "tCUacJyZaqvV",
    "outputId": "84b2315e-c532-4b5a-c05c-3df8645854d2"
   },
   "outputs": [
    {
     "name": "stdout",
     "output_type": "stream",
     "text": [
      "value1:0.405251\n",
      "value2:9.178998\n"
     ]
    }
   ],
   "source": [
    "tol = 1e-6\n",
    "a0,b0 = .1,5\n",
    "a1,b1 = 5,10\n",
    "n = 0\n",
    "\n",
    "for a,b in [[a0,b0],[a1,b1]]:\n",
    "  n += 1\n",
    "  while True:\n",
    "    fa = collision_area(a);fb = collision_area(b)\n",
    "    c = (a*fb-b*fa)/(fb-fa)\n",
    "    fc = collision_area(c)\n",
    "    if abs(c-a) < tol: break\n",
    "    if fa*fc < 0:\n",
    "      b = c\n",
    "    else:\n",
    "      a = c\n",
    "\n",
    "  print(f'value{n}:{c:.6f}')"
   ]
  },
  {
   "cell_type": "markdown",
   "metadata": {
    "id": "cR59EMX7shVu"
   },
   "source": [
    "# 3.2. 플랑크 함수"
   ]
  },
  {
   "cell_type": "markdown",
   "metadata": {
    "id": "bGMolHGZtRyM"
   },
   "source": [
    "## (1)미분 방정식 관계식 구하기"
   ]
  },
  {
   "cell_type": "markdown",
   "metadata": {
    "id": "REdE6eoKuj6G"
   },
   "source": [
    "$\\frac{\\delta B_{\\lambda}}{\\delta\\lambda}=\\frac{1}{\\lambda^7}\\frac{2hc^2}{k_{B}T}$ $\\frac{hce^{hc/\\lambda k_{B}T}-5\\lambda k_{B}T(e^{hc/\\lambda k_{B}T}-1)}{({e^{hc/\\lambda k_{B}T}-1})^2}$"
   ]
  },
  {
   "cell_type": "markdown",
   "metadata": {
    "id": "P7PTgKFjyh9v"
   },
   "source": [
    "## (2)주어진 값에 대해서 파장 구하기"
   ]
  },
  {
   "cell_type": "code",
   "execution_count": null,
   "metadata": {
    "id": "7FQwer15zrpv"
   },
   "outputs": [],
   "source": [
    "planck, boltzmann, light = 6.626*10**(-34), 1.381*10**(-23), 2.998*10**8"
   ]
  },
  {
   "cell_type": "code",
   "execution_count": null,
   "metadata": {
    "colab": {
     "base_uri": "https://localhost:8080/",
     "height": 288
    },
    "id": "wMoW_7aVynSI",
    "outputId": "28d1b450-0e62-40e2-bb7a-fb49a5f0f559"
   },
   "outputs": [
    {
     "data": {
      "image/png": "[encoded data removed]",
      "text/plain": [
       "<Figure size 432x288 with 1 Axes>"
      ]
     },
     "metadata": {
      "needs_background": "light"
     },
     "output_type": "display_data"
    }
   ],
   "source": [
    "def planck_func(wavelength,temperature=10**4):\n",
    "  wavelength = wavelength*10**(-6)\n",
    "  up = (2*planck*light**2)/(wavelength**5)\n",
    "  down = np.e**((planck*light)/(wavelength*boltzmann*temperature))-1\n",
    "  return (up/down)/10**14\n",
    "\n",
    "wl = np.linspace(0.1,2,100)\n",
    "plt.plot(wl,planck_func(wl))\n",
    "plt.axhline(0.1,linestyle='--',color='black')\n",
    "plt.xlabel('$10^{-6}$',fontsize=15);plt.ylabel('$10^{14}$',fontsize=15)\n",
    "plt.yscale('log')"
   ]
  },
  {
   "cell_type": "code",
   "execution_count": null,
   "metadata": {
    "colab": {
     "base_uri": "https://localhost:8080/"
    },
    "id": "Te0l_AWgz6h4",
    "outputId": "b307d5d2-46c5-4b15-bf2c-166b6cac7bf9"
   },
   "outputs": [
    {
     "name": "stdout",
     "output_type": "stream",
     "text": [
      "value1:1.488946e+00\n",
      "value2:1.044335e-01\n"
     ]
    }
   ],
   "source": [
    "tol = 1e-6\n",
    "a0,b0 = 1.4,1.6\n",
    "a1,b1 = 0.1,0.2\n",
    "n = 0\n",
    "\n",
    "for a,b in [[a0,b0],[a1,b1]]:\n",
    "  n += 1  \n",
    "  while True:\n",
    "    fa = planck_func(a)-0.1;fb = planck_func(b)-0.1\n",
    "    c = (a*fb-b*fa)/(fb-fa)\n",
    "    fc = planck_func(c)-0.1\n",
    "    if abs(c-a) < tol: break\n",
    "    if fa*fc < 0:\n",
    "      b = c\n",
    "    else:\n",
    "      a = c\n",
    "\n",
    "  print(f'value{n}:{c:.6e}')"
   ]
  },
  {
   "cell_type": "markdown",
   "metadata": {
    "id": "kEbNnEJc4cdD"
   },
   "source": [
    "# 3.3. 케플러 방정식"
   ]
  },
  {
   "cell_type": "code",
   "execution_count": null,
   "metadata": {
    "colab": {
     "base_uri": "https://localhost:8080/",
     "height": 820
    },
    "id": "6uy3o0bhhFX1",
    "outputId": "b531eed6-5587-4ef4-d7ef-61e6f4adb813"
   },
   "outputs": [
    {
     "name": "stdout",
     "output_type": "stream",
     "text": [
      "x is 0.000000 value:0.000000\n",
      "x is 0.108331 value:0.660467\n",
      "x is 0.216662 value:0.947339\n",
      "x is 0.324992 value:1.144412\n",
      "x is 0.433323 value:1.300691\n",
      "x is 0.541654 value:1.433140\n",
      "x is 0.649985 value:1.549786\n",
      "x is 0.758315 value:1.655117\n",
      "x is 0.866646 value:1.751923\n",
      "x is 0.974977 value:1.842065\n",
      "x is 1.083308 value:1.926857\n",
      "x is 1.191639 value:2.007264\n",
      "x is 1.299969 value:2.084019\n",
      "x is 1.408300 value:2.157696\n",
      "x is 1.516631 value:2.228751\n",
      "x is 1.624962 value:2.297558\n",
      "x is 1.733292 value:2.364427\n",
      "x is 1.841623 value:2.429619\n",
      "x is 1.949954 value:2.493357\n",
      "x is 2.058285 value:2.555834\n",
      "x is 2.166616 value:2.617219\n",
      "x is 2.274946 value:2.677664\n",
      "x is 2.383277 value:2.737305\n",
      "x is 2.491608 value:2.796264\n",
      "x is 2.599939 value:2.854654\n",
      "x is 2.708270 value:2.912582\n",
      "x is 2.816600 value:2.970147\n",
      "x is 2.924931 value:3.027443\n",
      "x is 3.033262 value:3.084562\n",
      "x is 3.141593 value:3.141593\n"
     ]
    },
    {
     "data": {
      "image/png": "[encoded data removed]",
      "text/plain": [
       "<Figure size 432x288 with 1 Axes>"
      ]
     },
     "metadata": {
      "needs_background": "light"
     },
     "output_type": "display_data"
    }
   ],
   "source": [
    "def kepler_eq(y):\n",
    "  f = y - 0.9*np.sin(y)\n",
    "  return f\n",
    "\n",
    "ylist = np.linspace(0,3.5,100)\n",
    "plt.plot(ylist,kepler_eq(ylist))\n",
    "xlist = np.linspace(0,np.pi,30)\n",
    "\n",
    "tol = 1e-6\n",
    "a,b = 0,3.5\n",
    "\n",
    "for x in xlist:\n",
    "  while True:\n",
    "    fa = kepler_eq(a) -x;fb = kepler_eq(b) -x\n",
    "    c = (a*fb-b*fa)/(fb-fa)\n",
    "    fc = kepler_eq(c) -x\n",
    "    if abs(c-a) < tol: break\n",
    "    if fa*fc < 0:\n",
    "      b = c\n",
    "    else:\n",
    "      a = c\n",
    "\n",
    "  print(f'x is {x:.6f} value:{c:.6f}')"
   ]
  },
  {
   "cell_type": "markdown",
   "metadata": {
    "id": "k9lYbs26_gbZ"
   },
   "source": [
    "# 3.4. 사하방정식"
   ]
  },
  {
   "cell_type": "markdown",
   "metadata": {
    "id": "MXLc8GLS_q67"
   },
   "source": [
    "# 3.5. 강자성체 그래프"
   ]
  },
  {
   "cell_type": "markdown",
   "metadata": {
    "id": "xwvLmASBCoXd"
   },
   "source": [
    "$T=\\frac{M}{tanh^{-1}M}$"
   ]
  },
  {
   "cell_type": "code",
   "execution_count": null,
   "metadata": {
    "colab": {
     "base_uri": "https://localhost:8080/",
     "height": 303
    },
    "id": "HgKtR2FVlw6t",
    "outputId": "9738238c-b978-4528-9903-0b3cd68df04a"
   },
   "outputs": [
    {
     "data": {
      "text/plain": [
       "Text(0, 0.5, '$T$')"
      ]
     },
     "execution_count": 8,
     "metadata": {},
     "output_type": "execute_result"
    },
    {
     "data": {
      "image/png": "[encoded data removed]",
      "text/plain": [
       "<Figure size 432x288 with 1 Axes>"
      ]
     },
     "metadata": {
      "needs_background": "light"
     },
     "output_type": "display_data"
    }
   ],
   "source": [
    "def magnetism(M):\n",
    "  return M/np.arctanh(M)\n",
    "\n",
    "Mlist=np.linspace(-0.9,0.9,1000)\n",
    "plt.plot(Mlist,magnetism(Mlist))\n",
    "\n",
    "plt.xlabel('$M$',fontsize=15);plt.ylabel('$T$',fontsize=15)"
   ]
  },
  {
   "cell_type": "markdown",
   "metadata": {
    "id": "0VG82qOADBig"
   },
   "source": [
    "# 3.6. 라그랑주 포인트"
   ]
  },
  {
   "cell_type": "markdown",
   "metadata": {
    "id": "Neqq9ZApDHJX"
   },
   "source": [
    "# 3.7. 르장드르 다항식"
   ]
  },
  {
   "cell_type": "code",
   "execution_count": null,
   "metadata": {
    "colab": {
     "base_uri": "https://localhost:8080/",
     "height": 449
    },
    "id": "i2WqiSAUDRY1",
    "outputId": "f835665e-a4fc-4691-9be1-522606a425e0"
   },
   "outputs": [
    {
     "data": {
      "text/plain": [
       "[-0.973906528517172,\n",
       " -0.865063366688985,\n",
       " -0.679409568299024,\n",
       " -0.433395394129247,\n",
       " -0.148874338981631,\n",
       " 0.148874338981631,\n",
       " 0.433395394129247,\n",
       " 0.679409568299024,\n",
       " 0.865063366688985,\n",
       " 0.973906528517172]"
      ]
     },
     "execution_count": 9,
     "metadata": {},
     "output_type": "execute_result"
    },
    {
     "data": {
      "image/png": "[encoded data removed]",
      "text/plain": [
       "<Figure size 432x288 with 1 Axes>"
      ]
     },
     "metadata": {
      "needs_background": "light"
     },
     "output_type": "display_data"
    }
   ],
   "source": [
    "def legendre(x):\n",
    "  func = (1/256)*(46189*x**10-109395*x**8+90090*x**6-30030*x**4+3465*x**2-63)\n",
    "  return func\n",
    "\n",
    "xlist = np.linspace(-1,1,1000)\n",
    "x=Symbol('x')\n",
    "\n",
    "plt.plot(xlist,legendre(xlist))\n",
    "plt.axhline(0,linestyle='--',color='black')\n",
    "\n",
    "solve(legendre(x))"
   ]
  },
  {
   "cell_type": "markdown",
   "metadata": {
    "id": "-xuJJeeXDKSD"
   },
   "source": [
    "# 3.8. 비선형 연립방정식"
   ]
  },
  {
   "cell_type": "markdown",
   "metadata": {
    "id": "jiU1QCquFsZX"
   },
   "source": [
    "$y=-\\frac{2x+5}{1-x}$ 와 $y=\\ln2x$로 정리할 수 있다"
   ]
  },
  {
   "cell_type": "markdown",
   "metadata": {
    "id": "4N1J-t9BGmtw"
   },
   "source": [
    "$2x+5=(x-1)\\ln2x$ 형태로 변형이 된다"
   ]
  },
  {
   "cell_type": "code",
   "execution_count": null,
   "metadata": {
    "colab": {
     "base_uri": "https://localhost:8080/",
     "height": 302
    },
    "id": "oryPm2AhALTb",
    "outputId": "87e27b3f-12b4-4945-b5fa-3b1d517e10e2"
   },
   "outputs": [
    {
     "name": "stdout",
     "output_type": "stream",
     "text": [
      "x value:0.003292\n",
      "y value:-5.023120\n"
     ]
    },
    {
     "data": {
      "image/png": "[encoded data removed]",
      "text/plain": [
       "<Figure size 432x288 with 1 Axes>"
      ]
     },
     "metadata": {
      "needs_background": "light"
     },
     "output_type": "display_data"
    }
   ],
   "source": [
    "def func(x):\n",
    "  return (x-1)*np.log(2*x)-2*x-5\n",
    "\n",
    "xlist = np.linspace(.001,1,1000)\n",
    "\n",
    "plt.plot(xlist,func(xlist))\n",
    "\n",
    "tol = 1e-6\n",
    "a,b = 0.001,0.1\n",
    "\n",
    "while True:\n",
    "  fa = func(a);fb = func(b)\n",
    "  c = (a*fb-b*fa)/(fb-fa)\n",
    "  fc = func(c)\n",
    "  if abs(c-a) < tol: break\n",
    "  if fa*fc < 0:\n",
    "    b = c\n",
    "  else:\n",
    "    a = c\n",
    "\n",
    "print(f'x value:{c:.6f}')\n",
    "print(f'y value:{np.log(2*c):.6f}')"
   ]
  }
 ],
 "metadata": {
  "colab": {
   "provenance": []
  },
  "kernelspec": {
   "display_name": "Python 3 (ipykernel)",
   "language": "python",
   "name": "python3"
  },
  "language_info": {
   "codemirror_mode": {
    "name": "ipython",
    "version": 3
   },
   "file_extension": ".py",
   "mimetype": "text/x-python",
   "name": "python",
   "nbconvert_exporter": "python",
   "pygments_lexer": "ipython3",
   "version": "3.7.7"
  }
 },
 "nbformat": 4,
 "nbformat_minor": 1
}
