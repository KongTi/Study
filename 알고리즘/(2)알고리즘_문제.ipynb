{
  "nbformat": 4,
  "nbformat_minor": 0,
  "metadata": {
    "colab": {
      "provenance": []
    },
    "kernelspec": {
      "name": "python3",
      "display_name": "Python 3"
    },
    "language_info": {
      "name": "python"
    }
  },
  "cells": [
    {
      "cell_type": "markdown",
      "source": [
        "#이과의 전투력\n",
        "파스칼 고등학교에서는 학생들의 수학 점수와 과학 점수로 강함을 측정하고, 강함에 따라 학생들의 등수를 매긴다고 합니다.\n",
        "\n",
        "학생들은 자신보다 강한 사람만 중요하게 생각하기 때문에 자신의 등수를 자신보다 강한 사람의 수를 이용하여 판단합니다.\n",
        "\n",
        "학생 A와 B의 (수학, 과학) 점수가 각각 (x,y), (i,j)라고 할 때, x > i 이고 y > j이면 A는 B보다 강하다고 말합니다.\n",
        "\n",
        "하지만, 내가 과학을 더 잘하지만, 수학 점수는 같거나 내가 더 낮으면, 나와 상대는 우열을 가릴수 없습니다. 즉, 서로 누가 더 강하다고 할 수 없습니다.\n",
        "\n",
        "쉽게 설명하면 파스칼 고등학교에서는 자신보다 수학, 과학 점수가 모두 높을 강하다고 판단하며, 자신보다 강한 사람의 수가 k명이라면, 자신의 등수는 k+1 등이 됩니다.\n",
        "\n",
        "즉, 다른 모든 학생이 자신과 우열을 가릴수 없거나 약하다면, 1등이 됩니다.\n",
        "\n",
        "학생 N명의 수학, 과학 점수를 입력받아서 각 학생의 등수를 계산하는 프로그램을 작성하세요.\n",
        "\n",
        "##[입력]\n",
        "- 첫 줄에는 전체 학생의 수 N을 입력합니다.\n",
        "\n",
        "- 두 번째 줄부터 N개의 줄에 걸쳐 각 학생의 수학 점수와 과학 점수를 나타내는 양의 정수 x와 y를 하나의 공백을 두고 각각 입력합니다.\n",
        "###(2 ≤ N ≤ 50, 1 ≤ x, y ≤ 100)\n",
        "\n",
        "##[출력]\n",
        "- 입력에 나열된 학생의 등수를 구해서 그 순서대로 첫 줄에 출력합니다. 단, 각 등수는 공백문자로 분리되어야 합니다.\n",
        "\n",
        "##[예시]\n",
        "5\n",
        "\n",
        "55 85\n",
        "\n",
        "58 83\n",
        "\n",
        "88 86\n",
        "\n",
        "60 75\n",
        "\n",
        "46 55\n",
        "\n",
        "---\n",
        "\n",
        "2 2 1 2 5\n",
        "\n",
        "##[주의사항]\n",
        "- 등수는 단순하게 자신보다 강한 학생수+1로 계산합니다. 자신과 우열을 가릴 수 없다면 강한 학생수에 들어가지 않습니다.\n",
        "\n",
        "- 이 계산 방법때문에 1 2 2 2 다음 등수가 3등일수도 5등일수도 있습니다."
      ],
      "metadata": {
        "id": "_HoRYIvu1oSB"
      }
    },
    {
      "cell_type": "code",
      "source": [
        "n = int(input())\n",
        "arr = []\n",
        "\n",
        "for i in range(n) : \n",
        "    a, b = map(int, input().split())\n",
        "    arr.append([a, b])\n",
        "\n",
        "strong = [0] * n\n",
        "for i in range(n) :\n",
        "    for j in range(i+1, n) :\n",
        "        if arr[i][0] > arr[j][0] and arr[i][1] > arr[j][1] :\n",
        "            strong[j] += 1\n",
        "        elif arr[i][0] < arr[j][0] and arr[i][1] < arr[j][1] :\n",
        "            strong[i] += 1\n",
        "\n",
        "for i in range(n) :\n",
        "    print(strong[i] + 1, end = \" \")"
      ],
      "metadata": {
        "colab": {
          "base_uri": "https://localhost:8080/"
        },
        "id": "6LSRDbpo2AAw",
        "outputId": "d8e2badf-b568-4421-ac03-91257d4ceab1"
      },
      "execution_count": 1,
      "outputs": [
        {
          "output_type": "stream",
          "name": "stdout",
          "text": [
            "5\n",
            "55 85\n",
            "58 83\n",
            "88 86\n",
            "60 75\n",
            "46 55\n",
            "2 2 1 2 5 "
          ]
        }
      ]
    },
    {
      "cell_type": "markdown",
      "source": [
        "#스택 구현하기\n",
        "정수를 저장하는 stack을 구현합니다.\n",
        "\n",
        "입출력을 받아 stack에 데이터를 추가하거나 제거하는 코드를 작성하세요.\n",
        "\n",
        "##지시사항\n",
        "첫 번째 줄에 스택이 수행할 연산의 개수를 나타내는 정수 nnn이 입력됩니다.\n",
        "###(1 ≤ n ≤ 100001)\n",
        "\n",
        "두 번째 줄부터 n개의 줄에 걸쳐 스택이 수행할 연산을 입력합니다.\n",
        "\n",
        "- 1 x : 스택에 정수 x를 추가합니다.\n",
        "- 2 : 스택에서 top의 정수를 제거. 스택이 비어있다면 제거하지 않습니다.\n",
        "- 3 : 스택의 size를 출력합니다.\n",
        "- 4 : 스택이 비어있는지를 출력합니다. 비어있다면 1, 아니라면 0을 출력합니다.\n",
        "- 5 : 스택의 top 값을 출력합니다. 스택이 비어있다면 -1을 출력합니다.\n",
        "\n",
        "##[예시]\n",
        "8\n",
        "\n",
        "1 1\n",
        "\n",
        "1 2\n",
        "\n",
        "2\n",
        "\n",
        "1 4\n",
        "\n",
        "2\n",
        "\n",
        "3\n",
        "\n",
        "5\n",
        "\n",
        "4\n",
        "\n",
        "---\n",
        "\n",
        "1\n",
        "\n",
        "1\n",
        "\n",
        "0"
      ],
      "metadata": {
        "id": "ypNXGH2FPKBh"
      }
    },
    {
      "cell_type": "code",
      "source": [
        "n = int(input())\n",
        "stk = []\n",
        "\n",
        "for i in range(n) :\n",
        "\n",
        "    inp = input()\n",
        "    \n",
        "    if inp[0] == '1' :\n",
        "        x = int(inp.split()[1])\n",
        "        stk.append(x)\n",
        "    \n",
        "    elif inp[0] == '2' :\n",
        "        if len(stk) > 0 :\n",
        "            stk.pop()\n",
        "    \n",
        "    elif inp[0] == '3' :\n",
        "        print(len(stk))\n",
        "    \n",
        "    elif inp[0] == '4' :\n",
        "        if len(stk) == 0 :\n",
        "            print(1)\n",
        "        else :\n",
        "            print(0)\n",
        "    \n",
        "    else :\n",
        "        if len(stk) == 0 :\n",
        "            print(-1)\n",
        "        else :\n",
        "            print(stk[-1])"
      ],
      "metadata": {
        "colab": {
          "base_uri": "https://localhost:8080/"
        },
        "id": "sEXs4Zy0O7IL",
        "outputId": "e34f4915-4308-4ae1-eaa5-e295c2a0546f"
      },
      "execution_count": 2,
      "outputs": [
        {
          "output_type": "stream",
          "name": "stdout",
          "text": [
            "8\n",
            "1 1\n",
            "1 2\n",
            "2\n",
            "1 4\n",
            "2\n",
            "3\n",
            "1\n",
            "5\n",
            "1\n",
            "4\n",
            "0\n"
          ]
        }
      ]
    },
    {
      "cell_type": "markdown",
      "source": [
        "#해치웠나…\n",
        "정의의 용사가 나쁜 악당과 싸우고 있습니다. 나쁜 악당은 하나라도 터지면 우주가 멸망해버리는 폭탄 ‘(‘ 를 발사하였습니다. 이 폭탄을 막을 방법은 폭탄과 정확하게 같은 개수만큼 용사 레이저 ‘)’ 를 발사하는 것뿐입니다. 용사 레이저도 너무 강력하여 폭탄보다 먼저 발사되거나 많이 발사해버리면 폭발하여 우주가 멸망합니다.\n",
        "\n",
        "예를 들어, “(())()()” 의 경우 폭탄과 레이저의 개수가 일치하여 방어에 성공했지만, “((()((())” 또는 “)))(())” 의 경우에는 폭탄이 레이저보다 많거나 레이저가 폭탄보다 많아 폭발하여 우주가 멸망하게 됩니다. “)(“ 의 경우에는 개수는 일치하지만 폭탄보다 레이저가 먼저 발사되어 우주가 멸망하게 됩니다.\n",
        "\n",
        "용사와 악당의 결투를 문자열로 받아 방어에 성공했는지 판별해보는 프로그램을 작성하세요.\n",
        "\n",
        "##[입력]\n",
        "- 용사와 악당의 결투 내용을 나타내는 괄호 문자열을 한 줄에 입력합니다.\n",
        "하나의 괄호 문자열의 길이는 2 이상 50 이하의 정수입니다.\n",
        "\n",
        "##[출력]\n",
        "- 방어에 성공했으면 “YES”, 아니면 “NO”를 출력합니다.\n",
        "\n",
        "##[예시]\n",
        "(())())\n",
        "\n",
        "---\n",
        "\n",
        "NO"
      ],
      "metadata": {
        "id": "Hq6mXkV_P6JX"
      }
    },
    {
      "cell_type": "code",
      "source": [
        "import sys\n",
        "vs = input()\n",
        "lst = []\n",
        "\n",
        "for i in vs:\n",
        "    if i == \"(\":\n",
        "        lst.append(i)\n",
        "    else:\n",
        "        try:\n",
        "            lst.pop()\n",
        "        except IndexError:\n",
        "            print(\"NO\")\n",
        "            sys.exit()\n",
        "    \n",
        "if len(lst) == 0:\n",
        "    print(\"YES\")\n",
        "else:\n",
        "    print(\"NO\")        "
      ],
      "metadata": {
        "colab": {
          "base_uri": "https://localhost:8080/",
          "height": 191
        },
        "id": "_3BM1rhcQGwj",
        "outputId": "31b5508e-2294-4477-912e-7d6203e5cace"
      },
      "execution_count": 3,
      "outputs": [
        {
          "output_type": "stream",
          "name": "stdout",
          "text": [
            "(())())\n",
            "NO\n"
          ]
        },
        {
          "output_type": "error",
          "ename": "SystemExit",
          "evalue": "ignored",
          "traceback": [
            "An exception has occurred, use %tb to see the full traceback.\n",
            "\u001b[0;31mSystemExit\u001b[0m\n"
          ]
        },
        {
          "output_type": "stream",
          "name": "stderr",
          "text": [
            "/usr/local/lib/python3.8/dist-packages/IPython/core/interactiveshell.py:3334: UserWarning: To exit: use 'exit', 'quit', or Ctrl-D.\n",
            "  warn(\"To exit: use 'exit', 'quit', or Ctrl-D.\", stacklevel=1)\n"
          ]
        }
      ]
    },
    {
      "cell_type": "markdown",
      "source": [
        "#숫자 야구\n",
        "숫자 야구라는 게임을 아시나요?\n",
        "\n",
        "두 사람이 하는 게임으로, 서로 돌아가면서 상대방의 숫자를 예측하고, 상대방에게 질문을 해 단서를 얻어 상대방의 숫자를 맞추는 게임입니다!\n",
        "\n",
        "맞춰야 하는 숫자는 0~9로 이루어진 길이 N의 숫자이며, 각각의 자릿수의 숫자는 서로 다릅니다. 또한, 맨 앞에는 0이 올 수 없습니다.\n",
        "\n",
        "상대방이 예측하면, 숫자를 생각한 사람은 상대방이 부른 수를 활용해 스트라이크 (위치와 숫자가 모두 같은 경우), 볼 (숫자는 같지만, 위치는 다른 경우) 의 수를 답해야 합니다.\n",
        "\n",
        "예를 들어, 체셔가 7142라는 숫자를 생각하고, 엘리스 토끼가 이 숫자를 맞추려고 한다고 가정한다면,\n",
        "\n",
        "엘리스 토끼가 1234를 부릅니다. 이 경우, 체셔는 0S 3B (0스트라이크 3볼) 이라고 답합니다.\n",
        "엘리스 토끼가 5678을 부릅니다. 이 경우, 체셔는 0S 1B (0스트라이크 1볼) 이라고 답합니다.\n",
        "엘리스 토끼가 5124를 부릅니다. 이 경우, 체셔는 1S 3B (1스트라이크 3볼) 이라고 답합니다.\n",
        "…\n",
        "단서가 쌓이면 쌓일수록 생각할 거리가 많아지기 때문에, 엘리스 토끼는 숫자 야구 게임에 도움을 주는 프로그램을 작성하려고 합니다.\n",
        "\n",
        "현재까지 얻은 단서들이 주어질 때, 답이 될 수 있는 후보들을 구하는 프로그램을 작성하세요.\n",
        "\n",
        "##[입력]\n",
        "- 첫 줄에 엘리스 토끼가 맞춰야 하는 숫자의 길이 N, 엘리스 토끼가 얻은 단서의 수 M이 주어집니다.\n",
        "\n",
        "###(1 ≤ N ≤ 7,1 ≤ M ≤ 15)\n",
        "\n",
        "- 두 번째 줄부터 M 줄에 걸쳐 엘리스 토끼가 예측한 수와 스트라이크의 수와 볼의 수가 순서대로 주어집니다.\n",
        "\n",
        "##[출력]\n",
        "- 답이 될 수 있는 후보들을 사전 순으로 출력합니다.\n",
        "\n",
        "- 답이 될 수 있는 후보가 아예 없는 경우는 입력으로 주어지지 않습니다.\n",
        "\n",
        "##[예시]\n",
        "3 3\n",
        "\n",
        "123 0 0\n",
        "\n",
        "456 0 0\n",
        "\n",
        "789 0 3\n",
        "\n",
        "---\n",
        "\n",
        "897\n",
        "\n",
        "978"
      ],
      "metadata": {
        "id": "657FIvsORDhQ"
      }
    },
    {
      "cell_type": "code",
      "source": [
        "import sys\n",
        "from itertools import permutations\n",
        "\n",
        "N, M = map(int, input().split())\n",
        "numbers = [str(dt) for dt in range(10)]\n",
        "datas = []\n",
        "answers = set()\n",
        "\n",
        "\n",
        "\n",
        "def check(s):\n",
        "    for i in range(M):\n",
        "        strike = ball = 0\n",
        "\n",
        "\n",
        "        cnt = [0] * 10\n",
        "        \n",
        "        for idx in range(len(s)):\n",
        "            cnt[int(s[idx])] += 1\n",
        "            cnt[int(datas[i][0][idx])] += 1\n",
        "            \n",
        "            if s[idx] == datas[i][0][idx]: strike += 1\n",
        "        \n",
        "        for j in range(10):\n",
        "            if cnt[j] == 2: ball += 1\n",
        "            \n",
        "        if not(strike == datas[i][1] and ball - strike == datas[i][2]): return False\n",
        "        \n",
        "    return True\n",
        "\n",
        "\n",
        "\n",
        "for i in range(M):\n",
        "    s, x, y = input().split()\n",
        "\n",
        "\n",
        "    datas.append((s, int(x), int(y)))\n",
        "    \n",
        "for case in permutations(numbers, N):\n",
        "    if case[0] == '0': continue\n",
        "    \n",
        "    tmp = ''.join(case)\n",
        "    if (check(tmp)): answers.add(tmp)\n",
        "    \n",
        "for dt in sorted(list(answers)):\n",
        "    print(dt)"
      ],
      "metadata": {
        "colab": {
          "base_uri": "https://localhost:8080/"
        },
        "id": "2dMyaiK7RB8x",
        "outputId": "b6eb6f2c-a05a-4e5a-948b-4ef85c17dfaf"
      },
      "execution_count": 4,
      "outputs": [
        {
          "output_type": "stream",
          "name": "stdout",
          "text": [
            "3 3\n",
            "123 0 0\n",
            "456 0 0\n",
            "789 0 3\n",
            "897\n",
            "978\n"
          ]
        }
      ]
    },
    {
      "cell_type": "markdown",
      "source": [
        "#불 끄기\n",
        "어떤 방에 N * M 크기의 격자가 있고, 각각의 칸에는 전구가 있습니다.\n",
        "\n",
        "이 방에는 몇 개의 전구가 계속 켜져 있었기에, 계속해서 전기세가 빠져나가고 있었습니다! 이를 보다 못한 엘리스 토끼는 모든 전구를 전부 끄려고 했습니다.\n",
        "\n",
        "아뿔싸! 전에 살던 사람이 장난을 치고 갔는지 스위치가 이상하게 동작합니다.\n",
        "\n",
        "어떤 스위치를 누르면, 격자의 한 행 또는 한 열의 모든 전구의 상태가 바뀝니다. 즉, 전구가 꺼져있다면 켜지고, 전구가 켜져 있다면 꺼집니다.\n",
        "\n",
        "각각의 행과 열에 대응하는 스위치가 있다면, 엘리스 토끼는 과연 원하는 대로 모든 전구를 끌 수 있을까요?\n",
        "\n",
        "방에 있는 전구의 상태가 주어질 때, 엘리스 토끼가 모든 전구를 끄는 데 필요한 최소 횟수를 구하는 프로그램을 작성하세요.\n",
        "\n",
        "##[입력]\n",
        "- 첫 줄에 N과 M이 주어집니다.\n",
        "\n",
        "###(1 ≤ N, M ≤ 9)\n",
        "\n",
        "\n",
        "- 두 번째 줄부터 N 줄에 걸쳐, 각 전구의 정보가 주어집니다. 1이면 전구가 켜져 있는 것이고, 0이면 전구가 꺼져있는 것입니다.\n",
        "\n",
        "##[출력]\n",
        "- 엘리스 토끼가 모든 전구를 끄는 데 필요한 최소 횟수를 출력하세요.\n",
        "\n",
        "- 만약 어떤 방법을 사용해도 모든 전구를 끌 수 없다면, -1을 출력하세요.\n",
        "\n",
        "##[예시]\n",
        "4 4\n",
        "\n",
        "0 1 0 0\n",
        "\n",
        "0 1 0 0\n",
        "\n",
        "1 0 1 1\n",
        "\n",
        "0 1 0 0\n",
        "\n",
        "---\n",
        "\n",
        "2\n",
        "\n",
        "##Tips\n",
        "첫 번째 입출력 예시를 보면, 3번째 행과 2번째 열에 대응하는 스위치를 누르면 모든 전구가 꺼집니다."
      ],
      "metadata": {
        "id": "Vl6u_VLCSJ5U"
      }
    },
    {
      "cell_type": "code",
      "source": [
        "import sys\n",
        "\n",
        "N, M = map(int, input().split())\n",
        "graph = [list(map(int, input().split())) for i in range(N)]\n",
        "answer = int(1e9)\n",
        "\n",
        "\n",
        "size_x = 1 << N\n",
        "size_y = 1 << M\n",
        "\n",
        "def check(x, y):\n",
        "    global answer\n",
        "    for i in range(N):\n",
        "        for j in range(M):\n",
        "            if graph[i][j]:\n",
        "                if x & (1 << i) and y & (1 << j): return\n",
        "                if not(x & (1 << i)) and not(y & (1 << j)): return\n",
        "            else:\n",
        "                if x & (1 << i) and not(y & (1 << j)): return\n",
        "\n",
        "                if not(x & (1 << i)) and y & (1 << j): return\n",
        "        \n",
        "    cnt = 0\n",
        "    \n",
        "    while x:\n",
        "        cnt += x % 2\n",
        "        x //= 2\n",
        "        \n",
        "    while y:\n",
        "        cnt += y % 2\n",
        "        y //= 2\n",
        "        \n",
        "    answer = min(answer, cnt)\n",
        "\n",
        "\n",
        "for i in range(size_x):\n",
        "    for j in range(size_y):\n",
        "\n",
        "        check(i, j)\n",
        "        \n",
        "if answer == int(1e9): print(-1)\n",
        "else: print(answer)"
      ],
      "metadata": {
        "colab": {
          "base_uri": "https://localhost:8080/"
        },
        "id": "8Lr5-_UrSEy5",
        "outputId": "98297383-c58b-4c04-d794-26fc75101843"
      },
      "execution_count": 5,
      "outputs": [
        {
          "output_type": "stream",
          "name": "stdout",
          "text": [
            "4 4\n",
            "0 1 0 0\n",
            "0 1 0 0\n",
            "1 0 1 1\n",
            "0 1 0 0\n",
            "2\n"
          ]
        }
      ]
    }
  ]
}