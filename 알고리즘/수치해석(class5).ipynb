{
 "cells": [
  {
   "cell_type": "code",
   "execution_count": null,
   "metadata": {
    "id": "FHoViMIILYK1"
   },
   "outputs": [],
   "source": [
    "import numpy as np\n",
    "from scipy import integrate\n",
    "from matplotlib import pyplot as plt"
   ]
  },
  {
   "cell_type": "markdown",
   "metadata": {
    "id": "cRSyKRf9mzw8"
   },
   "source": [
    "# 4.1. (1)합성 사다리꼴 공식과 (2)합성 심프슨 법칙을 이용하여 적분하기"
   ]
  },
  {
   "cell_type": "code",
   "execution_count": null,
   "metadata": {
    "id": "MgC9stPCPhc8"
   },
   "outputs": [],
   "source": [
    "def Trapzd(F, a, b, n):\n",
    "    summ = 0.5*(F(a)+F(b))\n",
    "    h = (b-a)/n\n",
    "    for j in range(1,n):\n",
    "        summ += F(a+j*h)\n",
    "    return h*summ"
   ]
  },
  {
   "cell_type": "code",
   "execution_count": null,
   "metadata": {
    "id": "YcXAcsfsYXgm"
   },
   "outputs": [],
   "source": [
    "def Simpson(F, a, b, n):\n",
    "    summ = F(a)+F(b)\n",
    "    h = (b-a)/n\n",
    "    if n!=1:\n",
    "      for j in range(1,n-1,2):\n",
    "          summ += 4*F(a+j*h)\n",
    "          summ += 2*F(a+(j+1)*h)\n",
    "      summ += 4*F(b-h)\n",
    "    return summ*h/3"
   ]
  },
  {
   "cell_type": "code",
   "execution_count": null,
   "metadata": {
    "id": "pukZ1Cb9PyEy"
   },
   "outputs": [],
   "source": [
    "def number_one(x):\n",
    "  if x == 0: return 1\n",
    "  return (x/np.sin(x))**2"
   ]
  },
  {
   "cell_type": "markdown",
   "metadata": {
    "id": "Y6NwEp26m9w8"
   },
   "source": [
    "## (1)합성 사다리꼴 공식"
   ]
  },
  {
   "cell_type": "code",
   "execution_count": null,
   "metadata": {
    "colab": {
     "base_uri": "https://localhost:8080/"
    },
    "id": "qnJPWn9tQSnn",
    "outputId": "301afef6-af5d-4be3-fa9d-d0e215a49056"
   },
   "outputs": [
    {
     "name": "stdout",
     "output_type": "stream",
     "text": [
      "i=0,2.723290455916187, 2.723290455916187\n",
      "i=1,2.330591374217463, 0.39269908169872414\n",
      "i=2,2.21736427150801, 0.11322710270945269\n",
      "i=3,2.187640832619005, 0.029723438889005305\n",
      "i=4,2.1801069629326957, 0.0075338696863092025\n",
      "i=5,2.178216762732057, 0.0018902002006386809\n",
      "i=6,2.1777437868838097, 0.00047297584824734784\n",
      "i=7,2.1776255162294977, 0.00011827065431191386\n",
      "i=8,2.177595946896398, 2.9569333099832562e-05\n",
      "i=9,2.177588554458759, 7.3924376389200575e-06\n",
      "i=10,2.177586706342826, 1.8481159331784625e-06\n",
      "i=11,2.1775862443134364, 4.62029389414198e-07\n",
      "i=12,2.177586128806055, 1.1550738143739636e-07\n",
      "i=13,2.1775860999292176, 2.8876837365743313e-08\n",
      "i=14,2.1775860927100124, 7.219205233610637e-09\n",
      "i=15,2.1775860909052116, 1.804800753291147e-09\n",
      "i=16,2.1775860904539885, 4.51223058917094e-10\n",
      "i=17,2.1775860903411797, 1.1280887335374246e-10\n",
      "i=18,2.1775860903129862, 2.8193447576541075e-11\n",
      "i=19,2.1775860903059345, 7.051692563209144e-12\n",
      "i=20,2.1775860903041693, 1.765254609153999e-12\n"
     ]
    }
   ],
   "source": [
    "perr = 0\n",
    "for i in range(21):\n",
    "  anw = Trapzd(number_one, 0, np.pi/2, 2**i)\n",
    "  error = abs(perr-anw)\n",
    "  perr = anw\n",
    "  print(f'i={i},{anw}, {error}')"
   ]
  },
  {
   "cell_type": "markdown",
   "metadata": {
    "id": "Ba0wq4gEnB9U"
   },
   "source": [
    "## (2)합성 심프슨 법칙"
   ]
  },
  {
   "cell_type": "code",
   "execution_count": null,
   "metadata": {
    "colab": {
     "base_uri": "https://localhost:8080/"
    },
    "id": "2tEor1qhQ1B3",
    "outputId": "5a43fa1b-7138-474b-efa9-b3dd9efb1145"
   },
   "outputs": [
    {
     "name": "stdout",
     "output_type": "stream",
     "text": [
      "i=0,1.8155269706107913,1.8155269706107913\n",
      "i=1,2.199691680317888,0.3841647097070966\n",
      "i=2,2.1796219039381923,0.020069776379695536\n",
      "i=3,2.1777330196560034,0.0018888842821889185\n",
      "i=4,2.1775956730372594,0.00013734661874398313\n",
      "i=5,2.1775866959985115,8.97703874791489e-06\n",
      "i=6,2.177586128267727,5.677307846063684e-07\n",
      "i=7,2.1775860926780592,3.558966765737637e-08\n",
      "i=8,2.177586090452032,2.2260273624397087e-09\n",
      "i=9,2.1775860903128788,1.3915313346046787e-10\n",
      "i=10,2.177586090304184,8.694822639654376e-12\n",
      "i=11,2.177586090303637,5.471179065352771e-13\n",
      "i=12,2.1775860903036066,3.019806626980426e-14\n",
      "i=13,2.1775860903036097,3.1086244689504383e-15\n",
      "i=14,2.177586090303613,3.1086244689504383e-15\n",
      "i=15,2.1775860903035986,1.4210854715202004e-14\n",
      "i=16,2.1775860903035698,2.886579864025407e-14\n",
      "i=17,2.177586090303591,2.1316282072803006e-14\n",
      "i=18,2.177586090303634,4.3076653355456074e-14\n",
      "i=19,2.1775860903036115,2.2648549702353193e-14\n",
      "i=20,2.1775860903036004,1.1102230246251565e-14\n"
     ]
    }
   ],
   "source": [
    "perr = 0\n",
    "for i in range(21):\n",
    "  anw = Simpson(number_one, 0, np.pi/2, 2**i)\n",
    "  error = abs(perr-anw)\n",
    "  perr = anw\n",
    "  print(f'i={i},{anw},{error}')"
   ]
  },
  {
   "cell_type": "markdown",
   "metadata": {
    "id": "wstcampQnGRV"
   },
   "source": [
    "# 4.2. (1)합성 사다리꼴 공식과 (2)가우스 구적법으로 적분값 구하기"
   ]
  },
  {
   "cell_type": "code",
   "execution_count": null,
   "metadata": {
    "id": "NzgWSj-zfKlT"
   },
   "outputs": [],
   "source": [
    "def number_two(x):\n",
    "  return np.log(x)*x**2"
   ]
  },
  {
   "cell_type": "markdown",
   "metadata": {
    "id": "uDXCIXc_nNsN"
   },
   "source": [
    "## (1)합성 사다리꼴 공식"
   ]
  },
  {
   "cell_type": "code",
   "execution_count": null,
   "metadata": {
    "colab": {
     "base_uri": "https://localhost:8080/"
    },
    "id": "UeAwDGCqfbOB",
    "outputId": "6cc4c745-cc33-4aff-c55e-c67773b32e07"
   },
   "outputs": [
    {
     "name": "stdout",
     "output_type": "stream",
     "text": [
      "i=0,1.3862943611198906, 1.3862943611198906\n",
      "i=1,1.1492954271816302, 0.23699893393826033\n",
      "i=2,1.0902690009609861, 0.059026426220644135\n",
      "i=3,1.0755272672591092, 0.014741733701876925\n",
      "i=4,1.07184278112597, 0.0036844861331390977\n",
      "i=5,1.0709217190960214, 0.0009210620299486827\n",
      "i=6,1.070691457312235, 0.00023026178378637852\n",
      "i=7,1.0706338920990945, 5.7565213140486904e-05\n",
      "i=8,1.0706195008103605, 1.4391288734039165e-05\n",
      "i=9,1.0706159029890867, 3.597821273793045e-06\n",
      "i=10,1.0706150035338255, 8.994552611607531e-07\n",
      "i=11,1.070614778670013, 2.2486381245911957e-07\n",
      "i=12,1.0706147224540628, 5.621595033922233e-08\n",
      "i=13,1.07061470840007, 1.405399285836495e-08\n",
      "i=14,1.07061470488657, 3.5134999354369256e-09\n",
      "i=15,1.0706147040081992, 8.783707095005866e-10\n",
      "i=16,1.0706147037886045, 2.1959478679889344e-10\n",
      "i=17,1.0706147037337006, 5.4903859236787866e-11\n"
     ]
    }
   ],
   "source": [
    "perr,i = 0, 0\n",
    "while True:\n",
    "  anw = Trapzd(number_two, 1, 2, 2**i)\n",
    "  error = abs(perr-anw)\n",
    "  perr = anw\n",
    "  print(f'i={i},{anw}, {error}')\n",
    "  if error < 1e-10: break\n",
    "  i += 1"
   ]
  },
  {
   "cell_type": "markdown",
   "metadata": {
    "id": "bcPrSShMnQx1"
   },
   "source": [
    "## (2)가우스 구적법"
   ]
  },
  {
   "cell_type": "code",
   "execution_count": null,
   "metadata": {
    "colab": {
     "base_uri": "https://localhost:8080/"
    },
    "id": "ep5Ng5vZg1cY",
    "outputId": "2fde8450-66f5-4f4a-d562-7ced1787777f"
   },
   "outputs": [
    {
     "name": "stdout",
     "output_type": "stream",
     "text": [
      "i=0,0.9122964932433699, 0.9122964932433699\n",
      "i=1,1.0708261197633164, 0.1585296265199465\n",
      "i=2,1.0706147170630684, 0.0002114027002479979\n",
      "i=3,1.0706147037154108, 1.3347657645823574e-08\n",
      "i=4,1.0706147037154095, 1.3322676295501878e-15\n"
     ]
    }
   ],
   "source": [
    "perr, i = 0,0\n",
    "a,b=1,2\n",
    "while True:\n",
    "    n = 2**i\n",
    "    t,w=np.polynomial.legendre.leggauss(n)\n",
    "    x = (b+a+t*(b-a))*0.5\n",
    "    anw=np.sum(w*number_two(x))*0.5*(b-a)\n",
    "    error=abs(perr-anw)\n",
    "    perr = anw\n",
    "    print(f'i={i},{anw}, {error}')\n",
    "    if error < 1e-10: break\n",
    "    i += 1"
   ]
  },
  {
   "cell_type": "markdown",
   "metadata": {
    "id": "JBN4IkOznVht"
   },
   "source": [
    "# 4.3. 주연감광 현상 수치적분하여 함수 그리기"
   ]
  },
  {
   "cell_type": "code",
   "execution_count": null,
   "metadata": {
    "id": "jjx80RIRg_mc"
   },
   "outputs": [],
   "source": [
    "def number_third(x):\n",
    "  func = lambda phi: (phi*np.arctan(x*np.tan(phi)))/(1-phi*(1/np.tan(phi)))\n",
    "  return (1/(1+x))*np.exp((1/np.pi)*integrate.quad(func,0,np.pi/2)[0])"
   ]
  },
  {
   "cell_type": "code",
   "execution_count": null,
   "metadata": {
    "id": "GMVT88jdth05"
   },
   "outputs": [],
   "source": [
    "xlist = np.linspace(0,1,100)\n",
    "y = []\n",
    "for x in xlist:\n",
    "  anw = number_third(x)\n",
    "  y.append(anw)"
   ]
  },
  {
   "cell_type": "code",
   "execution_count": null,
   "metadata": {
    "colab": {
     "base_uri": "https://localhost:8080/",
     "height": 308
    },
    "id": "YGpwv2qIt86K",
    "outputId": "b111e7f6-d631-4d56-eb0e-7606530bbe29"
   },
   "outputs": [
    {
     "data": {
      "text/plain": [
       "Text(0, 0.5, '$H(\\\\mu)$')"
      ]
     },
     "execution_count": 12,
     "metadata": {},
     "output_type": "execute_result"
    },
    {
     "data": {
      "image/png": "[encoded data removed]",
      "text/plain": [
       "<Figure size 432x288 with 1 Axes>"
      ]
     },
     "metadata": {
      "needs_background": "light"
     },
     "output_type": "display_data"
    }
   ],
   "source": [
    "plt.plot(xlist,y)\n",
    "plt.xticks(fontsize=15);plt.yticks(fontsize=15)\n",
    "plt.xlabel(r'$\\mu$',fontsize=15)\n",
    "plt.ylabel(r'$H(\\mu)$',fontsize=15)"
   ]
  },
  {
   "cell_type": "markdown",
   "metadata": {
    "id": "DAoBEvEvnb0s"
   },
   "source": [
    "# 4.4. 롬베르크 알고리즘으로 적분 계산하기\n",
    "($T_{j-1, j-1}$과 $T_{j, j}$의 차이가 $10^{-8}$보다 작을 때 멈추기)"
   ]
  },
  {
   "cell_type": "code",
   "execution_count": null,
   "metadata": {
    "id": "NODK1oZSt-zP"
   },
   "outputs": [],
   "source": [
    "def Romberg(F,a,b,tol):\n",
    "    Jmax = 10\n",
    "    T = np.zeros((Jmax,Jmax),dtype=float)\n",
    "    T[0,0] = (b-a)*(F(a)+F(b))*0.5\n",
    "    for j in range(1,Jmax):\n",
    "        T[j,0] = Trapzd(F,a,b,2**j)\n",
    "        for k in range(1,j+1):\n",
    "            T[j,k] = T[j,k-1]+(T[j,k-1]-T[j-1,k-1])/(4**k-1.)\n",
    "        if(abs(T[j,j]-T[j-1,j-1]) < tol): break\n",
    "    return j, T[j,j]"
   ]
  },
  {
   "cell_type": "code",
   "execution_count": null,
   "metadata": {
    "id": "cQc53NDIvilJ"
   },
   "outputs": [],
   "source": [
    "def number_four_1(x):\n",
    "  return x*np.exp(x)/(1+x)**2\n",
    "\n",
    "def number_four_2(x):\n",
    "  if x == 0: return -1\n",
    "  return (np.cos(x)-np.exp(x))/np.sin(x)"
   ]
  },
  {
   "cell_type": "code",
   "execution_count": null,
   "metadata": {
    "colab": {
     "base_uri": "https://localhost:8080/"
    },
    "id": "1oqSx2Swvtsw",
    "outputId": "22a8a530-6b31-4428-f5e1-4f4045e2d3df"
   },
   "outputs": [
    {
     "name": "stdout",
     "output_type": "stream",
     "text": [
      "(1)의 j:5,value:0.3591409142212301\n",
      "(2)의 j:6,value:-2.2465917207286266\n"
     ]
    }
   ],
   "source": [
    "tol = 1e-8\n",
    "a,b = 0,1\n",
    "number, anw = Romberg(number_four_1,a,b,tol)\n",
    "print(f'(1)의 j:{number},value:{anw}')\n",
    "\n",
    "a,b = -1,1\n",
    "number, anw = Romberg(number_four_2,a,b,tol)\n",
    "print(f'(2)의 j:{number},value:{anw}')"
   ]
  },
  {
   "cell_type": "markdown",
   "metadata": {
    "id": "l3FBIKdXn8Yu"
   },
   "source": [
    "# 4.8. 무한으로 발산하는 적분 계산하기\n",
    "(심프슨 법칙을 이용)"
   ]
  },
  {
   "cell_type": "code",
   "execution_count": null,
   "metadata": {
    "id": "RwPhLNsUwFCT"
   },
   "outputs": [],
   "source": [
    "def number_five_1(x):\n",
    "  if x == 0: return 0\n",
    "  return x**3/(np.exp(x)-1)\n",
    "\n",
    "def number_five_2(x):\n",
    "  if x == 0: return 0\n",
    "  return x*np.exp(-2*x)/np.sqrt(np.exp(x)-1)"
   ]
  },
  {
   "cell_type": "code",
   "execution_count": null,
   "metadata": {
    "id": "pwWyRvBgEqL6"
   },
   "outputs": [],
   "source": [
    "def number_five_11(y):\n",
    "  if y == 0: return 0\n",
    "  return number_five_1(1/y)*(1/y**2)\n",
    "\n",
    "def number_five_22(y):\n",
    "  if y ==0: return 0\n",
    "  return number_five_2(1/y)*(1/y**2)"
   ]
  },
  {
   "cell_type": "code",
   "execution_count": null,
   "metadata": {
    "colab": {
     "base_uri": "https://localhost:8080/"
    },
    "id": "pop7nfBhKVCu",
    "outputId": "a1051b09-345b-4510-89e4-6abae32fc02a"
   },
   "outputs": [
    {
     "name": "stdout",
     "output_type": "stream",
     "text": [
      "(1)의 j:6,value:6.493932958457415\n",
      "(2)의 j:6,value:0.258583227429234\n"
     ]
    }
   ],
   "source": [
    "a,i = 1,6\n",
    "\n",
    "anw1 = Simpson(number_five_1, 0, a, 2**i) + Simpson(number_five_11, 0, 1/a, 2**i)\n",
    "anw2 = Simpson(number_five_2, 0, a, 2**i) + Simpson(number_five_22, 0, 1/a, 2**i)\n",
    "\n",
    "print(f'(1)의 j:{number},value:{anw1}')\n",
    "print(f'(2)의 j:{number},value:{anw2}')"
   ]
  }
 ],
 "metadata": {
  "colab": {
   "provenance": []
  },
  "kernelspec": {
   "display_name": "Python 3 (ipykernel)",
   "language": "python",
   "name": "python3"
  },
  "language_info": {
   "codemirror_mode": {
    "name": "ipython",
    "version": 3
   },
   "file_extension": ".py",
   "mimetype": "text/x-python",
   "name": "python",
   "nbconvert_exporter": "python",
   "pygments_lexer": "ipython3",
   "version": "3.7.7"
  }
 },
 "nbformat": 4,
 "nbformat_minor": 1
}
