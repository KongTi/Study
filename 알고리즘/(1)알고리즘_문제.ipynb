{
  "nbformat": 4,
  "nbformat_minor": 0,
  "metadata": {
    "colab": {
      "provenance": []
    },
    "kernelspec": {
      "name": "python3",
      "display_name": "Python 3"
    },
    "language_info": {
      "name": "python"
    }
  },
  "cells": [
    {
      "cell_type": "markdown",
      "source": [
        "#추억의 햄버거 만들기\n",
        "엘리스는 별자리를 좋아하는데, 그 중에서도 특히 햄버거 모양의 별자리를 좋아합니다.\n",
        "\n",
        "숫자가 입력되었을 때, 아래 예시와 같은 규칙으로 출력이 이루어지도록 코드를 작성해 보세요.\n",
        "\n",
        "- 출력 시, 각 줄의 오른쪽 끝에는 공백이 없어야 합니다.\n",
        "\n",
        "- 출력 시, 2번째 줄의 왼쪽 끝에는 공백이 없어야 합니다.\n",
        "\n",
        "- * 와 * 사이 공백은 1칸입니다.\n",
        "\n",
        "##입력\n",
        "첫째 줄에 숫자(자연수)가 입력됩니다.\n",
        "\n",
        "##출력\n",
        "숫자에 따라, 아래 예시와 같이 출력이 이루어집니다.\n",
        "\n",
        "##예시\n",
        "5\n",
        "\n",
        "---\n",
        "\n",
        "\\ * * * * *\n",
        "\n",
        "\\* * * * * *\n",
        "\n",
        "\\ * * * * *"
      ],
      "metadata": {
        "id": "_HoRYIvu1oSB"
      }
    },
    {
      "cell_type": "code",
      "source": [
        "num = int(input())\n",
        "\n",
        "for idx,_ in enumerate(range(3)):\n",
        "  if idx %2 == 0:\n",
        "    print(' *'*num)\n",
        "  else:\n",
        "    print('* '*(num)+'*')"
      ],
      "metadata": {
        "colab": {
          "base_uri": "https://localhost:8080/"
        },
        "id": "6LSRDbpo2AAw",
        "outputId": "7ec2e76e-aaf9-4623-ced9-5712bc5da114"
      },
      "execution_count": 1,
      "outputs": [
        {
          "output_type": "stream",
          "name": "stdout",
          "text": [
            "5\n",
            " * * * * *\n",
            "* * * * * *\n",
            " * * * * *\n"
          ]
        }
      ]
    },
    {
      "cell_type": "markdown",
      "source": [
        "#도도새의 업무일지\n",
        "도도새는 관광객들에게 판매하기 위해 조개껍데기로 액세서리를 만드는 일을 합니다. 매일 다른 갯수의 액세서리를 만드는 도도새는 자신이 몇 개의 액세서리를 제작하는지 개수를 기록하는 업무일지를 작성합니다.\n",
        "\n",
        "업무일지는 A, B 두가지로 작성합니다.\n",
        "\n",
        "업무일지 A에는 매일매일 만드는 액세서리의 개수는 그대로 기재합니다.\n",
        "업무일지 B에는 첫날부터 매일 만들어온 액세서리 개수의 평균값을 기재합니다.\n",
        "예를 들어, 도도새가 5일간 1개, 3개, 2개, 6개, 8개의 액세서리를 제작했을때,\n",
        "업무일지 A에는 1, 3, 2, 6, 8과 같이 기입하면 되고,\n",
        "업무일지 B에는 1/1, (1+3)/2, (1+3+2)/3, (1+3+2+6)/4, (1+3+2+6+8)/5, 즉, 1, 2, 2, 3, 4처럼 입력하면 됩니다.\n",
        "\n",
        "그런데 도도새가 업무일지 A를 잃어버렸습니다. 업무일지 B를 보고 업무일지 A를 복구하는 프로그램을 작성하세요.\n",
        "\n",
        "##[입력]\n",
        "- 첫째 줄에는 업무일지 B의 길이를 나타내는 정수 N을 입력합니다.\n",
        "\n",
        "###(1 ≤ N ≤ 100)\n",
        "\n",
        "- 둘째 줄에는 업무일지 B의 내용 B_i를 이루는 N개의 정수를 입력합니다.\n",
        "\n",
        "###(1 ≤ B_i ≤ 1,000)\n",
        "\n",
        "##[출력]\n",
        "- 업무일지 A를 이루는 N개의 정수를 출력합니다.\n",
        "\n",
        "###(1 ≤ A_i ≤ 1,000)\n",
        "\n",
        "##[예시]\n",
        "5\n",
        "\n",
        "1 2 2 3 4\n",
        "\n",
        "---\n",
        "\n",
        "1 3 2 6 8"
      ],
      "metadata": {
        "id": "ejz795dL3gSv"
      }
    },
    {
      "cell_type": "code",
      "source": [
        "num = int(input())\n",
        "B_i = input()\n",
        "\n",
        "B_list = B_i.split()\n",
        "\n",
        "A_list = []\n",
        "\n",
        "for i,ele in enumerate(B_list):\n",
        "  i += 1\n",
        "\n",
        "  if i > num:\n",
        "    break\n",
        "\n",
        "  value = int(ele)*i - sum(A_list)\n",
        "  A_list.append(value)\n",
        "\n",
        "A_list = list(map(str,A_list))\n",
        "print(' '.join(A_list))"
      ],
      "metadata": {
        "colab": {
          "base_uri": "https://localhost:8080/"
        },
        "id": "wA0d_63v2yww",
        "outputId": "f769b06e-e060-42c5-bb1d-43bb048fb6c8"
      },
      "execution_count": 2,
      "outputs": [
        {
          "output_type": "stream",
          "name": "stdout",
          "text": [
            "5\n",
            "1 2 2 3 4\n",
            "1 3 2 6 8\n"
          ]
        }
      ]
    },
    {
      "cell_type": "markdown",
      "source": [
        "#절대 반지\n",
        "\n",
        "도도새는 N개의 반지를 가지고 있습니다. 반지에는 알파벳 대문자로 이루어진 문자열이 새겨져 있습니다. 적힌 문자열은 10자를 넘지 않습니다.\n",
        "\n",
        "도도새가 반지의 적힌 문자열을 읽을 때 항상 시계 방향으로 읽으며 문자열의 시작과 끝이 연결된 형태로 문자가 새겨져 있습니다.\n",
        "\n",
        "도도새가 가지고 있는 반지의 일부는 모자 장수의 것인데, 반지에 새겨진 문자열 중 모자 장수의 별명이 포함되면 모자 장수의 것이라고 합니다.\n",
        "\n",
        "각 반지에 새겨진 문자열을 줬을 때 모자 장수 반지의 개수를 출력하는 프로그램을 작성하세요.\n",
        "\n",
        "##[입력]\n",
        "- 첫 번째 줄에 모자 장수의 별명을 입력합니다. 별명은 알파벳 대문자이며 10자를 넘지 않습니다.\n",
        "\n",
        "- 두 번째 줄에 도도새가 가지고 있는 반지의 개수인 자연수 N을 입력합니다.\n",
        "\n",
        "###(1 ≤ N ≤ 5)\n",
        "\n",
        "- 세 번째부터 각 반지에 새겨진 문자열을 한 줄씩 입력합니다.\n",
        "\n",
        "##[출력]\n",
        "- 첫 번째 줄에 모자 장수의 반지의 개수를 출력합니다.\n",
        "\n",
        "##[예시]\n",
        "ABC\n",
        "\n",
        "2\n",
        "\n",
        "ABCAAAAAAA\n",
        "\n",
        "CWEQWFGAB\n",
        "\n",
        "---\n",
        "\n",
        "2"
      ],
      "metadata": {
        "id": "tRgVnCi070oQ"
      }
    },
    {
      "cell_type": "code",
      "source": [
        "def inring(string):\n",
        "    for i in range(len(moja)):\n",
        "        word = string[i:]+string[:i]\n",
        "        if moja in word:\n",
        "            return 1\n",
        "    return 0\n",
        "\n",
        "moja = input()\n",
        "ring_num = int(input())\n",
        "\n",
        "cnt = 0\n",
        "for num in range(ring_num):\n",
        "    ring = input()\n",
        "    cnt += inring(ring)\n",
        "\n",
        "print(cnt)"
      ],
      "metadata": {
        "colab": {
          "base_uri": "https://localhost:8080/"
        },
        "id": "SPuYxHva6rzO",
        "outputId": "a7efe78a-f632-416a-8de8-035ef4a0d712"
      },
      "execution_count": 3,
      "outputs": [
        {
          "output_type": "stream",
          "name": "stdout",
          "text": [
            "ABC\n",
            "2\n",
            "ABCAAAAAAA\n",
            "CWEQWFGAB\n",
            "2\n"
          ]
        }
      ]
    },
    {
      "cell_type": "markdown",
      "source": [
        "#떡 먹은 떡만이\n",
        "\n",
        "똑같이 생긴 세쌍둥이 떡만이 1, 떡만이 2, 떡만이 3이 일렬로 서있습니다. 세 떡만이가 처음에 서 있던 자리를 왼쪽부터 1번, 2번, 3번 자리라고 합니다.\n",
        "\n",
        "떡만이 1은 하나밖에 없는 떡을 한입에 먹어버렸습니다. 그리고 세 떡만이들은 누가 떡을 먹었는지 숨기기 위해 서로 자리를 바꾸려고 합니다.\n",
        "\n",
        "떡만이들은 두 자리를 고른 다음 두 자리에 있는 떡만이들이 자리를 바꾸려고 합니다.\n",
        "예를 들어, 1번 자리와 3번 자리를 골랐다면 1번 자리에 있는 떡만이가 3번 자리에, 3번 자리에 있던 떡만이가 1번 자리로 이동하게 됩니다.\n",
        "\n",
        "떡만이들이 자리를 M 번 바꾼다고 할 때, 떡 먹은 떡만이를 찾는 프로그램을 작성하세요.\n",
        "\n",
        "##[입력]\n",
        "- 첫째 줄에 위치를 바꾼 횟수를 나타내는 자연수 M을 입력합니다.\n",
        "\n",
        "###(1 <= M <= 100)\n",
        "\n",
        "- 둘째 줄부터 M개의 줄에는 위치를 바꾼 자리 X와 Y를 공백으로 구분하여 입력합니다.\n",
        "- X와 Y는 1, 2, 3만 입력 가능하고, X와 Y가 같을 수도 있습니다.\n",
        "\n",
        "##[출력]\n",
        "- 떡을 먹은 떡만이 1이 위치한 곳의 자리 번호를 출력합니다.\n",
        "\n",
        "##[예시]\n",
        "4\n",
        "\n",
        "3 1\n",
        "\n",
        "2 3\n",
        "\n",
        "3 1\n",
        "\n",
        "3 2\n",
        "\n",
        "---\n",
        "\n",
        "3"
      ],
      "metadata": {
        "id": "8C0YLTPm9K6I"
      }
    },
    {
      "cell_type": "code",
      "source": [
        "num = int(input())\n",
        "anw = ['*','','']\n",
        "\n",
        "for cnt in range(num):\n",
        "    change = input().split(' ')\n",
        "    first, second = list(map(int,change))\n",
        "    first_val = anw[first-1]; second_val = anw[second-1]\n",
        "    anw[first-1] = second_val; anw[second-1] = first_val\n",
        "\n",
        "print(anw.index('*')+1)"
      ],
      "metadata": {
        "colab": {
          "base_uri": "https://localhost:8080/"
        },
        "id": "QmokVOAx9Y8H",
        "outputId": "64fa4a2d-0718-4fc4-dc8e-0730f2d15d63"
      },
      "execution_count": 4,
      "outputs": [
        {
          "output_type": "stream",
          "name": "stdout",
          "text": [
            "4\n",
            "3 1\n",
            "2 3\n",
            "3 1\n",
            "3 2\n",
            "3\n"
          ]
        }
      ]
    }
  ]
}