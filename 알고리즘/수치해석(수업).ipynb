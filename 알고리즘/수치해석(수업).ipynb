{
 "cells": [
  {
   "cell_type": "code",
   "execution_count": 1,
   "id": "cc410e06",
   "metadata": {
    "executionInfo": {
     "elapsed": 256,
     "status": "ok",
     "timestamp": 1647336249457,
     "user": {
      "displayName": "콩치",
      "photoUrl": "https://lh3.googleusercontent.com/a-/AOh14Gh-qB3YReWzs0wlmP_lklQD_JvbfPKdOPAH2LE11w=s64",
      "userId": "04485826023922105592"
     },
     "user_tz": -540
    },
    "id": "cc410e06"
   },
   "outputs": [],
   "source": [
    "import numpy as np\n",
    "from sympy import *\n",
    "from datetime import datetime\n",
    "from matplotlib import pyplot as plt\n",
    "from urllib import request\n",
    "import pandas as pd"
   ]
  },
  {
   "cell_type": "markdown",
   "id": "c626ae84",
   "metadata": {
    "id": "c626ae84"
   },
   "source": [
    "# 1.1. 대소문자 바꾸기"
   ]
  },
  {
   "cell_type": "code",
   "execution_count": 2,
   "id": "d10b6cfd",
   "metadata": {
    "colab": {
     "base_uri": "https://localhost:8080/",
     "height": 35
    },
    "executionInfo": {
     "elapsed": 6,
     "status": "ok",
     "timestamp": 1647336249874,
     "user": {
      "displayName": "콩치",
      "photoUrl": "https://lh3.googleusercontent.com/a-/AOh14Gh-qB3YReWzs0wlmP_lklQD_JvbfPKdOPAH2LE11w=s64",
      "userId": "04485826023922105592"
     },
     "user_tz": -540
    },
    "id": "d10b6cfd",
    "outputId": "6f913f43-9765-4f0b-e79f-aec3ac3d0166"
   },
   "outputs": [
    {
     "data": {
      "text/plain": [
       "'pYTHON'"
      ]
     },
     "execution_count": 2,
     "metadata": {},
     "output_type": "execute_result"
    }
   ],
   "source": [
    "a = \"Python\"\n",
    "aa = \"\"\n",
    "for spell in a:\n",
    "    if spell.isupper():\n",
    "        aa += spell.lower()\n",
    "    elif spell.islower():\n",
    "        aa += spell.upper()\n",
    "    else:\n",
    "        print(\"문자열이 아닙니다\")\n",
    "aa"
   ]
  },
  {
   "cell_type": "markdown",
   "id": "5b3c128b",
   "metadata": {
    "id": "5b3c128b"
   },
   "source": [
    "# 1.2. 나누기의 몫과 나머지 출력"
   ]
  },
  {
   "cell_type": "code",
   "execution_count": 3,
   "id": "ae58b45d",
   "metadata": {
    "colab": {
     "base_uri": "https://localhost:8080/"
    },
    "executionInfo": {
     "elapsed": 4033,
     "status": "ok",
     "timestamp": 1647336253905,
     "user": {
      "displayName": "콩치",
      "photoUrl": "https://lh3.googleusercontent.com/a-/AOh14Gh-qB3YReWzs0wlmP_lklQD_JvbfPKdOPAH2LE11w=s64",
      "userId": "04485826023922105592"
     },
     "user_tz": -540
    },
    "id": "ae58b45d",
    "outputId": "40dc3ba6-762b-4862-c073-30cd3e28c6c2"
   },
   "outputs": [
    {
     "name": "stdout",
     "output_type": "stream",
     "text": [
      "나눠질 큰 수를 입력하세요: 1023\n",
      "나눌 작은 수를 입력하세요: 78\n",
      "몫:13, 나머지:9\n"
     ]
    }
   ],
   "source": [
    "b = int(input(\"나눠질 큰 수를 입력하세요: \"))\n",
    "bb = int(input(\"나눌 작은 수를 입력하세요: \"))\n",
    "print(f'몫:{b//bb}, 나머지:{b%bb}')"
   ]
  },
  {
   "cell_type": "markdown",
   "id": "bd037341",
   "metadata": {
    "id": "bd037341"
   },
   "source": [
    "# 1.3. 자릿수 출력"
   ]
  },
  {
   "cell_type": "code",
   "execution_count": 4,
   "id": "ba02ce30",
   "metadata": {
    "colab": {
     "base_uri": "https://localhost:8080/"
    },
    "executionInfo": {
     "elapsed": 3799,
     "status": "ok",
     "timestamp": 1647336257699,
     "user": {
      "displayName": "콩치",
      "photoUrl": "https://lh3.googleusercontent.com/a-/AOh14Gh-qB3YReWzs0wlmP_lklQD_JvbfPKdOPAH2LE11w=s64",
      "userId": "04485826023922105592"
     },
     "user_tz": -540
    },
    "id": "ba02ce30",
    "outputId": "b10b6e5f-bf86-44dc-a92f-5f6c1f45bc86"
   },
   "outputs": [
    {
     "name": "stdout",
     "output_type": "stream",
     "text": [
      "십진수 정수를 입력하세요: 1234567\n",
      "10진수 자릿수: 7, 2진수 자릿수: 21\n"
     ]
    }
   ],
   "source": [
    "c = int(input(\"십진수 정수를 입력하세요: \"))\n",
    "len_c = len(str(c))\n",
    "cc = \"\"\n",
    "while int(c) > 1:\n",
    "    cc += str(c%2)\n",
    "    c //= 2\n",
    "cc += str(1)\n",
    "\n",
    "print(f'10진수 자릿수: {len_c}, 2진수 자릿수: {len(cc)}')"
   ]
  },
  {
   "cell_type": "markdown",
   "id": "d6434c4a",
   "metadata": {
    "id": "d6434c4a"
   },
   "source": [
    "# 1.4. 방정식의 근 구하기"
   ]
  },
  {
   "cell_type": "code",
   "execution_count": 5,
   "id": "63aee85e",
   "metadata": {
    "colab": {
     "base_uri": "https://localhost:8080/"
    },
    "executionInfo": {
     "elapsed": 905,
     "status": "ok",
     "timestamp": 1647336258596,
     "user": {
      "displayName": "콩치",
      "photoUrl": "https://lh3.googleusercontent.com/a-/AOh14Gh-qB3YReWzs0wlmP_lklQD_JvbfPKdOPAH2LE11w=s64",
      "userId": "04485826023922105592"
     },
     "user_tz": -540
    },
    "id": "63aee85e",
    "outputId": "b88b1c6b-dc01-4ff5-c21f-9dafef8e630a"
   },
   "outputs": [
    {
     "name": "stdout",
     "output_type": "stream",
     "text": [
      "x의 근:  [-1/2 + sqrt(5)/2, -sqrt(5)/2 - 1/2]\n",
      "x의 근:  [-1]\n",
      "x의 근:  [-2]\n",
      "x의 근:  [-1/2 - sqrt(7)*I/2, -1/2 + sqrt(7)*I/2]\n"
     ]
    }
   ],
   "source": [
    "def function_solve(a,b,c):\n",
    "    x = symbols('x')\n",
    "    equation = a*x**2 + b*x + c\n",
    "    print(\"x의 근: \",solve(equation))\n",
    "    \n",
    "function_solve(1,1,-1)\n",
    "function_solve(1,2,1)\n",
    "function_solve(0,1,2)\n",
    "function_solve(1,1,2)"
   ]
  },
  {
   "cell_type": "markdown",
   "id": "6b5c871c",
   "metadata": {
    "id": "6b5c871c"
   },
   "source": [
    "# 1.5. 소수를 판별하는 함수"
   ]
  },
  {
   "cell_type": "code",
   "execution_count": 6,
   "id": "cfafce78",
   "metadata": {
    "executionInfo": {
     "elapsed": 4,
     "status": "ok",
     "timestamp": 1647336258597,
     "user": {
      "displayName": "콩치",
      "photoUrl": "https://lh3.googleusercontent.com/a-/AOh14Gh-qB3YReWzs0wlmP_lklQD_JvbfPKdOPAH2LE11w=s64",
      "userId": "04485826023922105592"
     },
     "user_tz": -540
    },
    "id": "cfafce78"
   },
   "outputs": [],
   "source": [
    "def prime_number(num,list_prime):\n",
    "    tf = True\n",
    "    if num == 0:\n",
    "        tf = False\n",
    "    elif num == 1:\n",
    "        tf = False\n",
    "    else:\n",
    "        for i in range(2,int(np.sqrt(num)) +1):\n",
    "            if num % i == 0:\n",
    "                tf = False\n",
    "                break\n",
    "    if tf:\n",
    "        list_prime.append(num)"
   ]
  },
  {
   "cell_type": "markdown",
   "id": "36df8cf9",
   "metadata": {
    "id": "36df8cf9"
   },
   "source": [
    "## (1)소수의 개수 계산"
   ]
  },
  {
   "cell_type": "code",
   "execution_count": 7,
   "id": "03f0e21c",
   "metadata": {
    "colab": {
     "base_uri": "https://localhost:8080/"
    },
    "executionInfo": {
     "elapsed": 747,
     "status": "ok",
     "timestamp": 1647336259341,
     "user": {
      "displayName": "콩치",
      "photoUrl": "https://lh3.googleusercontent.com/a-/AOh14Gh-qB3YReWzs0wlmP_lklQD_JvbfPKdOPAH2LE11w=s64",
      "userId": "04485826023922105592"
     },
     "user_tz": -540
    },
    "id": "03f0e21c",
    "outputId": "4981d319-5725-44ad-9e66-35a05558310b"
   },
   "outputs": [
    {
     "name": "stdout",
     "output_type": "stream",
     "text": [
      "1부터 100까지 소수는 25개\n",
      "1부터 1000까지 소수는 168개\n",
      "1부터 10000까지 소수는 1229개\n",
      "1부터 100000까지 소수는 9592개\n"
     ]
    }
   ],
   "source": [
    "def nmax_prime(nmax, nmin=1):\n",
    "    primes = []\n",
    "    for i in range(nmin, nmax +1):\n",
    "        prime_number(i,primes)\n",
    "    print(f'{nmin}부터 {nmax}까지 소수는 {len(primes)}개')\n",
    "    \n",
    "    return len(primes)\n",
    "\n",
    "for n in [10**2,10**3,10**4,10**5]:\n",
    "    nmax_prime(n)"
   ]
  },
  {
   "cell_type": "markdown",
   "id": "c7f0354b",
   "metadata": {
    "id": "c7f0354b"
   },
   "source": [
    "## (2)구간 안의 소수의 개수"
   ]
  },
  {
   "cell_type": "code",
   "execution_count": 8,
   "id": "fd654f23",
   "metadata": {
    "colab": {
     "base_uri": "https://localhost:8080/"
    },
    "executionInfo": {
     "elapsed": 13370,
     "status": "ok",
     "timestamp": 1647336272709,
     "user": {
      "displayName": "콩치",
      "photoUrl": "https://lh3.googleusercontent.com/a-/AOh14Gh-qB3YReWzs0wlmP_lklQD_JvbfPKdOPAH2LE11w=s64",
      "userId": "04485826023922105592"
     },
     "user_tz": -540
    },
    "id": "fd654f23",
    "outputId": "07c3fb9e-dd2d-4bdd-bb81-8a70ff9da28d"
   },
   "outputs": [
    {
     "name": "stdout",
     "output_type": "stream",
     "text": [
      "2부터 10까지 소수는 4개\n",
      "11부터 100까지 소수는 21개\n",
      "101부터 1000까지 소수는 143개\n",
      "1001부터 10000까지 소수는 1061개\n",
      "10001부터 100000까지 소수는 8363개\n",
      "100001부터 1000000까지 소수는 68906개\n"
     ]
    }
   ],
   "source": [
    "hist_list = {}\n",
    "for k in range(6):\n",
    "    count = nmax_prime(10**(k+1),nmin=10**k+1)\n",
    "    hist_list[k] = count"
   ]
  },
  {
   "cell_type": "code",
   "execution_count": 9,
   "id": "f8a8dba8",
   "metadata": {
    "colab": {
     "base_uri": "https://localhost:8080/",
     "height": 333
    },
    "executionInfo": {
     "elapsed": 1257,
     "status": "ok",
     "timestamp": 1647336273956,
     "user": {
      "displayName": "콩치",
      "photoUrl": "https://lh3.googleusercontent.com/a-/AOh14Gh-qB3YReWzs0wlmP_lklQD_JvbfPKdOPAH2LE11w=s64",
      "userId": "04485826023922105592"
     },
     "user_tz": -540
    },
    "id": "f8a8dba8",
    "outputId": "b4fce198-84ff-406f-cf90-ad49bb39303e"
   },
   "outputs": [
    {
     "data": {
      "text/plain": [
       "Text(0.5, 1.0, '$10^k+1$ to $10^{k+1}$')"
      ]
     },
     "execution_count": 9,
     "metadata": {},
     "output_type": "execute_result"
    },
    {
     "data": {
      "image/png": "[encoded data removed]",
      "text/plain": [
       "<Figure size 432x288 with 1 Axes>"
      ]
     },
     "metadata": {
      "needs_background": "light"
     },
     "output_type": "display_data"
    }
   ],
   "source": [
    "plt.bar(hist_list.keys(),hist_list.values())\n",
    "plt.xlabel('k Values',fontsize=15);plt.xticks(fontsize=15)\n",
    "plt.yscale('log');plt.ylabel('Number',fontsize=15);plt.yticks(fontsize=15)\n",
    "plt.grid(axis='both',linestyle=':')\n",
    "plt.title(r'$10^k+1$ to $10^{k+1}$',fontsize=20)"
   ]
  },
  {
   "cell_type": "markdown",
   "id": "k8GESQ73gvfb",
   "metadata": {
    "id": "k8GESQ73gvfb"
   },
   "source": [
    "# 1.6. 피보나치 수 구하기"
   ]
  },
  {
   "cell_type": "code",
   "execution_count": 10,
   "id": "95a9c857",
   "metadata": {
    "executionInfo": {
     "elapsed": 5,
     "status": "ok",
     "timestamp": 1647336273956,
     "user": {
      "displayName": "콩치",
      "photoUrl": "https://lh3.googleusercontent.com/a-/AOh14Gh-qB3YReWzs0wlmP_lklQD_JvbfPKdOPAH2LE11w=s64",
      "userId": "04485826023922105592"
     },
     "user_tz": -540
    },
    "id": "95a9c857"
   },
   "outputs": [],
   "source": [
    "def fibo(nmax, nmin=0):\n",
    "  fibo_list = np.array([0,1],dtype=np.float64)\n",
    "  while True:\n",
    "    last_num = fibo_list[-1] + fibo_list[-2]\n",
    "    if nmax > last_num:\n",
    "      fibo_list = np.append(fibo_list,last_num)\n",
    "    else:\n",
    "      break\n",
    "  return fibo_list[fibo_list >= nmin]"
   ]
  },
  {
   "cell_type": "markdown",
   "id": "Ku0Fed_5n5yT",
   "metadata": {
    "id": "Ku0Fed_5n5yT"
   },
   "source": [
    "## (1)구간 안의 피보나치 수의 개수"
   ]
  },
  {
   "cell_type": "code",
   "execution_count": 11,
   "id": "IAvZ3Zb1oiP8",
   "metadata": {
    "colab": {
     "base_uri": "https://localhost:8080/"
    },
    "executionInfo": {
     "elapsed": 5,
     "status": "ok",
     "timestamp": 1647336273956,
     "user": {
      "displayName": "콩치",
      "photoUrl": "https://lh3.googleusercontent.com/a-/AOh14Gh-qB3YReWzs0wlmP_lklQD_JvbfPKdOPAH2LE11w=s64",
      "userId": "04485826023922105592"
     },
     "user_tz": -540
    },
    "id": "IAvZ3Zb1oiP8",
    "outputId": "722dbdcd-909f-443e-bdc1-3c69ca901d50"
   },
   "outputs": [
    {
     "name": "stdout",
     "output_type": "stream",
     "text": [
      "k=0일 때 수열의 개수는 6\n",
      "k=1일 때 수열의 개수는 5\n",
      "k=2일 때 수열의 개수는 5\n",
      "k=3일 때 수열의 개수는 4\n",
      "k=4일 때 수열의 개수는 5\n",
      "k=5일 때 수열의 개수는 5\n"
     ]
    }
   ],
   "source": [
    "for kk in range(6):\n",
    "  fibo_num = len(fibo(10**(kk+1),nmin=10**kk))\n",
    "  print(f'k={kk}일 때 수열의 개수는 {fibo_num}')"
   ]
  },
  {
   "cell_type": "markdown",
   "id": "1iLMC6T-p2rE",
   "metadata": {
    "id": "1iLMC6T-p2rE"
   },
   "source": [
    "## (2)인접한 두 피보나치 수의 비, 수렴값 구하기"
   ]
  },
  {
   "cell_type": "code",
   "execution_count": 12,
   "id": "eGOFJJ19pWlH",
   "metadata": {
    "executionInfo": {
     "elapsed": 4,
     "status": "ok",
     "timestamp": 1647336273956,
     "user": {
      "displayName": "콩치",
      "photoUrl": "https://lh3.googleusercontent.com/a-/AOh14Gh-qB3YReWzs0wlmP_lklQD_JvbfPKdOPAH2LE11w=s64",
      "userId": "04485826023922105592"
     },
     "user_tz": -540
    },
    "id": "eGOFJJ19pWlH"
   },
   "outputs": [],
   "source": [
    "i = 0\n",
    "fibo_ratio = np.array([],dtype=np.float64)\n",
    "while True:\n",
    "  fibo_ratio_list = fibo(i,nmin=1)\n",
    "  i += fibo_ratio_list[-1]\n",
    "\n",
    "  if len(fibo_ratio_list) == 101:\n",
    "    fibo_ratio = np.append(fibo_ratio, fibo_ratio_list[-1]/fibo_ratio_list[-2])\n",
    "    break\n",
    "  \n",
    "  elif len(fibo_ratio_list) > 1:\n",
    "    fibo_ratio = np.append(fibo_ratio, fibo_ratio_list[-1]/fibo_ratio_list[-2])"
   ]
  },
  {
   "cell_type": "code",
   "execution_count": 13,
   "id": "N3BE-zh1y2R8",
   "metadata": {
    "colab": {
     "base_uri": "https://localhost:8080/",
     "height": 328
    },
    "executionInfo": {
     "elapsed": 533,
     "status": "ok",
     "timestamp": 1647336274486,
     "user": {
      "displayName": "콩치",
      "photoUrl": "https://lh3.googleusercontent.com/a-/AOh14Gh-qB3YReWzs0wlmP_lklQD_JvbfPKdOPAH2LE11w=s64",
      "userId": "04485826023922105592"
     },
     "user_tz": -540
    },
    "id": "N3BE-zh1y2R8",
    "outputId": "6f38848a-927b-4e46-e1d4-52c9d8b2453e"
   },
   "outputs": [
    {
     "data": {
      "text/plain": [
       "Text(0.5, 1.0, 'Fibonacci number ratio')"
      ]
     },
     "execution_count": 13,
     "metadata": {},
     "output_type": "execute_result"
    },
    {
     "data": {
      "image/png": "[encoded data removed]",
      "text/plain": [
       "<Figure size 432x288 with 1 Axes>"
      ]
     },
     "metadata": {
      "needs_background": "light"
     },
     "output_type": "display_data"
    }
   ],
   "source": [
    "plt.plot(range(1,101),fibo_ratio)\n",
    "plt.xlabel('n Values',fontsize=15);plt.xticks(fontsize=15)\n",
    "plt.ylabel('Ratio',fontsize=15);plt.yticks(fontsize=15)\n",
    "plt.grid(axis='both',linestyle=':')\n",
    "plt.text(40,1.65,f\"limit value: {round(fibo_ratio[-1],4)}\",fontsize=20)\n",
    "plt.title(\"Fibonacci number ratio\",fontsize=20)"
   ]
  },
  {
   "cell_type": "markdown",
   "id": "BPQULh3S03s-",
   "metadata": {
    "id": "BPQULh3S03s-"
   },
   "source": [
    "# 1.7. 완전수 구하기"
   ]
  },
  {
   "cell_type": "code",
   "execution_count": 14,
   "id": "0NGvkooozJ-z",
   "metadata": {
    "executionInfo": {
     "elapsed": 6,
     "status": "ok",
     "timestamp": 1647336274487,
     "user": {
      "displayName": "콩치",
      "photoUrl": "https://lh3.googleusercontent.com/a-/AOh14Gh-qB3YReWzs0wlmP_lklQD_JvbfPKdOPAH2LE11w=s64",
      "userId": "04485826023922105592"
     },
     "user_tz": -540
    },
    "id": "0NGvkooozJ-z"
   },
   "outputs": [],
   "source": [
    "def perfect_number(num):\n",
    "  if num != 1:\n",
    "    div = [1]\n",
    "    for i in range(2,int(np.sqrt(num)) +1):\n",
    "      if num%i == 0:\n",
    "        div.extend([i,num//i])\n",
    "    div.append(num)\n",
    "    if sum(set(div)) == 2*num:\n",
    "      return True, div\n",
    "    else:\n",
    "      return False, div"
   ]
  },
  {
   "cell_type": "markdown",
   "id": "yDPWWKB97epU",
   "metadata": {
    "id": "yDPWWKB97epU"
   },
   "source": [
    "## (1)약수를 계산하는 함수를 작성"
   ]
  },
  {
   "cell_type": "code",
   "execution_count": 15,
   "id": "kb0BvFH83Su6",
   "metadata": {
    "colab": {
     "base_uri": "https://localhost:8080/"
    },
    "executionInfo": {
     "elapsed": 7326,
     "status": "ok",
     "timestamp": 1647336281808,
     "user": {
      "displayName": "콩치",
      "photoUrl": "https://lh3.googleusercontent.com/a-/AOh14Gh-qB3YReWzs0wlmP_lklQD_JvbfPKdOPAH2LE11w=s64",
      "userId": "04485826023922105592"
     },
     "user_tz": -540
    },
    "id": "kb0BvFH83Su6",
    "outputId": "68179fda-9cba-4328-8184-f77750ca7972"
   },
   "outputs": [
    {
     "name": "stdout",
     "output_type": "stream",
     "text": [
      "약수를 구하고 싶은 숫자: 27\n",
      "[1, 3, 9, 27]\n"
     ]
    }
   ],
   "source": [
    "numb = int(input(\"약수를 구하고 싶은 숫자: \"))\n",
    "tf, div_list = perfect_number(numb)\n",
    "print(div_list)"
   ]
  },
  {
   "cell_type": "markdown",
   "id": "JIJFbQfu-aKZ",
   "metadata": {
    "id": "JIJFbQfu-aKZ"
   },
   "source": [
    "## (2)100,000이하의 모든 완전수 출력"
   ]
  },
  {
   "cell_type": "code",
   "execution_count": 16,
   "id": "LyIyG4Ih78-c",
   "metadata": {
    "colab": {
     "base_uri": "https://localhost:8080/"
    },
    "executionInfo": {
     "elapsed": 3408,
     "status": "ok",
     "timestamp": 1647336285208,
     "user": {
      "displayName": "콩치",
      "photoUrl": "https://lh3.googleusercontent.com/a-/AOh14Gh-qB3YReWzs0wlmP_lklQD_JvbfPKdOPAH2LE11w=s64",
      "userId": "04485826023922105592"
     },
     "user_tz": -540
    },
    "id": "LyIyG4Ih78-c",
    "outputId": "74dc1563-9084-4f06-a7b2-5c318adb8d1e"
   },
   "outputs": [
    {
     "name": "stdout",
     "output_type": "stream",
     "text": [
      "[6, 28, 496, 8128]\n"
     ]
    }
   ],
   "source": [
    "perfect_list = []\n",
    "for i in range(2,10**5 +1):\n",
    "  val, list_div = perfect_number(i)\n",
    "  if val:\n",
    "    perfect_list.append(i)\n",
    "print(perfect_list)"
   ]
  },
  {
   "cell_type": "markdown",
   "id": "pru-D64EA2co",
   "metadata": {
    "id": "pru-D64EA2co"
   },
   "source": [
    "# 1.8. datetime 모듈 사용하기"
   ]
  },
  {
   "cell_type": "code",
   "execution_count": 17,
   "id": "Cn9IZYx5-y-_",
   "metadata": {
    "colab": {
     "base_uri": "https://localhost:8080/"
    },
    "executionInfo": {
     "elapsed": 13,
     "status": "ok",
     "timestamp": 1647336285209,
     "user": {
      "displayName": "콩치",
      "photoUrl": "https://lh3.googleusercontent.com/a-/AOh14Gh-qB3YReWzs0wlmP_lklQD_JvbfPKdOPAH2LE11w=s64",
      "userId": "04485826023922105592"
     },
     "user_tz": -540
    },
    "id": "Cn9IZYx5-y-_",
    "outputId": "ba5363e2-07b8-48c2-9823-953b5cebfd45"
   },
   "outputs": [
    {
     "name": "stdout",
     "output_type": "stream",
     "text": [
      "Today is March 15, 2022\n",
      "Current time is 18:46:44\n"
     ]
    }
   ],
   "source": [
    "now = datetime.now()\n",
    "print(\"Today is \"+now.strftime('%B %d, %Y'))\n",
    "print(\"Current time is \"+now.strftime('%H:%M:%S'))"
   ]
  },
  {
   "cell_type": "markdown",
   "id": "HPA7WmH89_HT",
   "metadata": {
    "id": "HPA7WmH89_HT"
   },
   "source": [
    "# 1.9. 알파벳 H 출력하기"
   ]
  },
  {
   "cell_type": "code",
   "execution_count": 18,
   "id": "CKK0kTvxBGxP",
   "metadata": {
    "colab": {
     "base_uri": "https://localhost:8080/"
    },
    "executionInfo": {
     "elapsed": 4292,
     "status": "ok",
     "timestamp": 1647336289490,
     "user": {
      "displayName": "콩치",
      "photoUrl": "https://lh3.googleusercontent.com/a-/AOh14Gh-qB3YReWzs0wlmP_lklQD_JvbfPKdOPAH2LE11w=s64",
      "userId": "04485826023922105592"
     },
     "user_tz": -540
    },
    "id": "CKK0kTvxBGxP",
    "outputId": "e775bbd8-5c89-4e05-d3dd-9d9ec60ca911"
   },
   "outputs": [
    {
     "name": "stdout",
     "output_type": "stream",
     "text": [
      "숫자를 입력하세요: 3\n",
      "***   ***\n",
      "***   ***\n",
      "***   ***\n",
      "*********\n",
      "*********\n",
      "*********\n",
      "***   ***\n",
      "***   ***\n",
      "***   ***\n"
     ]
    }
   ],
   "source": [
    "def print_h(n):\n",
    "  print('*'*n+' '*n+'*'*n)\n",
    "\n",
    "def whi(n):\n",
    "  i = 0\n",
    "  while i != n:\n",
    "    print_h(n)\n",
    "    i += 1\n",
    "\n",
    "def star(n):\n",
    "  i = 0\n",
    "  while i != n:\n",
    "    print('*'*3*n)\n",
    "    i += 1\n",
    "\n",
    "n = int(input(\"숫자를 입력하세요: \"))\n",
    "whi(n);star(n);whi(n)"
   ]
  },
  {
   "cell_type": "markdown",
   "id": "AtDN4ZIvIekz",
   "metadata": {
    "id": "AtDN4ZIvIekz"
   },
   "source": [
    "# 1.10. 자료 읽고 데이터 다루기"
   ]
  },
  {
   "cell_type": "code",
   "execution_count": 19,
   "id": "CQnzQ9JoGasQ",
   "metadata": {
    "executionInfo": {
     "elapsed": 3057,
     "status": "ok",
     "timestamp": 1647336292546,
     "user": {
      "displayName": "콩치",
      "photoUrl": "https://lh3.googleusercontent.com/a-/AOh14Gh-qB3YReWzs0wlmP_lklQD_JvbfPKdOPAH2LE11w=s64",
      "userId": "04485826023922105592"
     },
     "user_tz": -540
    },
    "id": "CQnzQ9JoGasQ"
   },
   "outputs": [],
   "source": [
    "url = 'http://astro.snu.ac.kr/~wkim/PyData/test1.dat'\n",
    "data_list = request.urlopen(url).read().decode('utf-8')\n",
    "data_list = data_list.replace('\\n','\\t').split('\\t')[:-1]"
   ]
  },
  {
   "cell_type": "markdown",
   "id": "3RGxOj9EZZ2G",
   "metadata": {
    "id": "3RGxOj9EZZ2G"
   },
   "source": [
    "## (1)파일 저장"
   ]
  },
  {
   "cell_type": "code",
   "execution_count": 20,
   "id": "Yg2O7SwMLu0h",
   "metadata": {
    "colab": {
     "base_uri": "https://localhost:8080/",
     "height": 424
    },
    "executionInfo": {
     "elapsed": 14,
     "status": "ok",
     "timestamp": 1647336292548,
     "user": {
      "displayName": "콩치",
      "photoUrl": "https://lh3.googleusercontent.com/a-/AOh14Gh-qB3YReWzs0wlmP_lklQD_JvbfPKdOPAH2LE11w=s64",
      "userId": "04485826023922105592"
     },
     "user_tz": -540
    },
    "id": "Yg2O7SwMLu0h",
    "outputId": "fe1e1762-ff96-4443-8d76-978813f8b5fd"
   },
   "outputs": [],
   "source": [
    "data = np.array(data_list).reshape(-1,3)\n",
    "data = pd.DataFrame(data,columns=['x','a','b']) ; data.index += 1\n",
    "data = data.apply(pd.to_numeric)\n",
    "data.to_csv(\"test1_dat.csv\",encoding='CP949')"
   ]
  },
  {
   "cell_type": "markdown",
   "id": "QEKN56sTc4C9",
   "metadata": {
    "id": "QEKN56sTc4C9"
   },
   "source": [
    "## (2)10의 배수인 자료 저장"
   ]
  },
  {
   "cell_type": "code",
   "execution_count": 21,
   "id": "cWYDtLt5crNr",
   "metadata": {
    "colab": {
     "base_uri": "https://localhost:8080/",
     "height": 424
    },
    "executionInfo": {
     "elapsed": 13,
     "status": "ok",
     "timestamp": 1647336292549,
     "user": {
      "displayName": "콩치",
      "photoUrl": "https://lh3.googleusercontent.com/a-/AOh14Gh-qB3YReWzs0wlmP_lklQD_JvbfPKdOPAH2LE11w=s64",
      "userId": "04485826023922105592"
     },
     "user_tz": -540
    },
    "id": "cWYDtLt5crNr",
    "outputId": "378a10d2-e379-45c7-8a66-39062575d4b8"
   },
   "outputs": [],
   "source": [
    "output = data[(data.index%10 == 0)].reset_index(drop=True); output.index += 1\n",
    "output.to_csv(\"output_dat.csv\",encoding='CP949')"
   ]
  },
  {
   "cell_type": "markdown",
   "id": "x7xhsNf-h8Bq",
   "metadata": {
    "id": "x7xhsNf-h8Bq"
   },
   "source": [
    "## (3)그래프 그리기"
   ]
  },
  {
   "cell_type": "code",
   "execution_count": 22,
   "id": "b5qD95sVf8jp",
   "metadata": {
    "colab": {
     "base_uri": "https://localhost:8080/",
     "height": 322
    },
    "executionInfo": {
     "elapsed": 704,
     "status": "ok",
     "timestamp": 1647336293240,
     "user": {
      "displayName": "콩치",
      "photoUrl": "https://lh3.googleusercontent.com/a-/AOh14Gh-qB3YReWzs0wlmP_lklQD_JvbfPKdOPAH2LE11w=s64",
      "userId": "04485826023922105592"
     },
     "user_tz": -540
    },
    "id": "b5qD95sVf8jp",
    "outputId": "1a8048b7-33d2-4173-d34f-a64da8084ea8"
   },
   "outputs": [
    {
     "data": {
      "text/plain": [
       "<matplotlib.legend.Legend at 0x1e16b363700>"
      ]
     },
     "execution_count": 22,
     "metadata": {},
     "output_type": "execute_result"
    },
    {
     "data": {
      "image/png": "[encoded data removed]",
      "text/plain": [
       "<Figure size 432x288 with 1 Axes>"
      ]
     },
     "metadata": {
      "needs_background": "light"
     },
     "output_type": "display_data"
    }
   ],
   "source": [
    "plt.plot(data['x'],data['a']*data['x'],'-',label=r'$ax$')\n",
    "plt.plot(data['x'],data['b']*data['x'],':',label=r'$bx$')\n",
    "plt.plot(data['x'],data['a']*data['b']*data['x'],'--',label=r'$abx$')\n",
    "\n",
    "plt.xlabel(\"time\",fontsize=15);plt.ylabel(\"value\",fontsize=15)\n",
    "plt.xticks(rotation=-30,fontsize=15);plt.yticks(fontsize=15)\n",
    "plt.legend(fontsize=15)"
   ]
  },
  {
   "cell_type": "markdown",
   "id": "1frx69iFkHso",
   "metadata": {
    "id": "1frx69iFkHso"
   },
   "source": [
    "# 1.11. 로지스틱 사상(초기값은 $x_0=0.1$)"
   ]
  },
  {
   "cell_type": "code",
   "execution_count": 23,
   "id": "5NTZlztBiBMZ",
   "metadata": {
    "executionInfo": {
     "elapsed": 5,
     "status": "ok",
     "timestamp": 1647336293241,
     "user": {
      "displayName": "콩치",
      "photoUrl": "https://lh3.googleusercontent.com/a-/AOh14Gh-qB3YReWzs0wlmP_lklQD_JvbfPKdOPAH2LE11w=s64",
      "userId": "04485826023922105592"
     },
     "user_tz": -540
    },
    "id": "5NTZlztBiBMZ"
   },
   "outputs": [],
   "source": [
    "def logistic(xn=0.1,r=1):\n",
    "  x_nplus = r*xn*(1-xn)\n",
    "  return x_nplus"
   ]
  },
  {
   "cell_type": "markdown",
   "id": "3odO6ZxUl_kX",
   "metadata": {
    "id": "3odO6ZxUl_kX"
   },
   "source": [
    "## (1)r=2.5이고 n=[0,1000]일 때를 함수로 그리고 $x_{1000}$값 출력"
   ]
  },
  {
   "cell_type": "code",
   "execution_count": 24,
   "id": "0fmSMf1gl_US",
   "metadata": {
    "executionInfo": {
     "elapsed": 4,
     "status": "ok",
     "timestamp": 1647336293241,
     "user": {
      "displayName": "콩치",
      "photoUrl": "https://lh3.googleusercontent.com/a-/AOh14Gh-qB3YReWzs0wlmP_lklQD_JvbfPKdOPAH2LE11w=s64",
      "userId": "04485826023922105592"
     },
     "user_tz": -540
    },
    "id": "0fmSMf1gl_US"
   },
   "outputs": [],
   "source": [
    "logi_list = [0.1] ; x = 0.1 ; i = 0\n",
    "while i < 1000:\n",
    "  x = logistic(xn=x,r=2.5)\n",
    "  logi_list.append(x)\n",
    "  i += 1"
   ]
  },
  {
   "cell_type": "code",
   "execution_count": 25,
   "id": "6y8EJnFvryTl",
   "metadata": {
    "colab": {
     "base_uri": "https://localhost:8080/",
     "height": 326
    },
    "executionInfo": {
     "elapsed": 742,
     "status": "ok",
     "timestamp": 1647336293979,
     "user": {
      "displayName": "콩치",
      "photoUrl": "https://lh3.googleusercontent.com/a-/AOh14Gh-qB3YReWzs0wlmP_lklQD_JvbfPKdOPAH2LE11w=s64",
      "userId": "04485826023922105592"
     },
     "user_tz": -540
    },
    "id": "6y8EJnFvryTl",
    "outputId": "c5b1fc0c-ca9a-469a-bf9f-be0d247d7c1b"
   },
   "outputs": [
    {
     "data": {
      "text/plain": [
       "(array([0.57, 0.58, 0.59, 0.6 , 0.61, 0.62, 0.63]),\n",
       " [Text(0, 0, ''),\n",
       "  Text(0, 0, ''),\n",
       "  Text(0, 0, ''),\n",
       "  Text(0, 0, ''),\n",
       "  Text(0, 0, ''),\n",
       "  Text(0, 0, ''),\n",
       "  Text(0, 0, '')])"
      ]
     },
     "execution_count": 25,
     "metadata": {},
     "output_type": "execute_result"
    },
    {
     "data": {
      "image/png": "[encoded data removed]",
      "text/plain": [
       "<Figure size 432x288 with 1 Axes>"
      ]
     },
     "metadata": {
      "needs_background": "light"
     },
     "output_type": "display_data"
    }
   ],
   "source": [
    "plt.plot(range(1001),logi_list)\n",
    "plt.text(10,0.605,f\"n=1000, value={logi_list[1000]}\",fontsize=13)\n",
    "plt.xlim(-1,50);plt.ylim(0.575,0.625)\n",
    "plt.xlabel(\"n\",fontsize=15);plt.ylabel(\"value\",fontsize=15)\n",
    "plt.xticks(fontsize=15);plt.yticks(fontsize=15)"
   ]
  },
  {
   "cell_type": "markdown",
   "id": "pyDqmLkVt-Dt",
   "metadata": {
    "id": "pyDqmLkVt-Dt"
   },
   "source": [
    "## (2)r=3.25이고 n=[0,1000]일 때를 함수로 그리고 반복값 출력"
   ]
  },
  {
   "cell_type": "code",
   "execution_count": 26,
   "id": "TETR34q6sAUl",
   "metadata": {
    "executionInfo": {
     "elapsed": 9,
     "status": "ok",
     "timestamp": 1647336293980,
     "user": {
      "displayName": "콩치",
      "photoUrl": "https://lh3.googleusercontent.com/a-/AOh14Gh-qB3YReWzs0wlmP_lklQD_JvbfPKdOPAH2LE11w=s64",
      "userId": "04485826023922105592"
     },
     "user_tz": -540
    },
    "id": "TETR34q6sAUl"
   },
   "outputs": [],
   "source": [
    "logi_list = [0.1] ; x = 0.1 ; i = 0\n",
    "while i < 1000:\n",
    "  x = logistic(xn=x,r=3.25)\n",
    "  logi_list.append(x)\n",
    "  i += 1"
   ]
  },
  {
   "cell_type": "code",
   "execution_count": 27,
   "id": "EnPV4ANHuESk",
   "metadata": {
    "colab": {
     "base_uri": "https://localhost:8080/",
     "height": 326
    },
    "executionInfo": {
     "elapsed": 9,
     "status": "ok",
     "timestamp": 1647336293980,
     "user": {
      "displayName": "콩치",
      "photoUrl": "https://lh3.googleusercontent.com/a-/AOh14Gh-qB3YReWzs0wlmP_lklQD_JvbfPKdOPAH2LE11w=s64",
      "userId": "04485826023922105592"
     },
     "user_tz": -540
    },
    "id": "EnPV4ANHuESk",
    "outputId": "d422222e-e59a-4b75-9366-b61acf3fded2"
   },
   "outputs": [
    {
     "data": {
      "text/plain": [
       "(array([0. , 0.1, 0.2, 0.3, 0.4, 0.5, 0.6, 0.7, 0.8, 0.9]),\n",
       " [Text(0, 0, ''),\n",
       "  Text(0, 0, ''),\n",
       "  Text(0, 0, ''),\n",
       "  Text(0, 0, ''),\n",
       "  Text(0, 0, ''),\n",
       "  Text(0, 0, ''),\n",
       "  Text(0, 0, ''),\n",
       "  Text(0, 0, ''),\n",
       "  Text(0, 0, ''),\n",
       "  Text(0, 0, '')])"
      ]
     },
     "execution_count": 27,
     "metadata": {},
     "output_type": "execute_result"
    },
    {
     "data": {
      "image/png": "[encoded data removed]",
      "text/plain": [
       "<Figure size 432x288 with 1 Axes>"
      ]
     },
     "metadata": {
      "needs_background": "light"
     },
     "output_type": "display_data"
    }
   ],
   "source": [
    "plt.plot(range(1001),logi_list)\n",
    "plt.xlim(-1,200)\n",
    "plt.xlabel(\"n\",fontsize=15);plt.ylabel(\"value\",fontsize=15)\n",
    "plt.xticks(fontsize=15);plt.yticks(fontsize=15)"
   ]
  },
  {
   "cell_type": "markdown",
   "id": "7d8eCizO3sKf",
   "metadata": {
    "id": "7d8eCizO3sKf"
   },
   "source": [
    "## n=100 이후 값이 반복하는 것으로 생각 됨"
   ]
  },
  {
   "cell_type": "code",
   "execution_count": 28,
   "id": "01_oadMA20Rg",
   "metadata": {
    "colab": {
     "base_uri": "https://localhost:8080/"
    },
    "executionInfo": {
     "elapsed": 8,
     "status": "ok",
     "timestamp": 1647336293981,
     "user": {
      "displayName": "콩치",
      "photoUrl": "https://lh3.googleusercontent.com/a-/AOh14Gh-qB3YReWzs0wlmP_lklQD_JvbfPKdOPAH2LE11w=s64",
      "userId": "04485826023922105592"
     },
     "user_tz": -540
    },
    "id": "01_oadMA20Rg",
    "outputId": "68915773-96ed-4d72-abce-deee82a562ae"
   },
   "outputs": [
    {
     "name": "stdout",
     "output_type": "stream",
     "text": [
      "반복되는 값:  {0.4952651682454746, 0.8124271394468331}\n"
     ]
    }
   ],
   "source": [
    "print(\"반복되는 값: \",set(logi_list[100:]))"
   ]
  },
  {
   "cell_type": "markdown",
   "id": "_r1KJRH2x2cX",
   "metadata": {
    "id": "_r1KJRH2x2cX"
   },
   "source": [
    "## (3)r=3.5이고 n=[0,1000]일 때를 함수로 그리고 반복값 출력"
   ]
  },
  {
   "cell_type": "code",
   "execution_count": 29,
   "id": "F2T086gdxL3T",
   "metadata": {
    "executionInfo": {
     "elapsed": 7,
     "status": "ok",
     "timestamp": 1647336293981,
     "user": {
      "displayName": "콩치",
      "photoUrl": "https://lh3.googleusercontent.com/a-/AOh14Gh-qB3YReWzs0wlmP_lklQD_JvbfPKdOPAH2LE11w=s64",
      "userId": "04485826023922105592"
     },
     "user_tz": -540
    },
    "id": "F2T086gdxL3T"
   },
   "outputs": [],
   "source": [
    "logi_list = [0.1] ; x = 0.1 ; i = 0\n",
    "while i < 1000:\n",
    "  x = logistic(xn=x,r=3.5)\n",
    "  logi_list.append(x)\n",
    "  i += 1"
   ]
  },
  {
   "cell_type": "code",
   "execution_count": 30,
   "id": "6_uGuCnyx7OL",
   "metadata": {
    "colab": {
     "base_uri": "https://localhost:8080/",
     "height": 329
    },
    "executionInfo": {
     "elapsed": 607,
     "status": "ok",
     "timestamp": 1647336294581,
     "user": {
      "displayName": "콩치",
      "photoUrl": "https://lh3.googleusercontent.com/a-/AOh14Gh-qB3YReWzs0wlmP_lklQD_JvbfPKdOPAH2LE11w=s64",
      "userId": "04485826023922105592"
     },
     "user_tz": -540
    },
    "id": "6_uGuCnyx7OL",
    "outputId": "43bef049-4880-4d9f-f961-6d237620641b"
   },
   "outputs": [
    {
     "data": {
      "text/plain": [
       "(array([0. , 0.1, 0.2, 0.3, 0.4, 0.5, 0.6, 0.7, 0.8, 0.9, 1. ]),\n",
       " [Text(0, 0, ''),\n",
       "  Text(0, 0, ''),\n",
       "  Text(0, 0, ''),\n",
       "  Text(0, 0, ''),\n",
       "  Text(0, 0, ''),\n",
       "  Text(0, 0, ''),\n",
       "  Text(0, 0, ''),\n",
       "  Text(0, 0, ''),\n",
       "  Text(0, 0, ''),\n",
       "  Text(0, 0, ''),\n",
       "  Text(0, 0, '')])"
      ]
     },
     "execution_count": 30,
     "metadata": {},
     "output_type": "execute_result"
    },
    {
     "data": {
      "image/png": "[encoded data removed]",
      "text/plain": [
       "<Figure size 432x288 with 1 Axes>"
      ]
     },
     "metadata": {
      "needs_background": "light"
     },
     "output_type": "display_data"
    }
   ],
   "source": [
    "plt.plot(range(1001),logi_list)\n",
    "plt.xlim(-1,200)\n",
    "plt.xlabel(\"n\",fontsize=15);plt.ylabel(\"value\",fontsize=15)\n",
    "plt.xticks(fontsize=15);plt.yticks(fontsize=15)"
   ]
  },
  {
   "cell_type": "markdown",
   "id": "UMViX9co4xkq",
   "metadata": {
    "id": "UMViX9co4xkq"
   },
   "source": [
    "## n=100 이후 값이 반복하는 것으로 생각 됨"
   ]
  },
  {
   "cell_type": "code",
   "execution_count": 31,
   "id": "1KHanljg4zSG",
   "metadata": {
    "colab": {
     "base_uri": "https://localhost:8080/"
    },
    "executionInfo": {
     "elapsed": 5,
     "status": "ok",
     "timestamp": 1647336294581,
     "user": {
      "displayName": "콩치",
      "photoUrl": "https://lh3.googleusercontent.com/a-/AOh14Gh-qB3YReWzs0wlmP_lklQD_JvbfPKdOPAH2LE11w=s64",
      "userId": "04485826023922105592"
     },
     "user_tz": -540
    },
    "id": "1KHanljg4zSG",
    "outputId": "8023ea74-cda5-4860-f6be-a46ee43c92fc"
   },
   "outputs": [
    {
     "name": "stdout",
     "output_type": "stream",
     "text": [
      "반복되는 값:  {0.8269407065914387, 0.5008842103072179, 0.38281968301732416, 0.8749972636024641}\n"
     ]
    }
   ],
   "source": [
    "print(\"반복되는 값: \",set(logi_list[100:]))"
   ]
  },
  {
   "cell_type": "markdown",
   "id": "1ULLNQ02x-ud",
   "metadata": {
    "id": "1ULLNQ02x-ud"
   },
   "source": [
    "## (3)r=[2,4]구간에서 r이 $10^{-4}$씩 변화하며 n=[1000,1100]일 때를 함수로 그리기"
   ]
  },
  {
   "cell_type": "code",
   "execution_count": 32,
   "id": "f_TdFpxLx8NT",
   "metadata": {
    "executionInfo": {
     "elapsed": 28501,
     "status": "ok",
     "timestamp": 1647336323079,
     "user": {
      "displayName": "콩치",
      "photoUrl": "https://lh3.googleusercontent.com/a-/AOh14Gh-qB3YReWzs0wlmP_lklQD_JvbfPKdOPAH2LE11w=s64",
      "userId": "04485826023922105592"
     },
     "user_tz": -540
    },
    "id": "f_TdFpxLx8NT"
   },
   "outputs": [],
   "source": [
    "r_list = np.arange(2,4.00001,10**(-4))\n",
    "logi_dic = {}\n",
    "for rr in r_list:\n",
    "  logi_list = [] ; x = 0.1 ; i = 0\n",
    "  while i < 1100:\n",
    "    x = logistic(xn=x,r=rr)\n",
    "    if i >= 999:\n",
    "      logi_list.append(x)\n",
    "    i += 1\n",
    "  logi_dic[rr] = np.array(logi_list)"
   ]
  },
  {
   "cell_type": "code",
   "execution_count": 33,
   "id": "f0peFf6ay8p_",
   "metadata": {
    "colab": {
     "base_uri": "https://localhost:8080/",
     "height": 326
    },
    "executionInfo": {
     "elapsed": 59879,
     "status": "ok",
     "timestamp": 1647336382950,
     "user": {
      "displayName": "콩치",
      "photoUrl": "https://lh3.googleusercontent.com/a-/AOh14Gh-qB3YReWzs0wlmP_lklQD_JvbfPKdOPAH2LE11w=s64",
      "userId": "04485826023922105592"
     },
     "user_tz": -540
    },
    "id": "f0peFf6ay8p_",
    "outputId": "0f802f16-e27c-4fee-9d3b-f439097a5ccb"
   },
   "outputs": [
    {
     "data": {
      "text/plain": [
       "(array([-0.2,  0. ,  0.2,  0.4,  0.6,  0.8,  1. ,  1.2]),\n",
       " [Text(0, 0, ''),\n",
       "  Text(0, 0, ''),\n",
       "  Text(0, 0, ''),\n",
       "  Text(0, 0, ''),\n",
       "  Text(0, 0, ''),\n",
       "  Text(0, 0, ''),\n",
       "  Text(0, 0, ''),\n",
       "  Text(0, 0, '')])"
      ]
     },
     "execution_count": 33,
     "metadata": {},
     "output_type": "execute_result"
    },
    {
     "data": {
      "image/png": "[encoded data removed]",
      "text/plain": [
       "<Figure size 432x288 with 1 Axes>"
      ]
     },
     "metadata": {
      "needs_background": "light"
     },
     "output_type": "display_data"
    }
   ],
   "source": [
    "x_axis = np.ones(101)\n",
    "for keys in logi_dic.keys():\n",
    "  plt.plot(x_axis*keys,logi_dic[keys],linestyle='none',marker='o',color='black',markersize=0.1)\n",
    "\n",
    "plt.xlim(1.9,4.1)\n",
    "plt.xlabel(\"r\",fontsize=15);plt.ylabel(\"value\",fontsize=15)\n",
    "plt.xticks(fontsize=15);plt.yticks(fontsize=15)"
   ]
  }
 ],
 "metadata": {
  "colab": {
   "collapsed_sections": [],
   "name": "class_2_homework.ipynb",
   "provenance": []
  },
  "kernelspec": {
   "display_name": "Python 3 (ipykernel)",
   "language": "python",
   "name": "python3"
  },
  "language_info": {
   "codemirror_mode": {
    "name": "ipython",
    "version": 3
   },
   "file_extension": ".py",
   "mimetype": "text/x-python",
   "name": "python",
   "nbconvert_exporter": "python",
   "pygments_lexer": "ipython3",
   "version": "3.9.5"
  }
 },
 "nbformat": 4,
 "nbformat_minor": 5
}
