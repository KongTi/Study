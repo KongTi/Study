{
 "cells": [
  {
   "cell_type": "code",
   "execution_count": 1,
   "id": "a891a251",
   "metadata": {
    "scrolled": true
   },
   "outputs": [
    {
     "name": "stdout",
     "output_type": "stream",
     "text": [
      "-요일별 매출\n",
      "토요일 : 141000원\n",
      "일요일 : 132000원\n",
      "\n",
      "-커피 종류별 평균 판매량(갯수)\n",
      "americano : 14.0개\n",
      "latte : 14.0개\n",
      "capuccino : 17.0개\n",
      "\n",
      "-커피 종류별 판매액\n",
      "americano\n",
      "토요일 : 25000원\n",
      "일요일 : 45000원\n",
      "\n",
      "latte\n",
      "토요일 : 39000원\n",
      "일요일 : 45000원\n",
      "\n",
      "capuccino\n",
      "토요일 : 77000원\n",
      "일요일 : 42000원\n",
      "\n"
     ]
    }
   ],
   "source": [
    "# [문제1]\n",
    "\n",
    "coffee = ['americano','latte','capuccino']\n",
    "price = [2500,3000,3500]\n",
    "sat = [10,13,22]\n",
    "sun = [18,15,12]\n",
    "\n",
    "# 요일별 매출\n",
    "sat_coffee,sun_coffee = [],[]\n",
    "ave_coffee = []\n",
    "for i,j,k in zip(price,sat,sun):\n",
    "    sat_coffee.append(i*j)\n",
    "    sun_coffee.append(i*k)\n",
    "    ave_coffee.append((j+k)/2)\n",
    "\n",
    "print('-요일별 매출\\n토요일 : {}원\\n일요일 : {}원\\n'.format(sum(sat_coffee),sum(sun_coffee)))\n",
    "\n",
    "# 커피 종류별 평균 판매량(갯수)\n",
    "print('-커피 종류별 평균 판매량(갯수)\\n{0} : {3}개\\n{1} : {4}개\\n{2} : {5}개\\n'.format(*coffee,*ave_coffee))\n",
    "\n",
    "# 커피 종류별 판매액\n",
    "print('-커피 종류별 판매액')\n",
    "for x,y,z in zip(coffee,sat_coffee,sun_coffee):\n",
    "    print('{}\\n토요일 : {}원\\n일요일 : {}원\\n'.format(x,y,z))\n"
   ]
  }
 ],
 "metadata": {
  "kernelspec": {
   "display_name": "Python 3 (ipykernel)",
   "language": "python",
   "name": "python3"
  },
  "language_info": {
   "codemirror_mode": {
    "name": "ipython",
    "version": 3
   },
   "file_extension": ".py",
   "mimetype": "text/x-python",
   "name": "python",
   "nbconvert_exporter": "python",
   "pygments_lexer": "ipython3",
   "version": "3.7.7"
  }
 },
 "nbformat": 4,
 "nbformat_minor": 5
}
