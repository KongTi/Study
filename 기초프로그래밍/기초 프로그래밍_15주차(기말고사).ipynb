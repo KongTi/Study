{
 "cells": [
  {
   "cell_type": "code",
   "execution_count": 1,
   "id": "b453243e",
   "metadata": {},
   "outputs": [],
   "source": [
    "import os\n",
    "\n",
    "#path= os.path.dirname(os.path.abspath(__file__)) # 현재 파일 경로 얻기\n",
    "path = \"C:/Users/hjm01/Desktop/대학원/AI를 위한 기초 프로그래밍\"\n",
    "os.chdir(path) # 경로 변경\n",
    "\n",
    "file_list = os.listdir() # 파일 리스트 얻기\n",
    "file_txt = [file for file in file_list if file.endswith(\"yesterday.txt\")][0] # .txt로 끝나는 텍스트 파일만 필터링\n",
    "txt = open(file_txt,'r').read() # 파일 불러오기"
   ]
  },
  {
   "cell_type": "code",
   "execution_count": 2,
   "id": "da427752",
   "metadata": {},
   "outputs": [
    {
     "name": "stdout",
     "output_type": "stream",
     "text": [
      "제거할 문자 입력 : .,\n",
      "Yesterday\n",
      "yesterday\n",
      "yesterday\n",
      "yesterday\n",
      "Yesterday\n",
      "yesterday\n",
      "yesterday\n",
      "Yesterday\n",
      "yesterday\n",
      "Number of a Word 'Y[y]esterday' : 9\n"
     ]
    }
   ],
   "source": [
    "# [문제 1]\n",
    "\n",
    "\n",
    "txt = txt.split()\n",
    "count = {}\n",
    "exc = str(input(\"제거할 문자 입력 : \"))\n",
    "\n",
    "for i in txt:\n",
    "    for j in exc:\n",
    "        i = i.strip(j)\n",
    "    if (i == str(\"yesterday\"))or(i == str(\"Yesterday\")):\n",
    "        print(i)\n",
    "    i = i.lower()\n",
    "    count[i] = count.get(i,0) + 1\n",
    "\n",
    "\n",
    "print(\"Number of a Word 'Y[y]esterday' : {}\".format(count['yesterday']))"
   ]
  },
  {
   "cell_type": "code",
   "execution_count": 3,
   "id": "b9352d2e",
   "metadata": {},
   "outputs": [
    {
     "name": "stdout",
     "output_type": "stream",
     "text": [
      "1번째 시퀀스 입력 : TGTC\n",
      "2번째 시퀀스 입력 : GTA\n",
      "3번째 시퀀스 입력 : CAGG\n",
      "\n",
      "for loop\n",
      "['TGC', 'TGA', 'TAC', 'TAG', 'TAG', 'GTC', 'GTA', 'GAC', 'TGC', 'TGA', 'TAC', 'TAG', 'TAG', 'CGA', 'CTA', 'CTG', 'CTG', 'CAG', 'CAG']\n",
      "\n",
      "comprehension\n",
      "['TGC', 'TGA', 'TAC', 'TAG', 'TAG', 'GTC', 'GTA', 'GAC', 'TGC', 'TGA', 'TAC', 'TAG', 'TAG', 'CGA', 'CTA', 'CTG', 'CTG', 'CAG', 'CAG']\n"
     ]
    }
   ],
   "source": [
    "# [문제 2]\n",
    "\n",
    "first = str(input(\"1번째 시퀀스 입력 : \"))\n",
    "second = str(input(\"2번째 시퀀스 입력 : \"))\n",
    "third = str(input(\"3번째 시퀀스 입력 : \"))\n",
    "\n",
    "print(\"\\nfor loop\")\n",
    "list_1,result_1 = [], []\n",
    "\n",
    "for i in first:\n",
    "    for j in second:\n",
    "        for k in third:\n",
    "            list_1.append(i+j+k)\n",
    "\n",
    "for element in list_1:\n",
    "    order = set(element)\n",
    "    if len(order) == 3:\n",
    "        result_1.append(element)\n",
    "\n",
    "print(result_1)\n",
    "\n",
    "print(\"\\ncomprehension\")\n",
    "list_2 = [i+j+k for k in third for j in second for i in first]\n",
    "\n",
    "result_2 = [element for element in list_1 if len(set(element)) == 3]\n",
    "print(result_2)"
   ]
  },
  {
   "cell_type": "code",
   "execution_count": 4,
   "id": "9acd39d5",
   "metadata": {},
   "outputs": [
    {
     "name": "stdout",
     "output_type": "stream",
     "text": [
      "URL 입력 : https://www.ncbi.nlm.nih.gov/genbank/samplerecord/\n",
      "1 gatcctccat atacaacggt atctccacct caggtttaga tctcaacaac ggaaccattg\n",
      "61 ccgacatgag acagttaggt atcgtcgaga gttacaagct aaaacgagca gtagtcagct\n",
      "121 ctgcatctga agccgctgaa gttctactaa gggtggataa catcatccgt gcaagaccaa\n",
      "181 gaaccgccaa tagacaacat atgtaacata tttaggatat acctcgaaaa taataaaccg\n",
      "241 ccacactgtc attattataa ttagaaacag aacgcaaaaa ttatccacta tataattcaa\n",
      "301 agacgcgaaa aaaaaagaac aacgcgtcat agaacttttg gcaattcgcg tcacaaataa\n",
      "361 attttggcaa cttatgtttc ctcttcgagc agtactcgag ccctgtctca agaatgtaat\n",
      "421 aatacccatc gtaggtatgg ttaaagatag catctccaca acctcaaagc tccttgccga\n",
      "481 gagtcgccct cctttgtcga gtaattttca cttttcatat gagaacttat tttcttattc\n",
      "541 tttactctca catcctgtag tgattgacac tgcaacagcc accatcacta gaagaacaga\n",
      "601 acaattactt aatagaaaaa ttatatcttc ctcgaaacga tttcctgctt ccaacatcta\n",
      "661 cgtatatcaa gaagcattca cttaccatga cacagcttca gatttcatta ttgctgacag\n",
      "721 ctactatatc actactccat ctagtagtgg ccacgcccta tgaggcatat cctatcggaa\n",
      "781 aacaataccc cccagtggca agagtcaatg aatcgtttac atttcaaatt tccaatgata\n",
      "841 cctataaatc gtctgtagac aagacagctc aaataacata caattgcttc gacttaccga\n",
      "901 gctggctttc gtttgactct agttctagaa cgttctcagg tgaaccttct tctgacttac\n",
      "961 tatctgatgc gaacaccacg ttgtatttca atgtaatact cgagggtacg gactctgccg\n",
      "1021 acagcacgtc tttgaacaat acataccaat ttgttgttac aaaccgtcca tccatctcgc\n",
      "1081 tatcgtcaga tttcaatcta ttggcgttgt taaaaaacta tggttatact aacggcaaaa\n",
      "1141 acgctctgaa actagatcct aatgaagtct tcaacgtgac ttttgaccgt tcaatgttca\n",
      "1201 ctaacgaaga atccattgtg tcgtattacg gacgttctca gttgtataat gcgccgttac\n",
      "1261 ccaattggct gttcttcgat tctggcgagt tgaagtttac tgggacggca ccggtgataa\n",
      "1321 actcggcgat tgctccagaa acaagctaca gttttgtcat catcgctaca gacattgaag\n",
      "1381 gattttctgc cgttgaggta gaattcgaat tagtcatcgg ggctcaccag ttaactacct\n",
      "1441 ctattcaaaa tagtttgata atcaacgtta ctgacacagg taacgtttca tatgacttac\n",
      "1501 ctctaaacta tgtttatctc gatgacgatc ctatttcttc tgataaattg ggttctataa\n",
      "1561 acttattgga tgctccagac tgggtggcat tagataatgc taccatttcc gggtctgtcc\n",
      "1621 cagatgaatt actcggtaag aactccaatc ctgccaattt ttctgtgtcc atttatgata\n",
      "1681 cttatggtga tgtgatttat ttcaacttcg aagttgtctc cacaacggat ttgtttgcca\n",
      "1741 ttagttctct tcccaatatt aacgctacaa ggggtgaatg gttctcctac tattttttgc\n",
      "1801 cttctcagtt tacagactac gtgaatacaa acgtttcatt agagtttact aattcaagcc\n",
      "1861 aagaccatga ctgggtgaaa ttccaatcat ctaatttaac attagctgga gaagtgccca\n",
      "1921 agaatttcga caagctttca ttaggtttga aagcgaacca aggttcacaa tctcaagagc\n",
      "1981 tatattttaa catcattggc atggattcaa agataactca ctcaaaccac agtgcgaatg\n",
      "2041 caacgtccac aagaagttct caccactcca cctcaacaag ttcttacaca tcttctactt\n",
      "2101 acactgcaaa aatttcttct acctccgctg ctgctacttc ttctgctcca gcagcgctgc\n",
      "2161 cagcagccaa taaaacttca tctcacaata aaaaagcagt agcaattgcg tgcggtgttg\n",
      "2221 ctatcccatt aggcgttatc ctagtagctc tcatttgctt cctaatattc tggagacgca\n",
      "2281 gaagggaaaa tccagacgat gaaaacttac cgcatgctat tagtggacct gatttgaata\n",
      "2341 atcctgcaaa taaaccaaat caagaaaacg ctacaccttt gaacaacccc tttgatgatg\n",
      "2401 atgcttcctc gtacgatgat acttcaatag caagaagatt ggctgctttg aacactttga\n",
      "2461 aattggataa ccactctgcc actgaatctg atatttccag cgtggatgaa aagagagatt\n",
      "2521 ctctatcagg tatgaataca tacaatgatc agttccaatc ccaaagtaaa gaagaattat\n",
      "2581 tagcaaaacc cccagtacag cctccagaga gcccgttctt tgacccacag aataggtctt\n",
      "2641 cttctgtgta tatggatagt gaaccagcag taaataaatc ctggcgatat actggcaacc\n",
      "2701 tgtcaccagt ctctgatatt gtcagagaca gttacggatc acaaaaaact gttgatacag\n",
      "2761 aaaaactttt cgatttagaa gcaccagaga aggaaaaacg tacgtcaagg gatgtcacta\n",
      "2821 tgtcttcact ggacccttgg aacagcaata ttagcccttc tcccgtaaga aaatcagtaa\n",
      "2881 caccatcacc atataacgta acgaagcatc gtaaccgcca cttacaaaat attcaagact\n",
      "2941 ctcaaagcgg taaaaacgga atcactccca caacaatgtc aacttcatct tctgacgatt\n",
      "3001 ttgttccggt taaagatggt gaaaattttt gctgggtcca tagcatggaa ccagacagaa\n",
      "3061 gaccaagtaa gaaaaggtta gtagattttt caaataagag taatgtcaat gttggtcaag\n",
      "3121 ttaaggacat tcacggacgc atcccagaaa tgctgtgatt atacgcaacg atattttgct\n",
      "3181 taattttatt ttcctgtttt attttttatt agtggtttac agatacccta tattttattt\n",
      "3241 agtttttata cttagagaca tttaatttta attccattct tcaaatttca tttttgcact\n",
      "3301 taaaacaaag atccaaaaat gctctcgccc tcttcatatt gagaatacac tccattcaaa\n",
      "3361 attttgtcgt caccgctgat taatttttca ctaaactgat gaataatcaa aggccccacg\n",
      "3421 tcagaaccga ctaaagaagt gagttttatt ttaggaggtt gaaaaccatt attgtctggt\n",
      "3481 aaattttcat cttcttgaca tttaacccag tttgaatccc tttcaatttc tgctttttcc\n",
      "3541 tccaaactat cgaccctcct gtttctgtcc aacttatgtc ctagttccaa ttcgatcgca\n",
      "3601 ttaataactg cttcaaatgt tattgtgtca tcgttgactt taggtaattt ctccaaatgc\n",
      "3661 ataatcaaac tatttaagga agatcggaat tcgtcgaaca cttcagtttc cgtaatgatc\n",
      "3721 tgatcgtctt tatccacatg ttgtaattca ctaaaatcta aaacgtattt ttcaatgcat\n",
      "3781 aaatcgttct ttttattaat aatgcagatg gaaaatctgt aaacgtgcgt taatttagaa\n",
      "3841 agaacatcca gtataagttc ttctatatag tcaattaaag caggatgcct attaatggga\n",
      "3901 acgaactgcg gcaagttgaa tgactggtaa gtagtgtagt cgaatgactg aggtgggtat\n",
      "3961 acatttctat aaaataaaat caaattaatg tagcatttta agtataccct cagccacttc\n",
      "4021 tctacccatc tattcataaa gctgacgcaa cgattactat tttttttttc ttcttggatc\n",
      "4081 tcagtcgtcg caaaaacgta taccttcttt ttccgacctt ttttttagct ttctggaaaa\n",
      "4141 gtttatatta gttaaacagg gtctagtctt agtgtgaaag ctagtggttt cgattgactg\n",
      "4201 atattaagaa agtggaaatt aaattagtag tgtagacgta tatgcatatg tatttctcgc\n",
      "4261 ctgtttatgt ttctacgtac ttttgattta tagcaagggg aaaagaaata catactattt\n",
      "4321 tttggtaaag gtgaaagcat aatgtaaaag ctagaataaa atggacgaaa taaagagagg\n",
      "4381 cttagttcat cttttttcca aaaagcaccc aatgataata actaaaatga aaaggatttg\n",
      "4441 ccatctgtca gcaacatcag ttgtgtgagc aataataaaa tcatcacctc cgttgccttt\n",
      "4501 agcgcgtttg tcgtttgtat cttccgtaat tttagtctta tcaatgggaa tcataaattt\n",
      "4561 tccaatgaat tagcaatttc gtccaattct ttttgagctt cttcatattt gctttggaat\n",
      "4621 tcttcgcact tcttttccca ttcatctctt tcttcttcca aagcaacgat ccttctaccc\n",
      "4681 atttgctcag agttcaaatc ggcctctttc agtttatcca ttgcttcctt cagtttggct\n",
      "4741 tcactgtctt ctagctgttg ttctagatcc tggtttttct tggtgtagtt ctcattatta\n",
      "4801 gatctcaagt tattggagtc ttcagccaat tgctttgtat cagacaattg actctctaac\n",
      "4861 ttctccactt cactgtcgag ttgctcgttt ttagcggaca aagatttaat ctcgttttct\n",
      "4921 ttttcagtgt tagattgctc taattctttg agctgttctc tcagctcctc atatttttct\n"
     ]
    }
   ],
   "source": [
    "# [문제 3]\n",
    "\n",
    "import urllib.request\n",
    "import re\n",
    "url = str(input(\"URL 입력 : \"))\n",
    "page = urllib.request.urlopen(url)\n",
    "text = page.read().decode(\"utf8\")\n",
    "\n",
    "find = re.findall(r\"(\\d+\\s[a,c,g,t]+\\s[a,c,g,t]+\\s[a,c,g,t]+\\s[a,c,g,t]+\\s[a,c,g,t]+\\s[a,c,g,t]+)\",text)\n",
    "\n",
    "for line in find:\n",
    "    print(line)"
   ]
  },
  {
   "cell_type": "code",
   "execution_count": 5,
   "id": "97736d73",
   "metadata": {
    "scrolled": false
   },
   "outputs": [
    {
     "name": "stdout",
     "output_type": "stream",
     "text": [
      "학번을 입력 : 20198934\n",
      "검색 정보(n-이름,a-주소,c-차번호) : c\n",
      "82NA9035\n"
     ]
    }
   ],
   "source": [
    "# [문제 4]\n",
    "\n",
    "id = [\"20198800\", \"20199906\", \"20198801\", \"20198934\", \"20198903\"]\n",
    "name = [\"KIM H.G.\", \"SONG D.G.\", \"LEE S.Y.\", \"TAE J.A.\", \"PARK C.H.\"]\n",
    "adress = [\"seoul\", \"daegu\", \"pusan\", \"sokcho\", \"incheon\"]\n",
    "car = [\"23AH6780\", \"78EF1204\", \"49MA4582\", \"82NA9035\", \"99TM8023\"]\n",
    "\n",
    "id_name = dict(zip(id,name))\n",
    "name_adress = dict(zip(name,adress))\n",
    "adress_car = dict(zip(adress,car))\n",
    "\n",
    "search_id = str(input(\"학번을 입력 : \"))\n",
    "search_item = str(input(\"검색 정보(n-이름,a-주소,c-차번호) : \"))\n",
    "\n",
    "if search_item == \"n\":\n",
    "    print(id_name[search_id])\n",
    "elif search_item == \"a\":\n",
    "    print(name_adress[id_name[search_id]])\n",
    "elif search_item == \"c\":\n",
    "    print(adress_car[name_adress[id_name[search_id]]])\n",
    "else:\n",
    "    print(\"ERROR,목록중에서 선택해주세요\")"
   ]
  }
 ],
 "metadata": {
  "kernelspec": {
   "display_name": "Python 3 (ipykernel)",
   "language": "python",
   "name": "python3"
  },
  "language_info": {
   "codemirror_mode": {
    "name": "ipython",
    "version": 3
   },
   "file_extension": ".py",
   "mimetype": "text/x-python",
   "name": "python",
   "nbconvert_exporter": "python",
   "pygments_lexer": "ipython3",
   "version": "3.7.7"
  }
 },
 "nbformat": 4,
 "nbformat_minor": 5
}
