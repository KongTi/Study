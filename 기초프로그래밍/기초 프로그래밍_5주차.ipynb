{
 "cells": [
  {
   "cell_type": "code",
   "execution_count": 1,
   "id": "d8582abb",
   "metadata": {},
   "outputs": [
    {
     "name": "stdout",
     "output_type": "stream",
     "text": [
      "coffee 이름 : americano\n",
      "['americano']\n",
      "coffee 이름 : latte\n",
      "['americano', 'latte']\n",
      "coffee 이름 : hazelnut\n",
      "['americano', 'latte', 'hazelnut']\n"
     ]
    }
   ],
   "source": [
    "# [문제1]\n",
    "\n",
    "i = 0\n",
    "list = []\n",
    "while i < 3 :\n",
    "    list.append(input(\"coffee 이름 : \"))\n",
    "    print(list)\n",
    "    i += 1"
   ]
  },
  {
   "cell_type": "code",
   "execution_count": 2,
   "id": "6d1e1daa",
   "metadata": {},
   "outputs": [
    {
     "name": "stdout",
     "output_type": "stream",
     "text": [
      "americano 주문 수 : 2\n",
      "[2]\n",
      "latte 주문 수 : 3\n",
      "[2, 3]\n",
      "hazelnut 주문 수 : 0\n",
      "[2, 3, 0]\n",
      "<주문하신 커피 리스트>\n",
      "americano\n",
      "americano\n",
      "latte\n",
      "latte\n",
      "latte\n"
     ]
    }
   ],
   "source": [
    "# [문제2]\n",
    "\n",
    "num_list = []\n",
    "coffee_list = ['americano','latte','hazelnut']\n",
    "for i in coffee_list:\n",
    "    num_list.append(int(input(i+\" 주문 수 : \")))\n",
    "    print(num_list)\n",
    "\n",
    "print(\"<주문하신 커피 리스트>\")\n",
    "for coffee,num in zip(coffee_list,num_list):\n",
    "    for i in range(num):\n",
    "        print(coffee)"
   ]
  },
  {
   "cell_type": "code",
   "execution_count": 3,
   "id": "dec1ae59",
   "metadata": {},
   "outputs": [
    {
     "name": "stdout",
     "output_type": "stream",
     "text": [
      "<난수발생>\n",
      "[7, 8, 6, 8, 73, 3, 7, 87, 11, 49]\n",
      "259\n"
     ]
    }
   ],
   "source": [
    "# [문제3]\n",
    "\n",
    "from random import randint, choice\n",
    "print(\"<난수발생>\")\n",
    "number = [randint(0,100) for i in range(10)]\n",
    "print(number)\n",
    "print(sum(number))"
   ]
  },
  {
   "cell_type": "code",
   "execution_count": 4,
   "id": "97109af3",
   "metadata": {},
   "outputs": [
    {
     "name": "stdout",
     "output_type": "stream",
     "text": [
      "<DNA 염기서열 AGCT>\n",
      "C\n",
      "A\n",
      "T\n",
      "A\n",
      "A\n",
      "G\n",
      "A\n",
      "T\n",
      "C\n",
      "T\n"
     ]
    }
   ],
   "source": [
    "# [문제4]\n",
    "\n",
    "DNA = ['A','G','C','T']\n",
    "print(\"<DNA 염기서열 AGCT>\")\n",
    "for i in [randint(0,3) for i in range(10)]:\n",
    "    print(DNA[i])"
   ]
  }
 ],
 "metadata": {
  "kernelspec": {
   "display_name": "Python 3 (ipykernel)",
   "language": "python",
   "name": "python3"
  },
  "language_info": {
   "codemirror_mode": {
    "name": "ipython",
    "version": 3
   },
   "file_extension": ".py",
   "mimetype": "text/x-python",
   "name": "python",
   "nbconvert_exporter": "python",
   "pygments_lexer": "ipython3",
   "version": "3.7.7"
  }
 },
 "nbformat": 4,
 "nbformat_minor": 5
}
