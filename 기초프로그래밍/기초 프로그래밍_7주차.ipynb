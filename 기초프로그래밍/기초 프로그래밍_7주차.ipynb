{
 "cells": [
  {
   "cell_type": "code",
   "execution_count": 1,
   "id": "a93100eb",
   "metadata": {
    "scrolled": true
   },
   "outputs": [
    {
     "name": "stdout",
     "output_type": "stream",
     "text": [
      "\n",
      "주문 수량을 입력하세요 : 3\n",
      "\n",
      "<메뉴번호>\n",
      "Americano : 0\n",
      "Latte : 1\n",
      "Cappuccino : 2\n",
      "\n",
      "주문번호 : 0\n",
      "\n",
      "주문번호 : 1\n",
      "\n",
      "주문번호 : 1\n",
      "\n",
      "<주문수량>\n",
      "Americano : 1잔\n",
      "Latte : 2잔\n",
      "Cappuccino : 0잔\n",
      "\n",
      "<결제금액>\n",
      "8500원\n"
     ]
    }
   ],
   "source": [
    "# [문제1]\n",
    "\n",
    "coffee = ['americano','latte','capuccino']\n",
    "price = [2500,3000,3500]\n",
    "\n",
    "order_list = [0,0,0]\n",
    "\n",
    "def order_coffee(num):\n",
    "    order_list[num] += 1\n",
    "    return order_list\n",
    "\n",
    "def bill(list):\n",
    "    return sum([i * j for i, j in zip(price, list)])\n",
    "\n",
    "count = int(input(\"\\n주문 수량을 입력하세요 : \"))\n",
    "\n",
    "print(\"\\n<메뉴번호>\\nAmericano : 0\\nLatte : 1\\nCappuccino : 2\")\n",
    "\n",
    "i = 0\n",
    "while i < count:\n",
    "    number = int(input(\"\\n주문번호 : \"))\n",
    "    if number > 2:\n",
    "        print(\"다시 입력해주세요\")\n",
    "        continue\n",
    "    else:\n",
    "        order_coffee(number)\n",
    "    i += 1\n",
    "\n",
    "print(\"\\n<주문수량>\\nAmericano : {}잔\\nLatte : {}잔\\nCappuccino : {}잔\".format(*order_list))\n",
    "print(\"\\n<결제금액>\\n{}원\".format(bill(order_list)))\n"
   ]
  }
 ],
 "metadata": {
  "kernelspec": {
   "display_name": "Python 3 (ipykernel)",
   "language": "python",
   "name": "python3"
  },
  "language_info": {
   "codemirror_mode": {
    "name": "ipython",
    "version": 3
   },
   "file_extension": ".py",
   "mimetype": "text/x-python",
   "name": "python",
   "nbconvert_exporter": "python",
   "pygments_lexer": "ipython3",
   "version": "3.7.7"
  }
 },
 "nbformat": 4,
 "nbformat_minor": 5
}
