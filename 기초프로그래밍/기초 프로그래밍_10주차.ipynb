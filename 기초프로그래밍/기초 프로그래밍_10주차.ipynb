{
 "cells": [
  {
   "cell_type": "code",
   "execution_count": 1,
   "id": "594ed64c",
   "metadata": {
    "scrolled": true
   },
   "outputs": [
    {
     "name": "stdout",
     "output_type": "stream",
     "text": [
      "{1: 'Yesterday', 2: 'all', 3: 'my', 4: 'troubles', 5: 'seemed', 6: 'so', 7: 'far', 8: 'away', 9: 'Now', 10: 'it', 11: 'looks', 12: 'as', 13: 'though', 14: \"they're\", 15: 'here', 16: 'to', 17: 'stay', 18: 'Oh,', 19: 'I', 20: 'believe', 21: 'in', 22: 'yesterday', 23: 'Suddenly', 24: \"I'm\", 25: 'not', 26: 'half', 27: 'the', 28: 'man', 29: 'I', 30: 'used', 31: 'to', 32: 'be', 33: \"There's\", 34: 'a', 35: 'shadow', 36: 'hanging', 37: 'over', 38: 'me', 39: 'Oh,', 40: 'yesterday', 41: 'came', 42: 'suddenly', 43: 'Why', 44: 'she', 45: 'had', 46: 'to', 47: 'go,', 48: 'I', 49: \"don't\", 50: 'know,', 51: 'she', 52: \"wouldn't\", 53: 'say', 54: 'I', 55: 'said', 56: 'something', 57: 'wrong,', 58: 'now', 59: 'I', 60: 'long', 61: 'for', 62: 'yesterday', 63: 'Yesterday', 64: 'love', 65: 'was', 66: 'such', 67: 'an', 68: 'easy', 69: 'game', 70: 'to', 71: 'play', 72: 'Now', 73: 'I', 74: 'need', 75: 'a', 76: 'place', 77: 'to', 78: 'hide', 79: 'away', 80: 'Oh,', 81: 'I', 82: 'believe', 83: 'in', 84: 'yesterday', 85: 'Why', 86: 'she', 87: 'had', 88: 'to', 89: 'go,', 90: 'I', 91: \"don't\", 92: 'know,', 93: 'she', 94: \"wouldn't\", 95: 'say', 96: 'I', 97: 'said', 98: 'something', 99: 'wrong,', 100: 'now', 101: 'I', 102: 'long', 103: 'for', 104: 'yesterday', 105: 'Yesterday', 106: 'love', 107: 'was', 108: 'such', 109: 'an', 110: 'easy', 111: 'game', 112: 'to', 113: 'play', 114: 'Now', 115: 'I', 116: 'need', 117: 'a', 118: 'place', 119: 'to', 120: 'hide', 121: 'away', 122: 'Oh,', 123: 'I', 124: 'believe', 125: 'in', 126: 'yesterday', 127: 'Mm', 128: 'mm', 129: 'mm', 130: 'mm', 131: 'mm', 132: 'mm', 133: 'mm'}\n",
      "{'Yesterday': 105, 'all': 2, 'my': 3, 'troubles': 4, 'seemed': 5, 'so': 6, 'far': 7, 'away': 121, 'Now': 114, 'it': 10, 'looks': 11, 'as': 12, 'though': 13, \"they're\": 14, 'here': 15, 'to': 119, 'stay': 17, 'Oh,': 122, 'I': 123, 'believe': 124, 'in': 125, 'yesterday': 126, 'Suddenly': 23, \"I'm\": 24, 'not': 25, 'half': 26, 'the': 27, 'man': 28, 'used': 30, 'be': 32, \"There's\": 33, 'a': 117, 'shadow': 35, 'hanging': 36, 'over': 37, 'me': 38, 'came': 41, 'suddenly': 42, 'Why': 85, 'she': 93, 'had': 87, 'go,': 89, \"don't\": 91, 'know,': 92, \"wouldn't\": 94, 'say': 95, 'said': 97, 'something': 98, 'wrong,': 99, 'now': 100, 'long': 102, 'for': 103, 'love': 106, 'was': 107, 'such': 108, 'an': 109, 'easy': 110, 'game': 111, 'play': 113, 'need': 116, 'place': 118, 'hide': 120, 'Mm': 127, 'mm': 133}\n"
     ]
    }
   ],
   "source": [
    "import os\n",
    "\n",
    "#path= os.path.dirname(os.path.abspath(__file__)) # 현재 파일 경로 얻기\n",
    "path = \"C:/Users/hjm01/Desktop/대학원/AI를 위한 기초 프로그래밍\"\n",
    "os.chdir(path) # 경로 변경\n",
    "\n",
    "file_list = os.listdir() # 파일 리스트 얻기\n",
    "file_txt = [file for file in file_list if file.endswith(\"yesterday.txt\")][0] # .txt로 끝나는 텍스트 파일만 필터링\n",
    "txt = open(file_txt,'r').readlines() # 파일 불러오기\n",
    "\n",
    "# [문제 1]\n",
    "key = 0 ; dic = {}\n",
    "for i in txt:\n",
    "    ch_list = i.split()\n",
    "    for j in ch_list:\n",
    "        key += 1\n",
    "        dic[key] = j.strip('.')\n",
    "print(dic)\n",
    "\n",
    "# [문제 2]\n",
    "key1 = 0 ; dic1 = {}\n",
    "for i in txt:\n",
    "    ch_list = i.split()\n",
    "    for j in ch_list:\n",
    "        key1 += 1\n",
    "        dic1[j.strip('.')] = key1\n",
    "print(dic1)\n"
   ]
  }
 ],
 "metadata": {
  "kernelspec": {
   "display_name": "Python 3 (ipykernel)",
   "language": "python",
   "name": "python3"
  },
  "language_info": {
   "codemirror_mode": {
    "name": "ipython",
    "version": 3
   },
   "file_extension": ".py",
   "mimetype": "text/x-python",
   "name": "python",
   "nbconvert_exporter": "python",
   "pygments_lexer": "ipython3",
   "version": "3.7.7"
  }
 },
 "nbformat": 4,
 "nbformat_minor": 5
}
