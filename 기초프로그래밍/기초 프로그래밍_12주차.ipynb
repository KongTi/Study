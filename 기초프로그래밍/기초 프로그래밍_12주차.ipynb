{
 "cells": [
  {
   "cell_type": "code",
   "execution_count": 1,
   "id": "272ba176",
   "metadata": {
    "scrolled": true
   },
   "outputs": [
    {
     "name": "stdout",
     "output_type": "stream",
     "text": [
      "<For문>\n",
      "C = [[5, 15, 16, 18], [20, 10, 17, 3], [21, 59, 9, 29]]\n",
      "D = [[1, 7, -4, -8], [-12, 4, 3, 1], [5, 51, -9, -13]]\n",
      "\n",
      "<리스트 컴프리헨션>\n",
      "C = [[5, 15, 16, 18], [20, 10, 17, 3], [21, 59, 9, 29]]\n",
      "D = [[1, 7, -4, -8], [-12, 4, 3, 1], [5, 51, -9, -13]]\n"
     ]
    }
   ],
   "source": [
    "# [문제 1]\n",
    "\n",
    "A = [[3,11,6,5],[4,7,10,2],[13,55,0,8]]\n",
    "B = [[2,4,10,13],[16,3,7,1],[8,4,9,21]]\n",
    "\n",
    "# for문\n",
    "C,D = [],[]\n",
    "for i in range(len(A)):\n",
    "    C.append([]);D.append([])\n",
    "\n",
    "for ii,x in enumerate(zip(A,B)):\n",
    "    for xx in zip(*x):\n",
    "        C[ii].append(sum(xx))\n",
    "        D[ii].append(xx[0]-xx[1])\n",
    "\n",
    "print(\"<For문>\")\n",
    "print(\"C =\",C)\n",
    "print(\"D =\",D)\n",
    "\n",
    "# 리스트 컴프리헨션\n",
    "CC = [[sum(yy) for yy in zip(*y)] for y in zip(A,B)]\n",
    "DD = [[(yy[0]-yy[1]) for yy in zip(*y)] for y in zip(A,B)]\n",
    "print(\"\\n<리스트 컴프리헨션>\")\n",
    "print(\"C =\",CC)\n",
    "print(\"D =\",DD)\n"
   ]
  }
 ],
 "metadata": {
  "kernelspec": {
   "display_name": "Python 3 (ipykernel)",
   "language": "python",
   "name": "python3"
  },
  "language_info": {
   "codemirror_mode": {
    "name": "ipython",
    "version": 3
   },
   "file_extension": ".py",
   "mimetype": "text/x-python",
   "name": "python",
   "nbconvert_exporter": "python",
   "pygments_lexer": "ipython3",
   "version": "3.7.7"
  }
 },
 "nbformat": 4,
 "nbformat_minor": 5
}
