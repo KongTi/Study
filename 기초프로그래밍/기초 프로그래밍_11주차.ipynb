{
 "cells": [
  {
   "cell_type": "code",
   "execution_count": 1,
   "id": "1a072628",
   "metadata": {
    "scrolled": true
   },
   "outputs": [
    {
     "name": "stdout",
     "output_type": "stream",
     "text": [
      "{'yesterday': 9, 'all': 1, 'my': 1, 'troubles': 1, 'seemed': 1, 'so': 1, 'far': 1, 'away': 3, 'now': 5, 'it': 1, 'looks': 1, 'as': 1, 'though': 1, \"they're\": 1, 'here': 1, 'to': 8, 'stay': 1, 'oh,': 4, 'i': 12, 'believe': 3, 'in': 3, 'suddenly': 2, \"i'm\": 1, 'not': 1, 'half': 1, 'the': 1, 'man': 1, 'used': 1, 'be': 1, \"there's\": 1, 'a': 3, 'shadow': 1, 'hanging': 1, 'over': 1, 'me': 1, 'came': 1, 'why': 2, 'she': 4, 'had': 2, 'go,': 2, \"don't\": 2, 'know,': 2, \"wouldn't\": 2, 'say': 2, 'said': 2, 'something': 2, 'wrong,': 2, 'long': 2, 'for': 2, 'love': 2, 'was': 2, 'such': 2, 'an': 2, 'easy': 2, 'game': 2, 'play': 2, 'need': 2, 'place': 2, 'hide': 2, 'mm': 7}\n"
     ]
    }
   ],
   "source": [
    "import os\n",
    "\n",
    "#path= os.path.dirname(os.path.abspath(__file__)) # 현재 파일 경로 얻기\n",
    "path = \"C:/Users/hjm01/Desktop/대학원/AI를 위한 기초 프로그래밍\"\n",
    "os.chdir(path) # 경로 변경\n",
    "\n",
    "file_list = os.listdir() # 파일 리스트 얻기\n",
    "file_txt = [file for file in file_list if file.endswith(\"yesterday.txt\")][0] # .txt로 끝나는 텍스트 파일만 필터링\n",
    "txt = open(file_txt,'r').read() # 파일 불러오기\n",
    "\n",
    "# [문제 1]\n",
    "\n",
    "txt = txt.lower().split()\n",
    "count = {}\n",
    "\n",
    "for i in txt:\n",
    "    i = i.strip('.')\n",
    "    count[i] = count.get(i,0) + 1\n",
    "\n",
    "print(count)\n"
   ]
  }
 ],
 "metadata": {
  "kernelspec": {
   "display_name": "Python 3 (ipykernel)",
   "language": "python",
   "name": "python3"
  },
  "language_info": {
   "codemirror_mode": {
    "name": "ipython",
    "version": 3
   },
   "file_extension": ".py",
   "mimetype": "text/x-python",
   "name": "python",
   "nbconvert_exporter": "python",
   "pygments_lexer": "ipython3",
   "version": "3.7.7"
  }
 },
 "nbformat": 4,
 "nbformat_minor": 5
}
